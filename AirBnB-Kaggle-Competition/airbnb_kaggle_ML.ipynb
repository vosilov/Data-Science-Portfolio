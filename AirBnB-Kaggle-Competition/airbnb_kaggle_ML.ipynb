{
 "cells": [
  {
   "cell_type": "markdown",
   "metadata": {
    "collapsed": true
   },
   "source": [
    "The ETL part of the analysis can be found here:\n",
    "https://github.com/vosilov/Data-Science-Portfolio/blob/master/AirBnB-Kaggle-Competition/airbnb_kaggle_ETL.ipynb\n",
    "The data is saved in an hdf5 file, which we will now load and start the predictive analysis. Let's first do all the imports:"
   ]
  },
  {
   "cell_type": "code",
   "execution_count": 1,
   "metadata": {
    "collapsed": false
   },
   "outputs": [],
   "source": [
    "import pandas as pd\n",
    "import numpy as np\n",
    "from scipy.sparse import csc_matrix\n",
    "from sklearn.model_selection import train_test_split, GridSearchCV, cross_val_score\n",
    "from sklearn.preprocessing import LabelEncoder, StandardScaler, LabelBinarizer\n",
    "from sklearn.linear_model import LogisticRegression\n",
    "from sklearn.ensemble import RandomForestClassifier, AdaBoostClassifier\n",
    "from sklearn.tree import DecisionTreeClassifier\n",
    "from sklearn.metrics import classification_report, accuracy_score, make_scorer\n",
    "from sklearn.pipeline import Pipeline, make_pipeline\n",
    "from sklearn.decomposition import PCA\n",
    "import matplotlib.pyplot as plt \n",
    "import seaborn as sns\n",
    "import xgboost as xgb\n",
    "from mlxtend.classifier import StackingClassifier\n",
    "from sklearn.dummy import DummyClassifier"
   ]
  },
  {
   "cell_type": "markdown",
   "metadata": {},
   "source": [
    "Now we load the data from the hdf5 file saved earlier: "
   ]
  },
  {
   "cell_type": "code",
   "execution_count": 2,
   "metadata": {
    "collapsed": true
   },
   "outputs": [],
   "source": [
    "trainDF = pd.read_hdf('airbnb_ready.h5', 'train_df')\n",
    "testDF = pd.read_hdf('airbnb_ready.h5', 'test_df')"
   ]
  },
  {
   "cell_type": "markdown",
   "metadata": {},
   "source": [
    "Now we need to, first, use `LabelEncoder` to label the categories of the output variable __`country_destination`__. For computational efficiency we can convert the data into sparse matrices. According to the sklearn documentation:\n",
    "> _As a rule of thumb you can consider that if the sparsity ratio is greater than 90% you can probably benefit from sparse formats._"
   ]
  },
  {
   "cell_type": "code",
   "execution_count": 3,
   "metadata": {
    "collapsed": false
   },
   "outputs": [
    {
     "name": "stdout",
     "output_type": "stream",
     "text": [
      "input sparsity ratio: 0.9332431644005321\n"
     ]
    }
   ],
   "source": [
    "# Check sparsity:\n",
    "def sparsity_ratio(X):\n",
    "    return 1.0 - np.count_nonzero(X) / float(X.shape[0] * X.shape[1])\n",
    "print(\"input sparsity ratio:\", sparsity_ratio(trainDF))\n",
    "\n",
    "sparse_testDF = csc_matrix(testDF.values)\n",
    "X = csc_matrix(trainDF.iloc[:, 1:].values)\n",
    "y = trainDF.iloc[:, 0]\n",
    "le = LabelEncoder()\n",
    "y = le.fit_transform(y.values)"
   ]
  },
  {
   "cell_type": "markdown",
   "metadata": {},
   "source": [
    "Then, after converting the data to sparse matrices, we split the training data into train/test(validation) sets:"
   ]
  },
  {
   "cell_type": "code",
   "execution_count": 4,
   "metadata": {
    "collapsed": true
   },
   "outputs": [],
   "source": [
    "X_train, X_test, y_train, y_test = train_test_split(X, y, test_size=0.2,\n",
    "                                                    random_state=1)"
   ]
  },
  {
   "cell_type": "code",
   "execution_count": 5,
   "metadata": {
    "collapsed": false
   },
   "outputs": [],
   "source": [
    "trainDF = 0\n",
    "testDF = 0\n",
    "X = 0\n",
    "y = 0\n",
    "# to save some memory"
   ]
  },
  {
   "cell_type": "markdown",
   "metadata": {},
   "source": [
    "### Logistic Regession"
   ]
  },
  {
   "cell_type": "markdown",
   "metadata": {},
   "source": [
    "Let's first fit a Logistic Regression and take a look at the 5x3 nested cross-validation score. Nested cross validation is recommended to use when selecting among competing models and simultaneously tuning their parameters in order to avoid overfitting the training data. The score we get out of a nested cross validation is a reliable estimate of how a tuned model would perform when given an unseen data."
   ]
  },
  {
   "cell_type": "code",
   "execution_count": 34,
   "metadata": {
    "collapsed": false
   },
   "outputs": [
    {
     "name": "stdout",
     "output_type": "stream",
     "text": [
      "Cross validated accuracy: 0.696 +/- 0.002\n"
     ]
    }
   ],
   "source": [
    "logreg = LogisticRegression(random_state=0, n_jobs=-1)\n",
    "pipe_lr = make_pipeline(StandardScaler(with_mean=0), logreg)\n",
    "\n",
    "choiceofc = [10 ** c for c in np.arange(-4, 3)]\n",
    "param_grid = {'logisticregression__penalty': ['l1', 'l2'],\n",
    "              'logisticregression__C': choiceofc}\n",
    "\n",
    "logreg_gs = GridSearchCV(estimator=pipe_lr, param_grid=param_grid,\n",
    "                         scoring='accuracy', cv=3, n_jobs=-1)\n",
    "logreg_scores = cross_val_score(logreg_gs, X_train, y_train,\n",
    "                                scoring='accuracy', cv=5, n_jobs=-1)\n",
    "\n",
    "print('Cross validated accuracy: %.3f +/- %.3f' %\n",
    "      (np.mean(logreg_scores), np.std(logreg_scores)))"
   ]
  },
  {
   "cell_type": "markdown",
   "metadata": {},
   "source": [
    "The accuracy of a tuned Logistic Regression would be almost 70% when given new data."
   ]
  },
  {
   "cell_type": "markdown",
   "metadata": {},
   "source": [
    "### Random Forest"
   ]
  },
  {
   "cell_type": "markdown",
   "metadata": {},
   "source": [
    "Next, we try a Random Forest classifier and output the mean 5x3 nested cross-validation scores, along with their standard deviation. Typically, the higher the number of trees (`n_estimators` parameter) in the forest the better the performance at the cost of increased number of computations. Here, I choose `n_estimators` = 1500. The parameter that we can think of tuning using a grid search is the maximum number of features in each tree, `max_features`."
   ]
  },
  {
   "cell_type": "code",
   "execution_count": 38,
   "metadata": {
    "collapsed": false
   },
   "outputs": [
    {
     "name": "stdout",
     "output_type": "stream",
     "text": [
      "5x3 Nested cross-validation Random Forest accuracy: 0.703 +/- 0.001\n"
     ]
    }
   ],
   "source": [
    "forest = RandomForestClassifier(n_estimators=1500, oob_score=1, n_jobs=-1,\n",
    "                                warm_start=1, verbose=1, random_state=1)\n",
    "\n",
    "param_grid = {'max_features': ['sqrt', 'log2', 0.1]}\n",
    "forest_gs = GridSearchCV(estimator=forest, param_grid=param_grid,\n",
    "                         scoring='accuracy', cv=3, n_jobs=3)\n",
    "forest_scores = cross_val_score(forest_gs, X_train, y_train,\n",
    "                                scoring='accuracy', cv=5, n_jobs=5)\n",
    "\n",
    "print('5x3 Nested cross-validation Random Forest accuracy: %.3f +/- %.3f' %\n",
    "      (np.mean(forest_scores), np.std(forest_scores)))"
   ]
  },
  {
   "cell_type": "markdown",
   "metadata": {},
   "source": [
    "The Random Forest model with an estimated accuracy of 0.703 performs a bit better than the Logistic Regression model we saw earlier with an accuracy of 0.696."
   ]
  },
  {
   "cell_type": "markdown",
   "metadata": {},
   "source": [
    "### AdaBoost"
   ]
  },
  {
   "cell_type": "markdown",
   "metadata": {},
   "source": [
    "Next, we try an AdaBoost classifier, again, with a 5x3 nested cross-validation. "
   ]
  },
  {
   "cell_type": "code",
   "execution_count": 101,
   "metadata": {
    "collapsed": false
   },
   "outputs": [
    {
     "name": "stdout",
     "output_type": "stream",
     "text": [
      "5x5 Nested Cross-validation AdaBoost scores: [ 0.68029111  0.6820452   0.68430858  0.67860772  0.68631936]\n",
      "Accuracy: 0.682 (+/- 0.006)\n"
     ]
    }
   ],
   "source": [
    "adaboost = AdaBoostClassifier(n_estimators=100, learning_rate=0.1,\n",
    "                              random_state=1)\n",
    "\n",
    "param_grid = {'n_estimators': [100, 400, 800],\n",
    "              'learning_rate': [0.001, 0.01, 0.1, 1, 10]}\n",
    "adaboost_gs = GridSearchCV(adaboost, param_grid, scoring='accuracy', cv=5,\n",
    "                           n_jobs=-1)\n",
    "adaboost_scores = cross_val_score(adaboost_gs, X_train, y_train,\n",
    "                                  scoring='accuracy', cv=5, n_jobs=-1)\n",
    "\n",
    "print(\"5x5 Nested cross-validation AdaBoost accuracy: {}\".format(adaboost_scores))\n",
    "print(\"Accuracy: {0.3f} (+/- {0.3f})\".format(adaboost_scores.mean(),\n",
    "                                             adaboost_scores.std() * 2))"
   ]
  },
  {
   "cell_type": "markdown",
   "metadata": {},
   "source": [
    "This model performs a bit worse than the previous two. Typically, decision stumps (decision tree model with max depth of 1) are used as base estimators in the AdaBoost ensemble. Next, we do just that, to compare with the AdaBoost performance above."
   ]
  },
  {
   "cell_type": "code",
   "execution_count": 42,
   "metadata": {
    "collapsed": false
   },
   "outputs": [
    {
     "name": "stdout",
     "output_type": "stream",
     "text": [
      "5x3 Nested cross-validation AdaBoost accuracy: [ 0.68460692  0.6854313   0.68744178  0.68148713  0.6884371 ]\n",
      "Accuracy: 0.685 (+/- 0.005)\n"
     ]
    }
   ],
   "source": [
    "tree = DecisionTreeClassifier(criterion='entropy', max_depth=1)\n",
    "adaboost = AdaBoostClassifier(base_estimator=tree, random_state=1)\n",
    "\n",
    "param_grid = {'n_estimators': [100, 400, 800],\n",
    "              'learning_rate': [0.001, 0.01, 0.1, 1, 10]}\n",
    "adaboost_gs_2 = GridSearchCV(adaboost, param_grid, scoring='accuracy',\n",
    "                             cv=3, n_jobs=-1)\n",
    "adaboost_scores_2 = cross_val_score(adaboost_gs_2, X_train, y_train,\n",
    "                                    scoring='accuracy', cv=5, n_jobs=-1)\n",
    "\n",
    "print(\"5x3 Nested cross-validation AdaBoost accuracy: {}\".format(adaboost_scores_2))\n",
    "print(\"Accuracy: {0.3f} (+/- {0.3f})\".format(adaboost_scores_2.mean(),\n",
    "                                             adaboost_scores_2.std() * 2))"
   ]
  },
  {
   "cell_type": "markdown",
   "metadata": {},
   "source": [
    "There isn't much difference and the Random Forest model remains the best performer."
   ]
  },
  {
   "cell_type": "markdown",
   "metadata": {},
   "source": [
    "Out of the three models, Random Forest performed best. So, now we can tune and train it to see how it performs on the test set."
   ]
  },
  {
   "cell_type": "code",
   "execution_count": 8,
   "metadata": {
    "collapsed": false,
    "scrolled": true
   },
   "outputs": [
    {
     "name": "stdout",
     "output_type": "stream",
     "text": [
      "Best parameters: {'max_features': 0.1}\n",
      "Best cross-validation score: 0.701\n"
     ]
    },
    {
     "name": "stderr",
     "output_type": "stream",
     "text": [
      "[Parallel(n_jobs=4)]: Done  33 tasks      | elapsed:    0.0s\n",
      "[Parallel(n_jobs=4)]: Done 154 tasks      | elapsed:    0.2s\n",
      "[Parallel(n_jobs=4)]: Done 357 tasks      | elapsed:    0.7s\n",
      "[Parallel(n_jobs=4)]: Done 640 tasks      | elapsed:    1.3s\n",
      "[Parallel(n_jobs=4)]: Done 1005 tasks      | elapsed:    2.0s\n",
      "[Parallel(n_jobs=4)]: Done 1450 tasks      | elapsed:    3.0s\n",
      "[Parallel(n_jobs=4)]: Done 1500 out of 1500 | elapsed:    3.1s finished\n"
     ]
    },
    {
     "name": "stdout",
     "output_type": "stream",
     "text": [
      "Test set accuracy: 0.704\n"
     ]
    }
   ],
   "source": [
    "forest = RandomForestClassifier(n_estimators=1500, oob_score=1, n_jobs=6,\n",
    "                                warm_start=1, verbose=2, random_state=1)\n",
    "\n",
    "param_grid = {'max_features': ['sqrt', 'log2', 0.1]}\n",
    "forest_gs = GridSearchCV(estimator=forest, param_grid=param_grid,\n",
    "                         scoring='accuracy', cv=3, n_jobs=3)\n",
    "forest_gs.fit(X_train, y_train)\n",
    "\n",
    "print(\"Best parameters: {}\".format(forest_gs.best_params_))\n",
    "print(\"Best cross-validation score: {:.3f}\".format(forest_gs.best_score_))\n",
    "print(\"Test set accuracy: {:.3f}\".format(forest_gs.score(X_test, y_test)))"
   ]
  },
  {
   "cell_type": "markdown",
   "metadata": {},
   "source": [
    "The best cross-validation accuracy is 0.701 and the best value for the `max_features` parameter is 0.1 (i.e. a maximum of 10% of the features is used for each of the trees in the ensemble).\n",
    "The test set accuracy is almost the same as the cross-validated score. It is even slightly higher.\n",
    "\n",
    "If we just predict `NDF`, which is the most frequently observed class in the output variable, we will get an accuracy of 0.611 on the test set, as we can see below. So, our model is better than just simply guessing no booking was done for all the observations."
   ]
  },
  {
   "cell_type": "code",
   "execution_count": 46,
   "metadata": {
    "collapsed": false
   },
   "outputs": [
    {
     "name": "stdout",
     "output_type": "stream",
     "text": [
      "Unique predicted labels: ['NDF']\n",
      "Dummy test score: 0.611\n"
     ]
    }
   ],
   "source": [
    "dummy_majority = DummyClassifier(strategy='most_frequent').fit(X_train, y_train)\n",
    "pred_most_frequent = le.inverse_transform(dummy_majority.predict(X_test))\n",
    "\n",
    "print(\"Unique predicted labels: {}\".format(np.unique(pred_most_frequent)))\n",
    "print(\"Dummy test score: {:.3f}\".format(dummy_majority.score(X_test, y_test)))"
   ]
  },
  {
   "cell_type": "markdown",
   "metadata": {},
   "source": [
    "The official scoring method of the kaggle competition was Normalized Discounted Cumulative Gain (NDCG). Below we have simple functions to calculate an NDCG score for the maximum number of submission allowed, k=5. The predictions have to be class probabilities."
   ]
  },
  {
   "cell_type": "code",
   "execution_count": 10,
   "metadata": {
    "collapsed": true
   },
   "outputs": [],
   "source": [
    "def dcg_score(y_true, y_score, k=5):\n",
    "    \"\"\"Discounted cumulative gain (DCG) at rank K.\n",
    "    y_true : array, shape = [n_samples]\n",
    "        Ground truth (true relevance labels).\n",
    "    y_score : array, shape = [n_samples, n_classes]\n",
    "        Predicted scores.\n",
    "    k : int\n",
    "        Rank.\n",
    "    Returns: score (float)\n",
    "    \"\"\"\n",
    "    order = np.argsort(y_score)[::-1]\n",
    "    y_true = np.take(y_true, order[:k])\n",
    "\n",
    "    gain = 2 ** y_true - 1\n",
    "\n",
    "    discounts = np.log2(np.arange(len(y_true)) + 2)\n",
    "    return np.sum(gain / discounts)\n",
    "\n",
    "\n",
    "def ndcg_score(ground_truth, predictions, k=5):\n",
    "    \"\"\"Normalized discounted cumulative gain (NDCG) at rank K.\n",
    "    Normalized Discounted Cumulative Gain (NDCG) measures the performance of a\n",
    "    recommendation system based on the graded relevance of the recommended\n",
    "    entities. It varies from 0.0 to 1.0, with 1.0 representing the ideal\n",
    "    ranking of the entities.\n",
    "    ground_truth : array, shape = [n_samples]\n",
    "        Ground truth (true labels represended as integers).\n",
    "    predictions : array, shape = [n_samples, n_classes]\n",
    "        Predicted probabilities.\n",
    "    k : int\n",
    "        Rank.\n",
    "    Returns: score (float)\n",
    "    Example\n",
    "    -------\n",
    "    >>> ground_truth = [1, 0, 2]\n",
    "    >>> predictions = [[0.15, 0.55, 0.2], [0.7, 0.2, 0.1], [0.06, 0.04, 0.9]]\n",
    "    >>> score = ndcg_score(ground_truth, predictions, k=2)\n",
    "    1.0\n",
    "    >>> predictions = [[0.9, 0.5, 0.8], [0.7, 0.2, 0.1], [0.06, 0.04, 0.9]]\n",
    "    >>> score = ndcg_score(ground_truth, predictions, k=2)\n",
    "    0.6666666666\n",
    "    \"\"\"\n",
    "    lb = LabelBinarizer()\n",
    "    # get first array element of predictions array to correct calculate ground_truth len\n",
    "    lb.fit(range(len(predictions[0]) + 1))\n",
    "    T = lb.transform(ground_truth)\n",
    "\n",
    "    scores = []\n",
    "\n",
    "    # Iterate over each y_true and compute the DCG score\n",
    "    for y_true, y_score in zip(T, predictions):\n",
    "        actual = dcg_score(y_true, y_score, k)\n",
    "        best = dcg_score(y_true, y_true, k)\n",
    "        \n",
    "        # HACK: Should not be needed, but in case nothing was relevant\n",
    "        if best <= 0:\n",
    "            score = 0.0\n",
    "        else:\n",
    "            score = float(actual) / float(best)\n",
    "        scores.append(score)\n",
    "\n",
    "    return np.mean(scores)"
   ]
  },
  {
   "cell_type": "markdown",
   "metadata": {},
   "source": [
    "Now we can make a scorer that we can easily use with sklearn during grid searches instead of accuracy:"
   ]
  },
  {
   "cell_type": "code",
   "execution_count": 11,
   "metadata": {
    "collapsed": false
   },
   "outputs": [],
   "source": [
    "# NDCG Scorer function\n",
    "ndcg_scorer = make_scorer(ndcg_score, needs_proba=True, k=5)"
   ]
  },
  {
   "cell_type": "markdown",
   "metadata": {},
   "source": [
    "But, let's see how our Random Forest model performed when evaluated using the NDCG score:"
   ]
  },
  {
   "cell_type": "code",
   "execution_count": 20,
   "metadata": {
    "collapsed": false
   },
   "outputs": [
    {
     "name": "stdout",
     "output_type": "stream",
     "text": [
      "Test set NDCG score: 0.853758\n"
     ]
    }
   ],
   "source": [
    "y_pred = forest_gs.predict_proba(X_test)\n",
    "print(\"Test set NDCG score: {:.6f}\".format(ndcg_score(ground_truth=y_test,\n",
    "                                                      predictions=y_pred)))"
   ]
  },
  {
   "cell_type": "markdown",
   "metadata": {},
   "source": []
  },
  {
   "cell_type": "code",
   "execution_count": 35,
   "metadata": {
    "collapsed": false
   },
   "outputs": [
    {
     "name": "stdout",
     "output_type": "stream",
     "text": [
      "0.701347964506\n",
      "             precision    recall  f1-score   support\n",
      "\n",
      "          0       0.00      0.00      0.00        26\n",
      "          1       0.00      0.00      0.00        84\n",
      "          2       0.00      0.00      0.00        48\n",
      "          3       0.00      0.00      0.00       130\n",
      "          4       0.50      0.00      0.01       283\n",
      "          5       0.00      0.00      0.00       142\n",
      "          6       0.00      0.00      0.00       186\n",
      "          7       0.75      0.90      0.82      9019\n",
      "          8       0.00      0.00      0.00        48\n",
      "          9       0.00      0.00      0.00        12\n",
      "         10       0.56      0.55      0.56      4031\n",
      "         11       0.00      0.00      0.00       754\n",
      "\n",
      "avg / total       0.62      0.70      0.65     14763\n",
      "\n"
     ]
    },
    {
     "name": "stderr",
     "output_type": "stream",
     "text": [
      "C:\\Users\\Rustam\\Anaconda3\\lib\\site-packages\\sklearn\\metrics\\classification.py:1113: UndefinedMetricWarning: Precision and F-score are ill-defined and being set to 0.0 in labels with no predicted samples.\n",
      "  'precision', 'predicted', average, warn_for)\n"
     ]
    }
   ],
   "source": [
    "logreg_gs.fit(X_train, y_train)\n",
    "y_true, y_pred = y_test, logreg_gs.predict(X_test)\n",
    "print(accuracy_score(y_true, y_pred))\n",
    "print(classification_report(y_true, y_pred))"
   ]
  },
  {
   "cell_type": "markdown",
   "metadata": {},
   "source": [
    "### Model stacking"
   ]
  },
  {
   "cell_type": "markdown",
   "metadata": {},
   "source": [
    "We can create a stacked ensemble, where we tune and fit the three models shown above (Logistic Regression, Random Forest, AdaBoost) to generate predictions. These predictions, then, are used as meta-features for the meta-classifier to produce a final prediction, which should be better than any of their individual predictions."
   ]
  },
  {
   "cell_type": "code",
   "execution_count": 20,
   "metadata": {
    "collapsed": false
   },
   "outputs": [
    {
     "name": "stdout",
     "output_type": "stream",
     "text": [
      "Best score: 0.694\n",
      " Best model parameters: \n",
      "{'meta-logisticregression__C': 1.0, 'adaboostclassifier__n_estimators': 100, 'randomforestclassifier__n_estimators': 200, 'logisticregression__C': 0.01, 'adaboostclassifier__learning_rate': 1, 'logisticregression__penalty': 'l1'}\n"
     ]
    }
   ],
   "source": [
    "logreg = LogisticRegression(random_state=1, n_jobs=-1)\n",
    "forest = RandomForestClassifier(oob_score=1, n_jobs=-1, random_state=1)\n",
    "adaboost = AdaBoostClassifier(random_state=1)\n",
    "stacking_clf = StackingClassifier(classifiers=[logreg, forest, adaboost],\n",
    "                                  meta_classifier=logreg,\n",
    "                                  use_probas=1)\n",
    "\n",
    "params = {'logisticregression__penalty': ['l1', 'l2'],\n",
    "          'logisticregression__C': np.logspace(-3, 2, 6),\n",
    "          'randomforestclassifier__n_estimators': [50, 100, 200],\n",
    "          'adaboostclassifier__n_estimators': [50, 100, 200],\n",
    "          'adaboostclassifier__learning_rate': [0.001, 0.01, 0.1, 1],\n",
    "          'meta-logisticregression__C': np.logspace(-3, 2, 6)}\n",
    "stacked_grid = GridSearchCV(estimator=stacking_clf, param_grid=params,\n",
    "                            cv=3, refit=True, verbose=2, n_jobs=-1)\n",
    "stacked_grid.fit(X_train, y_train)\n",
    "\n",
    "print(\"Best score: %0.3f\\n Best model parameters: \\n%r\" %\n",
    "      (stacked_grid.best_score_, stacked_grid.best_params_))"
   ]
  },
  {
   "cell_type": "markdown",
   "metadata": {},
   "source": [
    "The grid search had a total of 2592 x 3 models to fit and evaluate. It took almost 5 days (118 hours) to finish. "
   ]
  },
  {
   "cell_type": "code",
   "execution_count": 27,
   "metadata": {
    "collapsed": false
   },
   "outputs": [
    {
     "name": "stdout",
     "output_type": "stream",
     "text": [
      "0.69965454176\n"
     ]
    }
   ],
   "source": [
    "y_true, y_pred = y_test, stacked_grid.predict(X_test)\n",
    "print(accuracy_score(y_true, y_pred))"
   ]
  },
  {
   "cell_type": "code",
   "execution_count": 29,
   "metadata": {
    "collapsed": false
   },
   "outputs": [
    {
     "ename": "TypeError",
     "evalue": "__init__() got an unexpected keyword argument 'use_probas'",
     "output_type": "error",
     "traceback": [
      "\u001b[0;31m---------------------------------------------------------------------------\u001b[0m",
      "\u001b[0;31mTypeError\u001b[0m                                 Traceback (most recent call last)",
      "\u001b[0;32m<ipython-input-29-1961cdcb063b>\u001b[0m in \u001b[0;36m<module>\u001b[0;34m()\u001b[0m\n\u001b[1;32m      8\u001b[0m params_2 = {'randomforestclassifier__n_estimators': [200, 500, 1000, 1500],\n\u001b[1;32m      9\u001b[0m             'randomforestclassifier__max_features': ['sqrt', 'log2']}\n\u001b[0;32m---> 10\u001b[0;31m \u001b[0mstacked_grid_2\u001b[0m \u001b[1;33m=\u001b[0m \u001b[0mGridSearchCV\u001b[0m\u001b[1;33m(\u001b[0m\u001b[0mestimator\u001b[0m\u001b[1;33m=\u001b[0m\u001b[0mstacking_clf_2\u001b[0m\u001b[1;33m,\u001b[0m \u001b[0mparam_grid\u001b[0m\u001b[1;33m=\u001b[0m\u001b[0mparams_2\u001b[0m\u001b[1;33m,\u001b[0m \u001b[0mcv\u001b[0m\u001b[1;33m=\u001b[0m\u001b[1;36m3\u001b[0m\u001b[1;33m,\u001b[0m \u001b[0mrefit\u001b[0m\u001b[1;33m=\u001b[0m\u001b[1;32mTrue\u001b[0m\u001b[1;33m,\u001b[0m \u001b[0muse_probas\u001b[0m\u001b[1;33m=\u001b[0m\u001b[1;36m1\u001b[0m\u001b[1;33m,\u001b[0m \u001b[0mverbose\u001b[0m\u001b[1;33m=\u001b[0m\u001b[1;36m2\u001b[0m\u001b[1;33m,\u001b[0m \u001b[0mn_jobs\u001b[0m\u001b[1;33m=\u001b[0m\u001b[1;33m-\u001b[0m\u001b[1;36m1\u001b[0m\u001b[1;33m)\u001b[0m\u001b[1;33m\u001b[0m\u001b[0m\n\u001b[0m\u001b[1;32m     11\u001b[0m \u001b[0mstacked_grid_2\u001b[0m\u001b[1;33m.\u001b[0m\u001b[0mfit\u001b[0m\u001b[1;33m(\u001b[0m\u001b[0mX_train\u001b[0m\u001b[1;33m,\u001b[0m \u001b[0my_train\u001b[0m\u001b[1;33m)\u001b[0m\u001b[1;33m\u001b[0m\u001b[0m\n",
      "\u001b[0;31mTypeError\u001b[0m: __init__() got an unexpected keyword argument 'use_probas'"
     ]
    }
   ],
   "source": [
    "logreg = LogisticRegression(C=0.01, penalty='l1', random_state=1, n_jobs=-1)\n",
    "forest = RandomForestClassifier(oob_score=1, n_jobs=-1, random_state=1,\n",
    "                                warm_start=1)\n",
    "adaboost = AdaBoostClassifier(n_estimators=100, learning_rate=1, random_state=1)\n",
    "lr = LogisticRegression(C=1, random_state=1, n_jobs=-1)\n",
    "stacking_clf_2 = StackingClassifier(classifiers=[logreg, forest, adaboost],\n",
    "                                    meta_classifier=lr,\n",
    "                                    use_probas=1)\n",
    "\n",
    "params_2 = {'randomforestclassifier__n_estimators': [400, 800, 1200],\n",
    "            'randomforestclassifier__max_features': ['sqrt', 'log2', 0.1]}\n",
    "stacked_grid_2 = GridSearchCV(estimator=stacking_clf_2, param_grid=params_2,\n",
    "                              cv=3, refit=True, verbose=2, n_jobs=-1)\n",
    "stacked_grid_2.fit(X_train, y_train)"
   ]
  },
  {
   "cell_type": "code",
   "execution_count": null,
   "metadata": {
    "collapsed": true
   },
   "outputs": [],
   "source": [
    "y_true, y_pred = y_test, stacked_grid_2.predict(X_test)\n",
    "print(accuracy_score(y_true, y_pred))"
   ]
  },
  {
   "cell_type": "markdown",
   "metadata": {},
   "source": [
    "## PCA demo"
   ]
  },
  {
   "cell_type": "markdown",
   "metadata": {},
   "source": [
    "Since we have almost 800 features, the parameter tuning and model fitting takes a long time. Let's try dimensionality reduction using PCA so we can have fewer features and save some time. This allows us to compress the data while maintaining most of the relevant information."
   ]
  },
  {
   "cell_type": "code",
   "execution_count": 88,
   "metadata": {
    "collapsed": false,
    "scrolled": false
   },
   "outputs": [
    {
     "data": {
      "image/png": "[encoded data removed]",
      "text/plain": [
       "<matplotlib.figure.Figure at 0x1892e7dabe0>"
      ]
     },
     "metadata": {},
     "output_type": "display_data"
    }
   ],
   "source": [
    "pca = PCA(n_components=None, random_state=1)\n",
    "\n",
    "pipe = make_pipeline(StandardScaler(), pca)\n",
    "pipe.fit(X_train)\n",
    "expl_var_ratio = pipe.named_steps[\"pca\"].explained_variance_ratio_\n",
    "\n",
    "plt.figure(1, figsize=(10, 5))\n",
    "plt.clf()\n",
    "plt.bar(range(1, 401), expl_var_ratio[:400], alpha=0.5, align='center',\n",
    "        label='individual explained variance')\n",
    "plt.step(range(1,401), np.cumsum(expl_var_ratio)[:400], where='mid',\n",
    "         label='cumulative explained variance')\n",
    "plt.ylabel('Explained variance ratio')\n",
    "plt.xlabel('Principal components')\n",
    "plt.legend(loc='best')\n",
    "plt.show()"
   ]
  },
  {
   "cell_type": "code",
   "execution_count": 89,
   "metadata": {
    "collapsed": false
   },
   "outputs": [
    {
     "data": {
      "text/plain": [
       "0.94107606282001721"
      ]
     },
     "execution_count": 89,
     "metadata": {},
     "output_type": "execute_result"
    }
   ],
   "source": [
    "np.sum(expl_var_ratio[:400])"
   ]
  },
  {
   "cell_type": "markdown",
   "metadata": {},
   "source": [
    "As we can see from the plot above, the first 400 principal components are able to explain about 94 percent of the variance in the data. Let's now fit a logistic regression with PCA preprocessing with these 400 principal components:\n"
   ]
  },
  {
   "cell_type": "code",
   "execution_count": 87,
   "metadata": {
    "collapsed": false
   },
   "outputs": [
    {
     "name": "stdout",
     "output_type": "stream",
     "text": [
      "Cross validated accuracy of Logistic Regression after PCA and StandardScaler preprocessing: \n",
      " 0.680 +/- 0.003\n"
     ]
    }
   ],
   "source": [
    "logreg = LogisticRegression(random_state=0, n_jobs=-1)\n",
    "pca = PCA(n_components=300, random_state=1)\n",
    "pipe = make_pipeline(StandardScaler(), pca, StandardScaler(), logreg)\n",
    "\n",
    "Cs = np.logspace(-3, 2, 6)\n",
    "param_grid = {'logisticregression__penalty': ['l1', 'l2'],\n",
    "              'logisticregression__C': Cs}\n",
    "\n",
    "pca_logreg = GridSearchCV(estimator=pipe, param_grid=param_grid, cv=3, n_jobs=4)\n",
    "pca_logreg_scores = cross_val_score(pca_logreg, X_train, y_train,\n",
    "                                    scoring='accuracy', cv=3, n_jobs=4)\n",
    "\n",
    "print('Cross validated accuracy of Logistic Regression after PCA and StandardScaler preprocessing: \\n %.3f +/- %.3f' %\n",
    "      (np.mean(pca_logreg_scores), np.std(pca_logreg_scores)))"
   ]
  },
  {
   "cell_type": "markdown",
   "metadata": {},
   "source": [
    "100 principal components - accuracy: 0.667 +/- 0.002:\n",
    "start - 18:29\n",
    "finish - 19:08\n",
    "39 minutes\n",
    "\n",
    "300 principal components - accuracy: 0.680 +/- 0.003:\n",
    "start - 19:13\n",
    "finish - 06:50\n",
    "11 hours 40 minutes"
   ]
  },
  {
   "cell_type": "code",
   "execution_count": 93,
   "metadata": {
    "collapsed": false,
    "scrolled": true
   },
   "outputs": [
    {
     "name": "stdout",
     "output_type": "stream",
     "text": [
      "Cross validated accuracy of Random Forest after PCA and StandardScaler preprocessing: \n",
      " 0.675 +/- 0.002\n"
     ]
    }
   ],
   "source": [
    "forest = RandomForestClassifier(n_estimators=1000, oob_score=1, n_jobs=4,\n",
    "                                random_state=1)\n",
    "pca = PCA(n_components=300, random_state=1)\n",
    "\n",
    "param_grid = {'randomforestclassifier__max_features': ['log2', 'sqrt']}\n",
    "pipeforest = make_pipeline(StandardScaler(), pca, forest)\n",
    "pca_forest = GridSearchCV(estimator=pipeforest, param_grid=param_grid,\n",
    "                          cv=3, n_jobs=6)\n",
    "pca_forest_scores = cross_val_score(pca_forest, X_train, y_train,\n",
    "                                    scoring='accuracy', cv=3, n_jobs=6)\n",
    "\n",
    "print('Cross validated accuracy of Random Forest after PCA and StandardScaler preprocessing: \\n %.3f +/- %.3f' %\n",
    "      (np.mean(pca_forest_scores), np.std(pca_forest_scores)))"
   ]
  },
  {
   "cell_type": "markdown",
   "metadata": {},
   "source": [
    "300 principal components - accuracy: 0.675 +/- 0.002:\n",
    "start - 08:02\n",
    "finish - 08:42\n",
    "40 minutes"
   ]
  },
  {
   "cell_type": "code",
   "execution_count": null,
   "metadata": {
    "collapsed": true
   },
   "outputs": [],
   "source": []
  },
  {
   "cell_type": "code",
   "execution_count": null,
   "metadata": {
    "collapsed": true
   },
   "outputs": [],
   "source": []
  },
  {
   "cell_type": "code",
   "execution_count": null,
   "metadata": {
    "collapsed": true
   },
   "outputs": [],
   "source": []
  },
  {
   "cell_type": "code",
   "execution_count": null,
   "metadata": {
    "collapsed": true
   },
   "outputs": [],
   "source": []
  },
  {
   "cell_type": "code",
   "execution_count": 94,
   "metadata": {
    "collapsed": false
   },
   "outputs": [
    {
     "name": "stdout",
     "output_type": "stream",
     "text": [
      "Cross-validation scores: [ 0.69814674  0.69939897  0.69794225  0.69486789  0.69767048]\n",
      "Accuracy: 0.698 (+/- 0.003)\n"
     ]
    }
   ],
   "source": [
    "scores = cross_val_score(forest, X_train, y_train, scoring='accuracy', cv=5,\n",
    "                         n_jobs=-1)\n",
    "print(\"Cross-validation Random Forest accuracy: {}\".format(scores))\n",
    "print(\"Accuracy: %0.3f (+/- %0.3f)\" % (scores.mean(), scores.std() * 2))"
   ]
  },
  {
   "cell_type": "code",
   "execution_count": null,
   "metadata": {
    "collapsed": true
   },
   "outputs": [],
   "source": []
  },
  {
   "cell_type": "markdown",
   "metadata": {},
   "source": [
    "An all-in-one grid search to select the best model between a Logistic Regression and a Random Forest with its respective best parameters. For the Logistic Regression model we also include an option of preprocessing with a StandardScaler, which will demean the observations and divide by their standard deviation. (will take quite a while to run):"
   ]
  },
  {
   "cell_type": "code",
   "execution_count": null,
   "metadata": {
    "collapsed": false
   },
   "outputs": [
    {
     "name": "stderr",
     "output_type": "stream",
     "text": [
      "Exception in thread Thread-8:\n",
      "Traceback (most recent call last):\n",
      "  File \"C:\\Users\\Rustam\\Anaconda3\\lib\\threading.py\", line 914, in _bootstrap_inner\n",
      "    self.run()\n",
      "  File \"C:\\Users\\Rustam\\Anaconda3\\lib\\threading.py\", line 862, in run\n",
      "    self._target(*self._args, **self._kwargs)\n",
      "  File \"C:\\Users\\Rustam\\Anaconda3\\lib\\multiprocessing\\pool.py\", line 429, in _handle_results\n",
      "    task = get()\n",
      "  File \"C:\\Users\\Rustam\\Anaconda3\\lib\\multiprocessing\\connection.py\", line 251, in recv\n",
      "    return ForkingPickler.loads(buf.getbuffer())\n",
      "  File \"sklearn\\tree\\_tree.pyx\", line 654, in sklearn.tree._tree.Tree.__setstate__ (sklearn\\tree\\_tree.c:8453)\n",
      "MemoryError: resizing tree to 27041\n",
      "\n"
     ]
    }
   ],
   "source": [
    "logreg = LogisticRegression(random_state=0, n_jobs=-1)\n",
    "forest = RandomForestClassifier(oob_score=1, n_jobs=-1, random_state=0)\n",
    "pipe = Pipeline([('preprocessing', StandardScaler()), ('classifier', logreg)])\n",
    "\n",
    "param_grid = [\n",
    "              {'classifier': [logreg],\n",
    "               'preprocessing': [StandardScaler(), None],\n",
    "               'classifier__penalty': ['l1', 'l2'],\n",
    "               'classifier__C': [0.001, 0.01, 0.1, 1, 10]},\n",
    "              {'classifier': [forest],'preprocessing': [None],\n",
    "               'classifier__n_estimators': [100, 250, 500],\n",
    "               'classifier__max_features': ['sqrt', 'log2']}]\n",
    "\n",
    "all_in_one_grid = GridSearchCV(pipe, param_grid, cv=5, n_jobs=-1)\n",
    "all_in_one_grid.fit(X_train, y_train)\n",
    "print(\"Best parameters:\\n{}\\n\".format(all_in_one_grid.best_params_))\n",
    "print(\"Best cross-validation score: {:.2f}\".format(all_in_one_grid.best_score_))\n",
    "print(\"Test-set score: {:.2f}\".format(all_in_one_grid.score(X_test, y_test)))"
   ]
  },
  {
   "cell_type": "code",
   "execution_count": null,
   "metadata": {
    "collapsed": true
   },
   "outputs": [],
   "source": []
  }
 ],
 "metadata": {
  "anaconda-cloud": {},
  "kernelspec": {
   "display_name": "Python [conda root]",
   "language": "python",
   "name": "conda-root-py"
  },
  "language_info": {
   "codemirror_mode": {
    "name": "ipython",
    "version": 3
   },
   "file_extension": ".py",
   "mimetype": "text/x-python",
   "name": "python",
   "nbconvert_exporter": "python",
   "pygments_lexer": "ipython3",
   "version": "3.5.2"
  }
 },
 "nbformat": 4,
 "nbformat_minor": 2
}
