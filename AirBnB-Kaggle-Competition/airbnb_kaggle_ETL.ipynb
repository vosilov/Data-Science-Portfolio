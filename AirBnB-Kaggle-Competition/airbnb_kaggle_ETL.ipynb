{
 "cells": [
  {
   "cell_type": "markdown",
   "metadata": {},
   "source": [
    "# AirBnB Kaggle Competition"
   ]
  },
  {
   "cell_type": "markdown",
   "metadata": {},
   "source": [
    "Predicting in which country a new user will make their first apartment bookings using the AirBnB data provided during their Kaggle Competition."
   ]
  },
  {
   "cell_type": "code",
   "execution_count": 16,
   "metadata": {
    "collapsed": false
   },
   "outputs": [],
   "source": [
    "import datetime as dt\n",
    "import pandas as pd\n",
    "import numpy as np\n",
    "import matplotlib.pyplot as plt\n",
    "import seaborn as sns"
   ]
  },
  {
   "cell_type": "markdown",
   "metadata": {},
   "source": [
    "Once we have imported all the necessary packages. Let's load the data:"
   ]
  },
  {
   "cell_type": "code",
   "execution_count": 4,
   "metadata": {
    "collapsed": false
   },
   "outputs": [
    {
     "name": "stdout",
     "output_type": "stream",
     "text": [
      "The number of observations in training data: 213451\n",
      "The number of observations in test data: 62096\n",
      "Total number of observations: 275547\n"
     ]
    }
   ],
   "source": [
    "path = \"./data/\"\n",
    "trainDF = pd.read_csv(path + 'train_users_2.csv')\n",
    "testDF = pd.read_csv(path + 'test_users.csv')\n",
    "df = pd.concat([trainDF, testDF])\n",
    "\n",
    "trainDF.df_name = 'Training Data'\n",
    "testDF.df_name = 'Test Data'\n",
    "print('The number of observations in training data:', len(trainDF))\n",
    "print('The number of observations in test data:', len(testDF))\n",
    "print('Total number of observations:', len(df))"
   ]
  },
  {
   "cell_type": "markdown",
   "metadata": {},
   "source": [
    "The column __`country_destination`__ is the output (dependent) variable which we're going to predict. Let's see the categories in it (different destinations) and the number of observations in each category. The output variable is the last column in the training data ->  we can use `iloc[:, -1]` indexing to get it."
   ]
  },
  {
   "cell_type": "code",
   "execution_count": 5,
   "metadata": {
    "collapsed": false
   },
   "outputs": [
    {
     "name": "stdout",
     "output_type": "stream",
     "text": [
      "        count  percent\n",
      "NDF    124543    58.35\n",
      "US      62376    29.22\n",
      "other   10094     4.73\n",
      "FR       5023     2.35\n",
      "IT       2835     1.33\n",
      "GB       2324     1.09\n",
      "ES       2249     1.05\n",
      "CA       1428     0.67\n",
      "DE       1061     0.50\n",
      "NL        762     0.36\n",
      "AU        539     0.25\n",
      "PT        217     0.10\n"
     ]
    }
   ],
   "source": [
    "df2 = pd.concat([trainDF.iloc[:, -1].value_counts(), np.round(trainDF.iloc[:, -1].value_counts() / len(trainDF) * 100, 2)],\n",
    "                axis=1)\n",
    "df2.columns = ['count', 'percent']\n",
    "print(df2)"
   ]
  },
  {
   "cell_type": "markdown",
   "metadata": {},
   "source": [
    "Almost 60% of the observations are in the `NDF` category. `NDF` stands for No Destination Found - indicating that there was no booking. Of all the bookings, an overwhelming majority was in the US. `other` is an aggregation of all countries other than those specifically listed.\n",
    "\n"
   ]
  },
  {
   "cell_type": "markdown",
   "metadata": {},
   "source": [
    "Let's take a look at some of the data and see which columns have missing values."
   ]
  },
  {
   "cell_type": "code",
   "execution_count": 6,
   "metadata": {
    "collapsed": false
   },
   "outputs": [
    {
     "name": "stdout",
     "output_type": "stream",
     "text": [
      "  affiliate_channel affiliate_provider   age country_destination  \\\n",
      "0            direct             direct   NaN                 NDF   \n",
      "1               seo             google  38.0                 NDF   \n",
      "2            direct             direct  56.0                  US   \n",
      "3            direct             direct  42.0               other   \n",
      "4            direct             direct  41.0                  US   \n",
      "5             other              other   NaN                  US   \n",
      "6             other         craigslist  46.0                  US   \n",
      "7            direct             direct  47.0                  US   \n",
      "8             other         craigslist  50.0                  US   \n",
      "\n",
      "  date_account_created date_first_booking first_affiliate_tracked  \\\n",
      "0           2010-06-28                NaN               untracked   \n",
      "1           2011-05-25                NaN               untracked   \n",
      "2           2010-09-28         2010-08-02               untracked   \n",
      "3           2011-12-05         2012-09-08               untracked   \n",
      "4           2010-09-14         2010-02-18               untracked   \n",
      "5           2010-01-01         2010-01-02                     omg   \n",
      "6           2010-01-02         2010-01-05               untracked   \n",
      "7           2010-01-03         2010-01-13                     omg   \n",
      "8           2010-01-04         2010-07-29               untracked   \n",
      "\n",
      "  first_browser first_device_type     gender          id language signup_app  \\\n",
      "0        Chrome       Mac Desktop  -unknown-  gxn3p5htnn       en        Web   \n",
      "1        Chrome       Mac Desktop       MALE  820tgsjxq7       en        Web   \n",
      "2            IE   Windows Desktop     FEMALE  4ft3gnwmtx       en        Web   \n",
      "3       Firefox       Mac Desktop     FEMALE  bjjt8pjhuk       en        Web   \n",
      "4        Chrome       Mac Desktop  -unknown-  87mebub9p4       en        Web   \n",
      "5        Chrome       Mac Desktop  -unknown-  osr2jwljor       en        Web   \n",
      "6        Safari       Mac Desktop     FEMALE  lsw9q7uk0j       en        Web   \n",
      "7        Safari       Mac Desktop     FEMALE  0d01nltbrs       en        Web   \n",
      "8        Safari       Mac Desktop     FEMALE  a1vcnhxeij       en        Web   \n",
      "\n",
      "   signup_flow signup_method  timestamp_first_active  \n",
      "0            0      facebook          20090319043255  \n",
      "1            0      facebook          20090523174809  \n",
      "2            3         basic          20090609231247  \n",
      "3            0      facebook          20091031060129  \n",
      "4            0         basic          20091208061105  \n",
      "5            0         basic          20100101215619  \n",
      "6            0         basic          20100102012558  \n",
      "7            0         basic          20100103191905  \n",
      "8            0         basic          20100104004211  \n",
      " .\n",
      " .\n",
      " .\n",
      "\n",
      "      affiliate_channel affiliate_provider   age country_destination  \\\n",
      "62087         sem-brand             google  55.0                 NaN   \n",
      "62088            direct             direct  34.0                 NaN   \n",
      "62089            direct             direct  32.0                 NaN   \n",
      "62090               seo              yahoo   NaN                 NaN   \n",
      "62091            direct             direct  31.0                 NaN   \n",
      "62092            direct             direct   NaN                 NaN   \n",
      "62093            direct             direct   NaN                 NaN   \n",
      "62094         sem-brand             google   NaN                 NaN   \n",
      "62095             other              other  49.0                 NaN   \n",
      "\n",
      "      date_account_created date_first_booking first_affiliate_tracked  \\\n",
      "62087           2014-09-30                NaN                     omg   \n",
      "62088           2014-09-30                NaN               untracked   \n",
      "62089           2014-09-30                NaN                  linked   \n",
      "62090           2014-09-30                NaN                  linked   \n",
      "62091           2014-09-30                NaN               untracked   \n",
      "62092           2014-09-30                NaN               untracked   \n",
      "62093           2014-09-30                NaN                  linked   \n",
      "62094           2014-09-30                NaN                     omg   \n",
      "62095           2014-09-30                NaN           tracked-other   \n",
      "\n",
      "      first_browser first_device_type     gender          id language  \\\n",
      "62087       Firefox   Windows Desktop       MALE  o6ofmozucx       en   \n",
      "62088        Chrome       Mac Desktop  -unknown-  wcw7xggeqp       en   \n",
      "62089        Chrome   Windows Desktop       MALE  m22pw2pkxr       en   \n",
      "62090        Chrome   Windows Desktop  -unknown-  8yvhec201j       en   \n",
      "62091            IE   Windows Desktop  -unknown-  cv0na2lf5a       en   \n",
      "62092     -unknown-     Android Phone  -unknown-  zp8xfonng8       ko   \n",
      "62093       Firefox   Windows Desktop  -unknown-  fa6260ziny       de   \n",
      "62094        Safari       Mac Desktop  -unknown-  87k0fy4ugm       en   \n",
      "62095        Chrome   Windows Desktop     FEMALE  9uqfg8txu3       en   \n",
      "\n",
      "      signup_app  signup_flow signup_method  timestamp_first_active  \n",
      "62087        Web            0         basic          20140930234751  \n",
      "62088        Web            0         basic          20140930234904  \n",
      "62089        Web            0         basic          20140930235000  \n",
      "62090        Web            0         basic          20140930235019  \n",
      "62091        Web            0         basic          20140930235232  \n",
      "62092    Android           23         basic          20140930235306  \n",
      "62093        Web            0         basic          20140930235408  \n",
      "62094        Web            0         basic          20140930235430  \n",
      "62095        Web            0         basic          20140930235901  \n",
      "\n",
      " \n",
      "\n",
      "                   Number of missing values\n",
      "age                        116866\n",
      "country_destination         62096\n",
      "date_first_booking         186639\n",
      "first_affiliate_tracked      6085\n",
      "dtype: int64\n"
     ]
    }
   ],
   "source": [
    "print(df.head(9))\n",
    "print(' .\\n', '.\\n' , '.\\n')\n",
    "print(df.tail(9))\n",
    "print('\\n', '\\n')\n",
    "print('                   Number of missing values')\n",
    "print(len(df) - df.count()[df.count() < len(df)])  # columns with missing values"
   ]
  },
  {
   "cell_type": "code",
   "execution_count": 7,
   "metadata": {
    "collapsed": false
   },
   "outputs": [
    {
     "name": "stdout",
     "output_type": "stream",
     "text": [
      "The number of observations in training data: 213451\n",
      "The number of observations in test data: 62096\n",
      "Total number of observations: 275547\n"
     ]
    }
   ],
   "source": [
    "print('The number of observations in training data:', len(trainDF))\n",
    "print('The number of observations in test data:', len(testDF))\n",
    "print('Total number of observations:', len(df))"
   ]
  },
  {
   "cell_type": "markdown",
   "metadata": {},
   "source": [
    "The number of missing values in the __`country_destination`__ column is exactly equal to the number of observations in the test data: $62,096$. That's because this is the variable to be predicted.\n",
    "So, there are three columns, that we should focus on, with missing values. __`age`__, __`date_first_booking`__ and __`first_affiliate_tracked`__. The latter has relatively very few missing values (only $6,085$ missing out of $275,547$ observations).\n",
    "\n",
    "Let's take a closer look at __`date_first_booking`__:"
   ]
  },
  {
   "cell_type": "code",
   "execution_count": 8,
   "metadata": {
    "collapsed": false
   },
   "outputs": [
    {
     "name": "stdout",
     "output_type": "stream",
     "text": [
      "Number of missing values in Training Data are 124543\n",
      "Number of missing values in Test Data are 62096\n"
     ]
    }
   ],
   "source": [
    "for x in (trainDF, testDF):\n",
    "    print('Number of missing values in {} are {}'.\n",
    "          format(x.df_name, len(x.date_first_booking) - x.date_first_booking.count()[x.date_first_booking.count() < len(x)][0]))"
   ]
  },
  {
   "cell_type": "markdown",
   "metadata": {},
   "source": [
    "So, the __`date_first_booking`__ column in the test data is all `NaN`. In the training data, the missing values are exactly equal to the number of `NDF`(no booking) observations. This makes sense, if no booking was done, then the date of the first booking for that user is `NaN`. Conclusion: this feature will not be of much help in predicting booking destination and can be dropped."
   ]
  },
  {
   "cell_type": "markdown",
   "metadata": {},
   "source": [
    "There are two other columns with timestamps, so we need to convert them into datetime using `pd.to_datetime`. These two columns indicate the time of a user's first activity (__`timestamp_first_active`__) and the date they created an account (__`date_account_created`__). The time elapsed between these two points of time can also be of potential use later for predicting booking destinations. So, I also create a new feature called __`days_to_registration`__ which is equal to __`date_account_created`__ minus __`timestamp_first_active`__. The difference between two datetime objects in `pandas` returns at `timedelta` object with elapsed days and hours (in our case, even minutes and seconds), but we're satisfied with just the number of days."
   ]
  },
  {
   "cell_type": "code",
   "execution_count": 9,
   "metadata": {
    "collapsed": false
   },
   "outputs": [
    {
     "name": "stdout",
     "output_type": "stream",
     "text": [
      "0   2009-03-19 04:32:55\n",
      "1   2009-05-23 17:48:09\n",
      "2   2009-06-09 23:12:47\n",
      "3   2009-10-31 06:01:29\n",
      "4   2009-12-08 06:11:05\n",
      "Name: timestamp_first_active, dtype: datetime64[ns]\n",
      "\n",
      " 0   2010-06-28\n",
      "1   2011-05-25\n",
      "2   2010-09-28\n",
      "3   2011-12-05\n",
      "4   2010-09-14\n",
      "Name: date_account_created, dtype: datetime64[ns]\n",
      "\n",
      " 0    465\n",
      "1    731\n",
      "2    475\n",
      "3    764\n",
      "4    279\n",
      "5     -1\n",
      "6     -1\n",
      "7     -1\n",
      "8     -1\n",
      "9     -1\n",
      "Name: days_to_registration, dtype: int64\n"
     ]
    }
   ],
   "source": [
    "df['timestamp_first_active'] = pd.to_datetime(df.timestamp_first_active, format='%Y%m%d%H%M%S')\n",
    "df['date_account_created'] = pd.to_datetime(df.date_account_created, format='%Y-%m-%d')\n",
    "df['days_to_registration'] = (df.date_account_created - df.timestamp_first_active).dt.days\n",
    "print(df.timestamp_first_active.head())\n",
    "print('\\n', df.date_account_created.head())\n",
    "print('\\n', df.days_to_registration.head(10))"
   ]
  },
  {
   "cell_type": "markdown",
   "metadata": {},
   "source": [
    "Most of the observations in the new __`days_to_registration`__ feature are equal to (-1), meaning that the most users created and account and were first active the next day. This doesn't sound right:\n"
   ]
  },
  {
   "cell_type": "code",
   "execution_count": 10,
   "metadata": {
    "collapsed": false
   },
   "outputs": [
    {
     "data": {
      "text/plain": [
       "-1       275369\n",
       " 0            7\n",
       " 6            4\n",
       " 5            4\n",
       " 1            4\n",
       " 2            3\n",
       " 3            3\n",
       " 4            3\n",
       " 28           3\n",
       " 94           2\n",
       " 633          2\n",
       " 56           2\n",
       " 721          2\n",
       " 311          2\n",
       " 162          2\n",
       " 102          2\n",
       " 175          2\n",
       " 39           2\n",
       " 36           2\n",
       " 19           2\n",
       " 103          2\n",
       " 8            2\n",
       " 16           1\n",
       " 258          1\n",
       " 327          1\n",
       " 73           1\n",
       " 330          1\n",
       " 586          1\n",
       " 75           1\n",
       " 77           1\n",
       "          ...  \n",
       " 107          1\n",
       " 363          1\n",
       " 621          1\n",
       " 110          1\n",
       " 366          1\n",
       " 368          1\n",
       " 881          1\n",
       " 115          1\n",
       " 117          1\n",
       " 123          1\n",
       " 635          1\n",
       " 1147         1\n",
       " 124          1\n",
       " 131          1\n",
       " 153          1\n",
       " 132          1\n",
       " 136          1\n",
       " 137          1\n",
       " 394          1\n",
       " 142          1\n",
       " 398          1\n",
       " 143          1\n",
       " 400          1\n",
       " 145          1\n",
       " 657          1\n",
       " 658          1\n",
       " 149          1\n",
       " 152          1\n",
       " 664          1\n",
       " 105          1\n",
       "Name: days_to_registration, dtype: int64"
      ]
     },
     "execution_count": 10,
     "metadata": {},
     "output_type": "execute_result"
    }
   ],
   "source": [
    "df.days_to_registration.value_counts()"
   ]
  },
  {
   "cell_type": "markdown",
   "metadata": {},
   "source": [
    "This issue is caused by the fact that the __`date_account_created`__ feature is formatted as \"Year-month-day\", but it really has the format \"Year-month-day 00:00:00\". The __`timestamp_first_active`__ feature has a \"Year-month-day Hour:minute:second\" format. So, when we difference them, the user that registered and were first active on the same day get a timedelta of -1 days. \n",
    "\n",
    "We can replace -1 with 0 to address this issue."
   ]
  },
  {
   "cell_type": "code",
   "execution_count": 11,
   "metadata": {
    "collapsed": false,
    "scrolled": false
   },
   "outputs": [
    {
     "data": {
      "text/plain": [
       "0       275376\n",
       "1            4\n",
       "6            4\n",
       "5            4\n",
       "3            3\n",
       "28           3\n",
       "4            3\n",
       "2            3\n",
       "56           2\n",
       "311          2\n",
       "721          2\n",
       "162          2\n",
       "102          2\n",
       "633          2\n",
       "175          2\n",
       "39           2\n",
       "36           2\n",
       "94           2\n",
       "19           2\n",
       "103          2\n",
       "8            2\n",
       "594          1\n",
       "837          1\n",
       "327          1\n",
       "73           1\n",
       "330          1\n",
       "586          1\n",
       "75           1\n",
       "77           1\n",
       "79           1\n",
       "         ...  \n",
       "361          1\n",
       "107          1\n",
       "363          1\n",
       "621          1\n",
       "110          1\n",
       "366          1\n",
       "368          1\n",
       "881          1\n",
       "115          1\n",
       "117          1\n",
       "123          1\n",
       "635          1\n",
       "1147         1\n",
       "128          1\n",
       "664          1\n",
       "131          1\n",
       "132          1\n",
       "136          1\n",
       "137          1\n",
       "394          1\n",
       "142          1\n",
       "398          1\n",
       "143          1\n",
       "400          1\n",
       "145          1\n",
       "657          1\n",
       "658          1\n",
       "149          1\n",
       "152          1\n",
       "615          1\n",
       "Name: days_to_registration, dtype: int64"
      ]
     },
     "execution_count": 11,
     "metadata": {},
     "output_type": "execute_result"
    }
   ],
   "source": [
    "df.days_to_registration.replace(-1, 0, inplace=True)\n",
    "df.days_to_registration.value_counts()"
   ]
  },
  {
   "cell_type": "markdown",
   "metadata": {},
   "source": [
    "We can see that almost all users were active on the same day of account creation. Moreover, another data set called `sessions` has a lot less per user id observations than this `users` data set. So, when we do an inner join of the two data sets, there is a high chance the non-zero values of the __`days_to_registration`__ feature will be dropped. Hence, this feature will be of no use and we can drop it now.\n"
   ]
  },
  {
   "cell_type": "code",
   "execution_count": 12,
   "metadata": {
    "collapsed": true
   },
   "outputs": [],
   "source": [
    "df.drop(['days_to_registration'], axis=1, inplace=1)"
   ]
  },
  {
   "cell_type": "markdown",
   "metadata": {},
   "source": [
    "Now that we have converted the time columns into datetime object, we can use them to, for instance, analyze the accumulation of new registered users of AirBnB.\n",
    "The registered user base has certainly accelerated during 2013 and 2014 as we can see from the graph below. The training data for predicting the booking destination is until 2014-06-30. From 2014-07-01 and on, the test data starts. "
   ]
  },
  {
   "cell_type": "code",
   "execution_count": 13,
   "metadata": {
    "collapsed": false
   },
   "outputs": [
    {
     "data": {
      "image/png": "[encoded data removed]",
      "text/plain": [
       "<matplotlib.figure.Figure at 0x7f2fddc09a90>"
      ]
     },
     "metadata": {},
     "output_type": "display_data"
    }
   ],
   "source": [
    "accounts_created = pd.DataFrame(df.date_account_created.value_counts())\n",
    "accounts_created.date_account_created.resample('m').sum().plot(label='cumulative number of accounts created', color='g')\n",
    "plt.vlines('2014-06-30', ymin=0, ymax=25000, linestyles='dotted',\n",
    "           label='The date (2014-06-30) when training data ends and test data starts')\n",
    "plt.tight_layout()\n",
    "plt.title('Cumulative number of new AirBnB users')\n",
    "plt.legend(loc='upper left')\n",
    "plt.xlabel('Date account created')\n",
    "plt.show()"
   ]
  },
  {
   "cell_type": "markdown",
   "metadata": {},
   "source": [
    "Let's extract some more information from the time columns.\n",
    "\n",
    "The __`timestamp_first_active`__ column shows year, month, day, hour, minute and second data, while the __`date_account_created`__ column shows only year, month and day. We can break out these features into separate time interval columns in order to get more useful information for predictive analytics purposes:"
   ]
  },
  {
   "cell_type": "code",
   "execution_count": 14,
   "metadata": {
    "collapsed": false
   },
   "outputs": [
    {
     "data": {
      "text/html": [
       "<div>\n",
       "<table border=\"1\" class=\"dataframe\">\n",
       "  <thead>\n",
       "    <tr style=\"text-align: right;\">\n",
       "      <th></th>\n",
       "      <th>affiliate_channel</th>\n",
       "      <th>affiliate_provider</th>\n",
       "      <th>age</th>\n",
       "      <th>country_destination</th>\n",
       "      <th>first_affiliate_tracked</th>\n",
       "      <th>first_browser</th>\n",
       "      <th>first_device_type</th>\n",
       "      <th>gender</th>\n",
       "      <th>id</th>\n",
       "      <th>language</th>\n",
       "      <th>signup_app</th>\n",
       "      <th>signup_flow</th>\n",
       "      <th>signup_method</th>\n",
       "      <th>year_first_active</th>\n",
       "      <th>month_first_active</th>\n",
       "      <th>day_first_active</th>\n",
       "      <th>hour_first_active</th>\n",
       "      <th>year_account_created</th>\n",
       "      <th>month_account_created</th>\n",
       "      <th>day_account_created</th>\n",
       "    </tr>\n",
       "  </thead>\n",
       "  <tbody>\n",
       "    <tr>\n",
       "      <th>0</th>\n",
       "      <td>direct</td>\n",
       "      <td>direct</td>\n",
       "      <td>NaN</td>\n",
       "      <td>NDF</td>\n",
       "      <td>untracked</td>\n",
       "      <td>Chrome</td>\n",
       "      <td>Mac Desktop</td>\n",
       "      <td>-unknown-</td>\n",
       "      <td>gxn3p5htnn</td>\n",
       "      <td>en</td>\n",
       "      <td>Web</td>\n",
       "      <td>0</td>\n",
       "      <td>facebook</td>\n",
       "      <td>2009</td>\n",
       "      <td>3</td>\n",
       "      <td>3</td>\n",
       "      <td>4</td>\n",
       "      <td>2010</td>\n",
       "      <td>6</td>\n",
       "      <td>0</td>\n",
       "    </tr>\n",
       "    <tr>\n",
       "      <th>1</th>\n",
       "      <td>seo</td>\n",
       "      <td>google</td>\n",
       "      <td>38.0</td>\n",
       "      <td>NDF</td>\n",
       "      <td>untracked</td>\n",
       "      <td>Chrome</td>\n",
       "      <td>Mac Desktop</td>\n",
       "      <td>MALE</td>\n",
       "      <td>820tgsjxq7</td>\n",
       "      <td>en</td>\n",
       "      <td>Web</td>\n",
       "      <td>0</td>\n",
       "      <td>facebook</td>\n",
       "      <td>2009</td>\n",
       "      <td>5</td>\n",
       "      <td>5</td>\n",
       "      <td>17</td>\n",
       "      <td>2011</td>\n",
       "      <td>5</td>\n",
       "      <td>2</td>\n",
       "    </tr>\n",
       "    <tr>\n",
       "      <th>2</th>\n",
       "      <td>direct</td>\n",
       "      <td>direct</td>\n",
       "      <td>56.0</td>\n",
       "      <td>US</td>\n",
       "      <td>untracked</td>\n",
       "      <td>IE</td>\n",
       "      <td>Windows Desktop</td>\n",
       "      <td>FEMALE</td>\n",
       "      <td>4ft3gnwmtx</td>\n",
       "      <td>en</td>\n",
       "      <td>Web</td>\n",
       "      <td>3</td>\n",
       "      <td>basic</td>\n",
       "      <td>2009</td>\n",
       "      <td>6</td>\n",
       "      <td>1</td>\n",
       "      <td>23</td>\n",
       "      <td>2010</td>\n",
       "      <td>9</td>\n",
       "      <td>1</td>\n",
       "    </tr>\n",
       "    <tr>\n",
       "      <th>3</th>\n",
       "      <td>direct</td>\n",
       "      <td>direct</td>\n",
       "      <td>42.0</td>\n",
       "      <td>other</td>\n",
       "      <td>untracked</td>\n",
       "      <td>Firefox</td>\n",
       "      <td>Mac Desktop</td>\n",
       "      <td>FEMALE</td>\n",
       "      <td>bjjt8pjhuk</td>\n",
       "      <td>en</td>\n",
       "      <td>Web</td>\n",
       "      <td>0</td>\n",
       "      <td>facebook</td>\n",
       "      <td>2009</td>\n",
       "      <td>10</td>\n",
       "      <td>5</td>\n",
       "      <td>6</td>\n",
       "      <td>2011</td>\n",
       "      <td>12</td>\n",
       "      <td>0</td>\n",
       "    </tr>\n",
       "    <tr>\n",
       "      <th>4</th>\n",
       "      <td>direct</td>\n",
       "      <td>direct</td>\n",
       "      <td>41.0</td>\n",
       "      <td>US</td>\n",
       "      <td>untracked</td>\n",
       "      <td>Chrome</td>\n",
       "      <td>Mac Desktop</td>\n",
       "      <td>-unknown-</td>\n",
       "      <td>87mebub9p4</td>\n",
       "      <td>en</td>\n",
       "      <td>Web</td>\n",
       "      <td>0</td>\n",
       "      <td>basic</td>\n",
       "      <td>2009</td>\n",
       "      <td>12</td>\n",
       "      <td>1</td>\n",
       "      <td>6</td>\n",
       "      <td>2010</td>\n",
       "      <td>9</td>\n",
       "      <td>1</td>\n",
       "    </tr>\n",
       "  </tbody>\n",
       "</table>\n",
       "</div>"
      ],
      "text/plain": [
       "  affiliate_channel affiliate_provider   age country_destination  \\\n",
       "0            direct             direct   NaN                 NDF   \n",
       "1               seo             google  38.0                 NDF   \n",
       "2            direct             direct  56.0                  US   \n",
       "3            direct             direct  42.0               other   \n",
       "4            direct             direct  41.0                  US   \n",
       "\n",
       "  first_affiliate_tracked first_browser first_device_type     gender  \\\n",
       "0               untracked        Chrome       Mac Desktop  -unknown-   \n",
       "1               untracked        Chrome       Mac Desktop       MALE   \n",
       "2               untracked            IE   Windows Desktop     FEMALE   \n",
       "3               untracked       Firefox       Mac Desktop     FEMALE   \n",
       "4               untracked        Chrome       Mac Desktop  -unknown-   \n",
       "\n",
       "           id language signup_app  signup_flow signup_method  \\\n",
       "0  gxn3p5htnn       en        Web            0      facebook   \n",
       "1  820tgsjxq7       en        Web            0      facebook   \n",
       "2  4ft3gnwmtx       en        Web            3         basic   \n",
       "3  bjjt8pjhuk       en        Web            0      facebook   \n",
       "4  87mebub9p4       en        Web            0         basic   \n",
       "\n",
       "   year_first_active  month_first_active  day_first_active  hour_first_active  \\\n",
       "0               2009                   3                 3                  4   \n",
       "1               2009                   5                 5                 17   \n",
       "2               2009                   6                 1                 23   \n",
       "3               2009                  10                 5                  6   \n",
       "4               2009                  12                 1                  6   \n",
       "\n",
       "   year_account_created  month_account_created  day_account_created  \n",
       "0                  2010                      6                    0  \n",
       "1                  2011                      5                    2  \n",
       "2                  2010                      9                    1  \n",
       "3                  2011                     12                    0  \n",
       "4                  2010                      9                    1  "
      ]
     },
     "execution_count": 14,
     "metadata": {},
     "output_type": "execute_result"
    }
   ],
   "source": [
    "df['year_first_active'] = df.timestamp_first_active.dt.year\n",
    "df['month_first_active'] = df.timestamp_first_active.dt.month\n",
    "df['day_first_active'] = df.timestamp_first_active.dt.dayofweek\n",
    "df['hour_first_active'] = df.timestamp_first_active.dt.hour\n",
    "\n",
    "df['year_account_created'] = df.date_account_created.dt.year\n",
    "df['month_account_created'] = df.date_account_created.dt.month\n",
    "df['day_account_created'] = df.date_account_created.dt.dayofweek\n",
    "df = df.drop(['date_first_booking', 'timestamp_first_active', 'date_account_created'], axis=1)\n",
    "df.head()"
   ]
  },
  {
   "cell_type": "markdown",
   "metadata": {},
   "source": [
    "We're done with the time columns. Now, let's fix the __`age`__ feature, which has about 40% missing values. Not many people are willing to provide their age. Moreover, out of the ones that do provide it, the data is entered in different formats: some people have entered their birth year instead of age:"
   ]
  },
  {
   "cell_type": "code",
   "execution_count": 17,
   "metadata": {
    "collapsed": false
   },
   "outputs": [
    {
     "data": {
      "image/png": "[encoded data removed]",
      "text/plain": [
       "<matplotlib.figure.Figure at 0x7f2fe0501358>"
      ]
     },
     "metadata": {},
     "output_type": "display_data"
    }
   ],
   "source": [
    "plt.clf()\n",
    "sns.boxplot(df.age, orient='v', color='g')\n",
    "plt.show()"
   ]
  },
  {
   "cell_type": "markdown",
   "metadata": {},
   "source": [
    "We can see on the boxplot above, that there is a bunch of values around the 2000 threshold. Let's plot another boxplot, but now without those values:"
   ]
  },
  {
   "cell_type": "code",
   "execution_count": 18,
   "metadata": {
    "collapsed": false
   },
   "outputs": [
    {
     "data": {
      "image/png": "[encoded data removed]",
      "text/plain": [
       "<matplotlib.figure.Figure at 0x7f2fb2e06390>"
      ]
     },
     "metadata": {},
     "output_type": "display_data"
    }
   ],
   "source": [
    "plt.clf()\n",
    "sns.boxplot(df.age[df.age <= df.age[df.age < 1000].max()], orient='v', color='g')\n",
    "plt.show()"
   ]
  },
  {
   "cell_type": "code",
   "execution_count": 19,
   "metadata": {
    "collapsed": false,
    "scrolled": false
   },
   "outputs": [
    {
     "data": {
      "image/png": "[encoded data removed]",
      "text/plain": [
       "<matplotlib.figure.Figure at 0x7f2fb2d93358>"
      ]
     },
     "metadata": {},
     "output_type": "display_data"
    }
   ],
   "source": [
    "plt.clf()\n",
    "sns.boxplot(df.age[df.age >= df.age[df.age > 1000].min()], orient='v')\n",
    "plt.show()"
   ]
  },
  {
   "cell_type": "markdown",
   "metadata": {},
   "source": [
    "From the boxplot above we can see that some of the extremely high values are birthyears, and many (the ones that are around 2010) are just errors. We can transform the birthyears into ages by subtracting the age (birthyear) value from the year the account was created for those values where the difference is positive. We don't want negative age result (for instance a use registered in 2010 and gave 2014 as their age/birthyear, which would result in 2010 - 2014 = -4):"
   ]
  },
  {
   "cell_type": "code",
   "execution_count": 20,
   "metadata": {
    "collapsed": false
   },
   "outputs": [],
   "source": [
    "df['age'] = np.where((df.age >= 1920) & (df.age < df.year_account_created), df.year_account_created - df.age, df.age)"
   ]
  },
  {
   "cell_type": "markdown",
   "metadata": {},
   "source": [
    "Let's take a look at the age value counts below age 18 and above age 85 now: "
   ]
  },
  {
   "cell_type": "code",
   "execution_count": 21,
   "metadata": {
    "collapsed": false
   },
   "outputs": [
    {
     "name": "stdout",
     "output_type": "stream",
     "text": [
      "age\n",
      "1.0      7\n",
      "2.0      7\n",
      "4.0      3\n",
      "5.0     45\n",
      "6.0      1\n",
      "12.0     1\n",
      "13.0     5\n",
      "14.0     1\n",
      "15.0     9\n",
      "16.0    39\n",
      "17.0    81\n",
      "Name: age, dtype: int64\n"
     ]
    },
    {
     "data": {
      "text/plain": [
       "age\n",
       "86.0        35\n",
       "87.0        37\n",
       "88.0        18\n",
       "89.0        18\n",
       "90.0        24\n",
       "91.0        16\n",
       "92.0        19\n",
       "93.0        21\n",
       "94.0        19\n",
       "95.0        61\n",
       "96.0        27\n",
       "97.0        13\n",
       "98.0        17\n",
       "99.0        19\n",
       "100.0       31\n",
       "101.0       40\n",
       "102.0       39\n",
       "103.0       30\n",
       "104.0       52\n",
       "105.0     1351\n",
       "106.0       20\n",
       "107.0       28\n",
       "108.0       16\n",
       "109.0       36\n",
       "110.0      228\n",
       "111.0        2\n",
       "112.0        1\n",
       "113.0        4\n",
       "115.0       13\n",
       "132.0        1\n",
       "150.0        1\n",
       "2013.0      36\n",
       "2014.0     710\n",
       "Name: age, dtype: int64"
      ]
     },
     "execution_count": 21,
     "metadata": {},
     "output_type": "execute_result"
    }
   ],
   "source": [
    "age_counts = df.age.groupby(df.age).count()\n",
    "print(age_counts[:17])\n",
    "age_counts[86:]"
   ]
  },
  {
   "cell_type": "markdown",
   "metadata": {},
   "source": [
    "Here, I will make a subjective judgement that, people younger than 16 and older than 90 wouldn't be travelling and booking apartments on AirBnB. Perhaps, I could stretch it to 15 - 95 range, but that will only be adding 145 observations (too small a value to make big difference, I suppose)."
   ]
  },
  {
   "cell_type": "code",
   "execution_count": 22,
   "metadata": {
    "collapsed": false
   },
   "outputs": [],
   "source": [
    "df['age'] = np.where((df.age < 16) | (df.age > 90), np.nan, df.age)"
   ]
  },
  {
   "cell_type": "markdown",
   "metadata": {},
   "source": [
    "Finally, we need to incorporate the information in the __`age`__ feature related to all the `NaN` values. There is a large amount of them and they can potentially be useful for predictive analysis. So, we can turn them into a category of their own. This can be done by replacing the missing values with, for example, 999."
   ]
  },
  {
   "cell_type": "code",
   "execution_count": 23,
   "metadata": {
    "collapsed": false
   },
   "outputs": [],
   "source": [
    "df['age'].replace(np.nan, 999, inplace=True)"
   ]
  },
  {
   "cell_type": "markdown",
   "metadata": {},
   "source": [
    "It is better to discretize the __`age`__ feature by dividing it into bins of a width equal 5 years. The new categorical age variable is called __`age_cats`__:"
   ]
  },
  {
   "cell_type": "code",
   "execution_count": 24,
   "metadata": {
    "collapsed": true
   },
   "outputs": [],
   "source": [
    "bins = [df.age.min()-1, 20, 25, 30, 35, 40, 45, 50, 55, 60, 65, 90, df.age.max()]\n",
    "labels = [ \"{0} - {1}\".format(i, i + 4) for i in range(16, 66, 5) ]\n",
    "labels.extend(['66 - 90', '999'])\n",
    "df['age_cats'] = pd.cut(df.age, bins, labels=labels)\n",
    "df = df.drop(['age'], axis=1)"
   ]
  },
  {
   "cell_type": "code",
   "execution_count": 25,
   "metadata": {
    "collapsed": false,
    "scrolled": false
   },
   "outputs": [
    {
     "data": {
      "image/png": "[encoded data removed]",
      "text/plain": [
       "<matplotlib.figure.Figure at 0x7f2fe04f7f28>"
      ]
     },
     "metadata": {},
     "output_type": "display_data"
    }
   ],
   "source": [
    "plt.clf()\n",
    "df['age_cats'].value_counts(sort=0).plot(kind='bar', color='g', alpha=0.4)\n",
    "plt.tight_layout()\n",
    "plt.title('Age distribution')\n",
    "plt.xlabel('Age groups')\n",
    "plt.grid()\n",
    "plt.show()"
   ]
  },
  {
   "cell_type": "markdown",
   "metadata": {},
   "source": [
    "We're done with the age column now. \n",
    "\n",
    "Let's take a look at the datatypes now:"
   ]
  },
  {
   "cell_type": "code",
   "execution_count": 26,
   "metadata": {
    "collapsed": false
   },
   "outputs": [
    {
     "data": {
      "text/plain": [
       "affiliate_channel            object\n",
       "affiliate_provider           object\n",
       "country_destination          object\n",
       "first_affiliate_tracked      object\n",
       "first_browser                object\n",
       "first_device_type            object\n",
       "gender                       object\n",
       "id                           object\n",
       "language                     object\n",
       "signup_app                   object\n",
       "signup_flow                   int64\n",
       "signup_method                object\n",
       "year_first_active             int64\n",
       "month_first_active            int64\n",
       "day_first_active              int64\n",
       "hour_first_active             int64\n",
       "year_account_created          int64\n",
       "month_account_created         int64\n",
       "day_account_created           int64\n",
       "age_cats                   category\n",
       "dtype: object"
      ]
     },
     "execution_count": 26,
     "metadata": {},
     "output_type": "execute_result"
    }
   ],
   "source": [
    "df.dtypes"
   ]
  },
  {
   "cell_type": "markdown",
   "metadata": {},
   "source": [
    "Apart from all the date/time related columns, the only continuous feature (datatype \"int\") is __`signup_flow`__. This feature indicates the page a user came from to signup up. So, really, it's a categorical feature."
   ]
  },
  {
   "cell_type": "markdown",
   "metadata": {},
   "source": [
    "I will transform all these categorical features using one hot encoding, so that each category of a categorical feature is a separate column of zeros and ones. The __`first_affiliate_tracked`__ feature is the only one with missing values now. The `NaN` values of this feature will also be transformed into a separate category indicating where the observation is missing a value."
   ]
  },
  {
   "cell_type": "code",
   "execution_count": 27,
   "metadata": {
    "collapsed": false,
    "scrolled": false
   },
   "outputs": [],
   "source": [
    "cols = list(df.columns)\n",
    "cols.remove('id')\n",
    "cols.remove('country_destination')\n",
    "df = pd.get_dummies(df, columns=cols, dummy_na=True, prefix=cols)\n",
    "\n",
    "cols_to_drop = [col + '_nan' for col in cols if col != 'first_affiliate_tracked']\n",
    "df = df.drop(cols_to_drop, axis=1)  "
   ]
  },
  {
   "cell_type": "markdown",
   "metadata": {},
   "source": [
    "We're done with this dataset. Next we need to combine with it the other available dataset in the file __`sessions.csv`__."
   ]
  },
  {
   "cell_type": "markdown",
   "metadata": {},
   "source": [
    "### Merging sessions data with users data"
   ]
  },
  {
   "cell_type": "markdown",
   "metadata": {},
   "source": [
    "Let's load the data and take a look at it:"
   ]
  },
  {
   "cell_type": "code",
   "execution_count": 28,
   "metadata": {
    "collapsed": false,
    "scrolled": true
   },
   "outputs": [
    {
     "data": {
      "text/html": [
       "<div>\n",
       "<table border=\"1\" class=\"dataframe\">\n",
       "  <thead>\n",
       "    <tr style=\"text-align: right;\">\n",
       "      <th></th>\n",
       "      <th>user_id</th>\n",
       "      <th>action</th>\n",
       "      <th>action_type</th>\n",
       "      <th>action_detail</th>\n",
       "      <th>device_type</th>\n",
       "      <th>secs_elapsed</th>\n",
       "    </tr>\n",
       "  </thead>\n",
       "  <tbody>\n",
       "    <tr>\n",
       "      <th>0</th>\n",
       "      <td>d1mm9tcy42</td>\n",
       "      <td>lookup</td>\n",
       "      <td>NaN</td>\n",
       "      <td>NaN</td>\n",
       "      <td>Windows Desktop</td>\n",
       "      <td>319.0</td>\n",
       "    </tr>\n",
       "    <tr>\n",
       "      <th>1</th>\n",
       "      <td>d1mm9tcy42</td>\n",
       "      <td>search_results</td>\n",
       "      <td>click</td>\n",
       "      <td>view_search_results</td>\n",
       "      <td>Windows Desktop</td>\n",
       "      <td>67753.0</td>\n",
       "    </tr>\n",
       "    <tr>\n",
       "      <th>2</th>\n",
       "      <td>d1mm9tcy42</td>\n",
       "      <td>lookup</td>\n",
       "      <td>NaN</td>\n",
       "      <td>NaN</td>\n",
       "      <td>Windows Desktop</td>\n",
       "      <td>301.0</td>\n",
       "    </tr>\n",
       "    <tr>\n",
       "      <th>3</th>\n",
       "      <td>d1mm9tcy42</td>\n",
       "      <td>search_results</td>\n",
       "      <td>click</td>\n",
       "      <td>view_search_results</td>\n",
       "      <td>Windows Desktop</td>\n",
       "      <td>22141.0</td>\n",
       "    </tr>\n",
       "    <tr>\n",
       "      <th>4</th>\n",
       "      <td>d1mm9tcy42</td>\n",
       "      <td>lookup</td>\n",
       "      <td>NaN</td>\n",
       "      <td>NaN</td>\n",
       "      <td>Windows Desktop</td>\n",
       "      <td>435.0</td>\n",
       "    </tr>\n",
       "    <tr>\n",
       "      <th>5</th>\n",
       "      <td>d1mm9tcy42</td>\n",
       "      <td>search_results</td>\n",
       "      <td>click</td>\n",
       "      <td>view_search_results</td>\n",
       "      <td>Windows Desktop</td>\n",
       "      <td>7703.0</td>\n",
       "    </tr>\n",
       "    <tr>\n",
       "      <th>6</th>\n",
       "      <td>d1mm9tcy42</td>\n",
       "      <td>lookup</td>\n",
       "      <td>NaN</td>\n",
       "      <td>NaN</td>\n",
       "      <td>Windows Desktop</td>\n",
       "      <td>115.0</td>\n",
       "    </tr>\n",
       "    <tr>\n",
       "      <th>7</th>\n",
       "      <td>d1mm9tcy42</td>\n",
       "      <td>personalize</td>\n",
       "      <td>data</td>\n",
       "      <td>wishlist_content_update</td>\n",
       "      <td>Windows Desktop</td>\n",
       "      <td>831.0</td>\n",
       "    </tr>\n",
       "    <tr>\n",
       "      <th>8</th>\n",
       "      <td>d1mm9tcy42</td>\n",
       "      <td>index</td>\n",
       "      <td>view</td>\n",
       "      <td>view_search_results</td>\n",
       "      <td>Windows Desktop</td>\n",
       "      <td>20842.0</td>\n",
       "    </tr>\n",
       "    <tr>\n",
       "      <th>9</th>\n",
       "      <td>d1mm9tcy42</td>\n",
       "      <td>lookup</td>\n",
       "      <td>NaN</td>\n",
       "      <td>NaN</td>\n",
       "      <td>Windows Desktop</td>\n",
       "      <td>683.0</td>\n",
       "    </tr>\n",
       "    <tr>\n",
       "      <th>10</th>\n",
       "      <td>d1mm9tcy42</td>\n",
       "      <td>search_results</td>\n",
       "      <td>click</td>\n",
       "      <td>view_search_results</td>\n",
       "      <td>Windows Desktop</td>\n",
       "      <td>59274.0</td>\n",
       "    </tr>\n",
       "    <tr>\n",
       "      <th>11</th>\n",
       "      <td>d1mm9tcy42</td>\n",
       "      <td>lookup</td>\n",
       "      <td>NaN</td>\n",
       "      <td>NaN</td>\n",
       "      <td>Windows Desktop</td>\n",
       "      <td>95.0</td>\n",
       "    </tr>\n",
       "    <tr>\n",
       "      <th>12</th>\n",
       "      <td>d1mm9tcy42</td>\n",
       "      <td>personalize</td>\n",
       "      <td>data</td>\n",
       "      <td>wishlist_content_update</td>\n",
       "      <td>Windows Desktop</td>\n",
       "      <td>1399.0</td>\n",
       "    </tr>\n",
       "    <tr>\n",
       "      <th>13</th>\n",
       "      <td>d1mm9tcy42</td>\n",
       "      <td>index</td>\n",
       "      <td>view</td>\n",
       "      <td>view_search_results</td>\n",
       "      <td>Windows Desktop</td>\n",
       "      <td>74886.0</td>\n",
       "    </tr>\n",
       "    <tr>\n",
       "      <th>14</th>\n",
       "      <td>d1mm9tcy42</td>\n",
       "      <td>similar_listings</td>\n",
       "      <td>data</td>\n",
       "      <td>similar_listings</td>\n",
       "      <td>Windows Desktop</td>\n",
       "      <td>255.0</td>\n",
       "    </tr>\n",
       "    <tr>\n",
       "      <th>15</th>\n",
       "      <td>d1mm9tcy42</td>\n",
       "      <td>ajax_refresh_subtotal</td>\n",
       "      <td>click</td>\n",
       "      <td>change_trip_characteristics</td>\n",
       "      <td>Windows Desktop</td>\n",
       "      <td>8134.0</td>\n",
       "    </tr>\n",
       "    <tr>\n",
       "      <th>16</th>\n",
       "      <td>d1mm9tcy42</td>\n",
       "      <td>similar_listings</td>\n",
       "      <td>data</td>\n",
       "      <td>similar_listings</td>\n",
       "      <td>Windows Desktop</td>\n",
       "      <td>183.0</td>\n",
       "    </tr>\n",
       "    <tr>\n",
       "      <th>17</th>\n",
       "      <td>d1mm9tcy42</td>\n",
       "      <td>ajax_refresh_subtotal</td>\n",
       "      <td>click</td>\n",
       "      <td>change_trip_characteristics</td>\n",
       "      <td>Windows Desktop</td>\n",
       "      <td>175570.0</td>\n",
       "    </tr>\n",
       "    <tr>\n",
       "      <th>18</th>\n",
       "      <td>d1mm9tcy42</td>\n",
       "      <td>show</td>\n",
       "      <td>NaN</td>\n",
       "      <td>NaN</td>\n",
       "      <td>Windows Desktop</td>\n",
       "      <td>86.0</td>\n",
       "    </tr>\n",
       "    <tr>\n",
       "      <th>19</th>\n",
       "      <td>d1mm9tcy42</td>\n",
       "      <td>personalize</td>\n",
       "      <td>data</td>\n",
       "      <td>wishlist_content_update</td>\n",
       "      <td>Windows Desktop</td>\n",
       "      <td>1535.0</td>\n",
       "    </tr>\n",
       "    <tr>\n",
       "      <th>20</th>\n",
       "      <td>d1mm9tcy42</td>\n",
       "      <td>show</td>\n",
       "      <td>view</td>\n",
       "      <td>p3</td>\n",
       "      <td>Windows Desktop</td>\n",
       "      <td>83251.0</td>\n",
       "    </tr>\n",
       "    <tr>\n",
       "      <th>21</th>\n",
       "      <td>d1mm9tcy42</td>\n",
       "      <td>lookup</td>\n",
       "      <td>NaN</td>\n",
       "      <td>NaN</td>\n",
       "      <td>Windows Desktop</td>\n",
       "      <td>360.0</td>\n",
       "    </tr>\n",
       "    <tr>\n",
       "      <th>22</th>\n",
       "      <td>d1mm9tcy42</td>\n",
       "      <td>search_results</td>\n",
       "      <td>click</td>\n",
       "      <td>view_search_results</td>\n",
       "      <td>Windows Desktop</td>\n",
       "      <td>2488.0</td>\n",
       "    </tr>\n",
       "    <tr>\n",
       "      <th>23</th>\n",
       "      <td>d1mm9tcy42</td>\n",
       "      <td>lookup</td>\n",
       "      <td>NaN</td>\n",
       "      <td>NaN</td>\n",
       "      <td>Windows Desktop</td>\n",
       "      <td>456.0</td>\n",
       "    </tr>\n",
       "    <tr>\n",
       "      <th>24</th>\n",
       "      <td>d1mm9tcy42</td>\n",
       "      <td>search_results</td>\n",
       "      <td>click</td>\n",
       "      <td>view_search_results</td>\n",
       "      <td>Windows Desktop</td>\n",
       "      <td>10053.0</td>\n",
       "    </tr>\n",
       "    <tr>\n",
       "      <th>25</th>\n",
       "      <td>d1mm9tcy42</td>\n",
       "      <td>personalize</td>\n",
       "      <td>data</td>\n",
       "      <td>wishlist_content_update</td>\n",
       "      <td>Windows Desktop</td>\n",
       "      <td>50.0</td>\n",
       "    </tr>\n",
       "    <tr>\n",
       "      <th>26</th>\n",
       "      <td>d1mm9tcy42</td>\n",
       "      <td>lookup</td>\n",
       "      <td>NaN</td>\n",
       "      <td>NaN</td>\n",
       "      <td>Windows Desktop</td>\n",
       "      <td>1996.0</td>\n",
       "    </tr>\n",
       "    <tr>\n",
       "      <th>27</th>\n",
       "      <td>d1mm9tcy42</td>\n",
       "      <td>index</td>\n",
       "      <td>view</td>\n",
       "      <td>view_search_results</td>\n",
       "      <td>Windows Desktop</td>\n",
       "      <td>82263.0</td>\n",
       "    </tr>\n",
       "    <tr>\n",
       "      <th>28</th>\n",
       "      <td>d1mm9tcy42</td>\n",
       "      <td>show</td>\n",
       "      <td>NaN</td>\n",
       "      <td>NaN</td>\n",
       "      <td>Windows Desktop</td>\n",
       "      <td>102.0</td>\n",
       "    </tr>\n",
       "    <tr>\n",
       "      <th>29</th>\n",
       "      <td>d1mm9tcy42</td>\n",
       "      <td>personalize</td>\n",
       "      <td>data</td>\n",
       "      <td>wishlist_content_update</td>\n",
       "      <td>Windows Desktop</td>\n",
       "      <td>673.0</td>\n",
       "    </tr>\n",
       "    <tr>\n",
       "      <th>...</th>\n",
       "      <td>...</td>\n",
       "      <td>...</td>\n",
       "      <td>...</td>\n",
       "      <td>...</td>\n",
       "      <td>...</td>\n",
       "      <td>...</td>\n",
       "    </tr>\n",
       "    <tr>\n",
       "      <th>10567707</th>\n",
       "      <td>87k0fy4ugm</td>\n",
       "      <td>update</td>\n",
       "      <td>submit</td>\n",
       "      <td>update_listing</td>\n",
       "      <td>Mac Desktop</td>\n",
       "      <td>3490.0</td>\n",
       "    </tr>\n",
       "    <tr>\n",
       "      <th>10567708</th>\n",
       "      <td>87k0fy4ugm</td>\n",
       "      <td>create</td>\n",
       "      <td>-unknown-</td>\n",
       "      <td>-unknown-</td>\n",
       "      <td>Mac Desktop</td>\n",
       "      <td>26491.0</td>\n",
       "    </tr>\n",
       "    <tr>\n",
       "      <th>10567709</th>\n",
       "      <td>87k0fy4ugm</td>\n",
       "      <td>personalize</td>\n",
       "      <td>data</td>\n",
       "      <td>wishlist_content_update</td>\n",
       "      <td>Mac Desktop</td>\n",
       "      <td>189.0</td>\n",
       "    </tr>\n",
       "    <tr>\n",
       "      <th>10567710</th>\n",
       "      <td>87k0fy4ugm</td>\n",
       "      <td>header_userpic</td>\n",
       "      <td>data</td>\n",
       "      <td>header_userpic</td>\n",
       "      <td>Mac Desktop</td>\n",
       "      <td>698.0</td>\n",
       "    </tr>\n",
       "    <tr>\n",
       "      <th>10567711</th>\n",
       "      <td>87k0fy4ugm</td>\n",
       "      <td>create</td>\n",
       "      <td>submit</td>\n",
       "      <td>create_user</td>\n",
       "      <td>Mac Desktop</td>\n",
       "      <td>NaN</td>\n",
       "    </tr>\n",
       "    <tr>\n",
       "      <th>10567712</th>\n",
       "      <td>87k0fy4ugm</td>\n",
       "      <td>show</td>\n",
       "      <td>view</td>\n",
       "      <td>p3</td>\n",
       "      <td>Mac Desktop</td>\n",
       "      <td>21062.0</td>\n",
       "    </tr>\n",
       "    <tr>\n",
       "      <th>10567713</th>\n",
       "      <td>87k0fy4ugm</td>\n",
       "      <td>header_userpic</td>\n",
       "      <td>data</td>\n",
       "      <td>header_userpic</td>\n",
       "      <td>iPhone</td>\n",
       "      <td>897.0</td>\n",
       "    </tr>\n",
       "    <tr>\n",
       "      <th>10567714</th>\n",
       "      <td>87k0fy4ugm</td>\n",
       "      <td>personalize</td>\n",
       "      <td>data</td>\n",
       "      <td>wishlist_content_update</td>\n",
       "      <td>Mac Desktop</td>\n",
       "      <td>17.0</td>\n",
       "    </tr>\n",
       "    <tr>\n",
       "      <th>10567715</th>\n",
       "      <td>87k0fy4ugm</td>\n",
       "      <td>ajax_refresh_subtotal</td>\n",
       "      <td>click</td>\n",
       "      <td>change_trip_characteristics</td>\n",
       "      <td>Mac Desktop</td>\n",
       "      <td>602.0</td>\n",
       "    </tr>\n",
       "    <tr>\n",
       "      <th>10567716</th>\n",
       "      <td>87k0fy4ugm</td>\n",
       "      <td>similar_listings</td>\n",
       "      <td>data</td>\n",
       "      <td>similar_listings</td>\n",
       "      <td>Mac Desktop</td>\n",
       "      <td>257.0</td>\n",
       "    </tr>\n",
       "    <tr>\n",
       "      <th>10567717</th>\n",
       "      <td>87k0fy4ugm</td>\n",
       "      <td>index</td>\n",
       "      <td>view</td>\n",
       "      <td>view_search_results</td>\n",
       "      <td>Mac Desktop</td>\n",
       "      <td>14711.0</td>\n",
       "    </tr>\n",
       "    <tr>\n",
       "      <th>10567718</th>\n",
       "      <td>87k0fy4ugm</td>\n",
       "      <td>confirm_email</td>\n",
       "      <td>click</td>\n",
       "      <td>confirm_email_link</td>\n",
       "      <td>iPhone</td>\n",
       "      <td>253296.0</td>\n",
       "    </tr>\n",
       "    <tr>\n",
       "      <th>10567719</th>\n",
       "      <td>87k0fy4ugm</td>\n",
       "      <td>authenticate</td>\n",
       "      <td>submit</td>\n",
       "      <td>login</td>\n",
       "      <td>iPhone</td>\n",
       "      <td>26581.0</td>\n",
       "    </tr>\n",
       "    <tr>\n",
       "      <th>10567720</th>\n",
       "      <td>87k0fy4ugm</td>\n",
       "      <td>dashboard</td>\n",
       "      <td>view</td>\n",
       "      <td>dashboard</td>\n",
       "      <td>iPhone</td>\n",
       "      <td>2694.0</td>\n",
       "    </tr>\n",
       "    <tr>\n",
       "      <th>10567721</th>\n",
       "      <td>9uqfg8txu3</td>\n",
       "      <td>show</td>\n",
       "      <td>view</td>\n",
       "      <td>user_profile</td>\n",
       "      <td>Windows Desktop</td>\n",
       "      <td>447.0</td>\n",
       "    </tr>\n",
       "    <tr>\n",
       "      <th>10567722</th>\n",
       "      <td>9uqfg8txu3</td>\n",
       "      <td>update</td>\n",
       "      <td>submit</td>\n",
       "      <td>update_user_profile</td>\n",
       "      <td>Windows Desktop</td>\n",
       "      <td>124020.0</td>\n",
       "    </tr>\n",
       "    <tr>\n",
       "      <th>10567723</th>\n",
       "      <td>9uqfg8txu3</td>\n",
       "      <td>edit</td>\n",
       "      <td>view</td>\n",
       "      <td>edit_profile</td>\n",
       "      <td>Windows Desktop</td>\n",
       "      <td>22920.0</td>\n",
       "    </tr>\n",
       "    <tr>\n",
       "      <th>10567724</th>\n",
       "      <td>9uqfg8txu3</td>\n",
       "      <td>languages_multiselect</td>\n",
       "      <td>-unknown-</td>\n",
       "      <td>-unknown-</td>\n",
       "      <td>Windows Desktop</td>\n",
       "      <td>575816.0</td>\n",
       "    </tr>\n",
       "    <tr>\n",
       "      <th>10567725</th>\n",
       "      <td>9uqfg8txu3</td>\n",
       "      <td>create</td>\n",
       "      <td>submit</td>\n",
       "      <td>create_phone_numbers</td>\n",
       "      <td>Windows Desktop</td>\n",
       "      <td>57382.0</td>\n",
       "    </tr>\n",
       "    <tr>\n",
       "      <th>10567726</th>\n",
       "      <td>9uqfg8txu3</td>\n",
       "      <td>callback</td>\n",
       "      <td>partner_callback</td>\n",
       "      <td>oauth_response</td>\n",
       "      <td>Windows Desktop</td>\n",
       "      <td>NaN</td>\n",
       "    </tr>\n",
       "    <tr>\n",
       "      <th>10567727</th>\n",
       "      <td>9uqfg8txu3</td>\n",
       "      <td>active</td>\n",
       "      <td>-unknown-</td>\n",
       "      <td>-unknown-</td>\n",
       "      <td>-unknown-</td>\n",
       "      <td>353.0</td>\n",
       "    </tr>\n",
       "    <tr>\n",
       "      <th>10567728</th>\n",
       "      <td>9uqfg8txu3</td>\n",
       "      <td>create</td>\n",
       "      <td>submit</td>\n",
       "      <td>create_phone_numbers</td>\n",
       "      <td>Windows Desktop</td>\n",
       "      <td>27206.0</td>\n",
       "    </tr>\n",
       "    <tr>\n",
       "      <th>10567729</th>\n",
       "      <td>9uqfg8txu3</td>\n",
       "      <td>header_userpic</td>\n",
       "      <td>data</td>\n",
       "      <td>header_userpic</td>\n",
       "      <td>Windows Desktop</td>\n",
       "      <td>1939.0</td>\n",
       "    </tr>\n",
       "    <tr>\n",
       "      <th>10567730</th>\n",
       "      <td>9uqfg8txu3</td>\n",
       "      <td>edit</td>\n",
       "      <td>view</td>\n",
       "      <td>edit_profile</td>\n",
       "      <td>Windows Desktop</td>\n",
       "      <td>1752436.0</td>\n",
       "    </tr>\n",
       "    <tr>\n",
       "      <th>10567731</th>\n",
       "      <td>9uqfg8txu3</td>\n",
       "      <td>edit</td>\n",
       "      <td>view</td>\n",
       "      <td>edit_profile</td>\n",
       "      <td>Windows Desktop</td>\n",
       "      <td>15875.0</td>\n",
       "    </tr>\n",
       "    <tr>\n",
       "      <th>10567732</th>\n",
       "      <td>9uqfg8txu3</td>\n",
       "      <td>dashboard</td>\n",
       "      <td>view</td>\n",
       "      <td>dashboard</td>\n",
       "      <td>Windows Desktop</td>\n",
       "      <td>556.0</td>\n",
       "    </tr>\n",
       "    <tr>\n",
       "      <th>10567733</th>\n",
       "      <td>9uqfg8txu3</td>\n",
       "      <td>edit</td>\n",
       "      <td>view</td>\n",
       "      <td>edit_profile</td>\n",
       "      <td>Windows Desktop</td>\n",
       "      <td>6624.0</td>\n",
       "    </tr>\n",
       "    <tr>\n",
       "      <th>10567734</th>\n",
       "      <td>9uqfg8txu3</td>\n",
       "      <td>webcam_upload</td>\n",
       "      <td>-unknown-</td>\n",
       "      <td>-unknown-</td>\n",
       "      <td>Windows Desktop</td>\n",
       "      <td>200125.0</td>\n",
       "    </tr>\n",
       "    <tr>\n",
       "      <th>10567735</th>\n",
       "      <td>9uqfg8txu3</td>\n",
       "      <td>active</td>\n",
       "      <td>-unknown-</td>\n",
       "      <td>-unknown-</td>\n",
       "      <td>-unknown-</td>\n",
       "      <td>17624.0</td>\n",
       "    </tr>\n",
       "    <tr>\n",
       "      <th>10567736</th>\n",
       "      <td>9uqfg8txu3</td>\n",
       "      <td>show_personalize</td>\n",
       "      <td>data</td>\n",
       "      <td>user_profile_content_update</td>\n",
       "      <td>Windows Desktop</td>\n",
       "      <td>1221.0</td>\n",
       "    </tr>\n",
       "  </tbody>\n",
       "</table>\n",
       "<p>10567737 rows × 6 columns</p>\n",
       "</div>"
      ],
      "text/plain": [
       "             user_id                 action       action_type  \\\n",
       "0         d1mm9tcy42                 lookup               NaN   \n",
       "1         d1mm9tcy42         search_results             click   \n",
       "2         d1mm9tcy42                 lookup               NaN   \n",
       "3         d1mm9tcy42         search_results             click   \n",
       "4         d1mm9tcy42                 lookup               NaN   \n",
       "5         d1mm9tcy42         search_results             click   \n",
       "6         d1mm9tcy42                 lookup               NaN   \n",
       "7         d1mm9tcy42            personalize              data   \n",
       "8         d1mm9tcy42                  index              view   \n",
       "9         d1mm9tcy42                 lookup               NaN   \n",
       "10        d1mm9tcy42         search_results             click   \n",
       "11        d1mm9tcy42                 lookup               NaN   \n",
       "12        d1mm9tcy42            personalize              data   \n",
       "13        d1mm9tcy42                  index              view   \n",
       "14        d1mm9tcy42       similar_listings              data   \n",
       "15        d1mm9tcy42  ajax_refresh_subtotal             click   \n",
       "16        d1mm9tcy42       similar_listings              data   \n",
       "17        d1mm9tcy42  ajax_refresh_subtotal             click   \n",
       "18        d1mm9tcy42                   show               NaN   \n",
       "19        d1mm9tcy42            personalize              data   \n",
       "20        d1mm9tcy42                   show              view   \n",
       "21        d1mm9tcy42                 lookup               NaN   \n",
       "22        d1mm9tcy42         search_results             click   \n",
       "23        d1mm9tcy42                 lookup               NaN   \n",
       "24        d1mm9tcy42         search_results             click   \n",
       "25        d1mm9tcy42            personalize              data   \n",
       "26        d1mm9tcy42                 lookup               NaN   \n",
       "27        d1mm9tcy42                  index              view   \n",
       "28        d1mm9tcy42                   show               NaN   \n",
       "29        d1mm9tcy42            personalize              data   \n",
       "...              ...                    ...               ...   \n",
       "10567707  87k0fy4ugm                 update            submit   \n",
       "10567708  87k0fy4ugm                 create         -unknown-   \n",
       "10567709  87k0fy4ugm            personalize              data   \n",
       "10567710  87k0fy4ugm         header_userpic              data   \n",
       "10567711  87k0fy4ugm                 create            submit   \n",
       "10567712  87k0fy4ugm                   show              view   \n",
       "10567713  87k0fy4ugm         header_userpic              data   \n",
       "10567714  87k0fy4ugm            personalize              data   \n",
       "10567715  87k0fy4ugm  ajax_refresh_subtotal             click   \n",
       "10567716  87k0fy4ugm       similar_listings              data   \n",
       "10567717  87k0fy4ugm                  index              view   \n",
       "10567718  87k0fy4ugm          confirm_email             click   \n",
       "10567719  87k0fy4ugm           authenticate            submit   \n",
       "10567720  87k0fy4ugm              dashboard              view   \n",
       "10567721  9uqfg8txu3                   show              view   \n",
       "10567722  9uqfg8txu3                 update            submit   \n",
       "10567723  9uqfg8txu3                   edit              view   \n",
       "10567724  9uqfg8txu3  languages_multiselect         -unknown-   \n",
       "10567725  9uqfg8txu3                 create            submit   \n",
       "10567726  9uqfg8txu3               callback  partner_callback   \n",
       "10567727  9uqfg8txu3                 active         -unknown-   \n",
       "10567728  9uqfg8txu3                 create            submit   \n",
       "10567729  9uqfg8txu3         header_userpic              data   \n",
       "10567730  9uqfg8txu3                   edit              view   \n",
       "10567731  9uqfg8txu3                   edit              view   \n",
       "10567732  9uqfg8txu3              dashboard              view   \n",
       "10567733  9uqfg8txu3                   edit              view   \n",
       "10567734  9uqfg8txu3          webcam_upload         -unknown-   \n",
       "10567735  9uqfg8txu3                 active         -unknown-   \n",
       "10567736  9uqfg8txu3       show_personalize              data   \n",
       "\n",
       "                        action_detail      device_type  secs_elapsed  \n",
       "0                                 NaN  Windows Desktop         319.0  \n",
       "1                 view_search_results  Windows Desktop       67753.0  \n",
       "2                                 NaN  Windows Desktop         301.0  \n",
       "3                 view_search_results  Windows Desktop       22141.0  \n",
       "4                                 NaN  Windows Desktop         435.0  \n",
       "5                 view_search_results  Windows Desktop        7703.0  \n",
       "6                                 NaN  Windows Desktop         115.0  \n",
       "7             wishlist_content_update  Windows Desktop         831.0  \n",
       "8                 view_search_results  Windows Desktop       20842.0  \n",
       "9                                 NaN  Windows Desktop         683.0  \n",
       "10                view_search_results  Windows Desktop       59274.0  \n",
       "11                                NaN  Windows Desktop          95.0  \n",
       "12            wishlist_content_update  Windows Desktop        1399.0  \n",
       "13                view_search_results  Windows Desktop       74886.0  \n",
       "14                   similar_listings  Windows Desktop         255.0  \n",
       "15        change_trip_characteristics  Windows Desktop        8134.0  \n",
       "16                   similar_listings  Windows Desktop         183.0  \n",
       "17        change_trip_characteristics  Windows Desktop      175570.0  \n",
       "18                                NaN  Windows Desktop          86.0  \n",
       "19            wishlist_content_update  Windows Desktop        1535.0  \n",
       "20                                 p3  Windows Desktop       83251.0  \n",
       "21                                NaN  Windows Desktop         360.0  \n",
       "22                view_search_results  Windows Desktop        2488.0  \n",
       "23                                NaN  Windows Desktop         456.0  \n",
       "24                view_search_results  Windows Desktop       10053.0  \n",
       "25            wishlist_content_update  Windows Desktop          50.0  \n",
       "26                                NaN  Windows Desktop        1996.0  \n",
       "27                view_search_results  Windows Desktop       82263.0  \n",
       "28                                NaN  Windows Desktop         102.0  \n",
       "29            wishlist_content_update  Windows Desktop         673.0  \n",
       "...                               ...              ...           ...  \n",
       "10567707               update_listing      Mac Desktop        3490.0  \n",
       "10567708                    -unknown-      Mac Desktop       26491.0  \n",
       "10567709      wishlist_content_update      Mac Desktop         189.0  \n",
       "10567710               header_userpic      Mac Desktop         698.0  \n",
       "10567711                  create_user      Mac Desktop           NaN  \n",
       "10567712                           p3      Mac Desktop       21062.0  \n",
       "10567713               header_userpic           iPhone         897.0  \n",
       "10567714      wishlist_content_update      Mac Desktop          17.0  \n",
       "10567715  change_trip_characteristics      Mac Desktop         602.0  \n",
       "10567716             similar_listings      Mac Desktop         257.0  \n",
       "10567717          view_search_results      Mac Desktop       14711.0  \n",
       "10567718           confirm_email_link           iPhone      253296.0  \n",
       "10567719                        login           iPhone       26581.0  \n",
       "10567720                    dashboard           iPhone        2694.0  \n",
       "10567721                 user_profile  Windows Desktop         447.0  \n",
       "10567722          update_user_profile  Windows Desktop      124020.0  \n",
       "10567723                 edit_profile  Windows Desktop       22920.0  \n",
       "10567724                    -unknown-  Windows Desktop      575816.0  \n",
       "10567725         create_phone_numbers  Windows Desktop       57382.0  \n",
       "10567726               oauth_response  Windows Desktop           NaN  \n",
       "10567727                    -unknown-        -unknown-         353.0  \n",
       "10567728         create_phone_numbers  Windows Desktop       27206.0  \n",
       "10567729               header_userpic  Windows Desktop        1939.0  \n",
       "10567730                 edit_profile  Windows Desktop     1752436.0  \n",
       "10567731                 edit_profile  Windows Desktop       15875.0  \n",
       "10567732                    dashboard  Windows Desktop         556.0  \n",
       "10567733                 edit_profile  Windows Desktop        6624.0  \n",
       "10567734                    -unknown-  Windows Desktop      200125.0  \n",
       "10567735                    -unknown-        -unknown-       17624.0  \n",
       "10567736  user_profile_content_update  Windows Desktop        1221.0  \n",
       "\n",
       "[10567737 rows x 6 columns]"
      ]
     },
     "execution_count": 28,
     "metadata": {},
     "output_type": "execute_result"
    }
   ],
   "source": [
    "sessionsDF = pd.read_csv(path + 'sessions.csv')\n",
    "\n",
    "sessionsDF"
   ]
  },
  {
   "cell_type": "markdown",
   "metadata": {},
   "source": [
    "The __`user_id`__ column in the __`sessionsDF`__ dataframe indicates a user's id and can be used to join it with the __`df`__ dataframe. However, there are some missing values in the __`user_id`__:"
   ]
  },
  {
   "cell_type": "code",
   "execution_count": 29,
   "metadata": {
    "collapsed": false
   },
   "outputs": [
    {
     "name": "stdout",
     "output_type": "stream",
     "text": [
      "Number of observations in the sessionsDF dataframe: 10567737\n",
      "Number of missing values in user_id: 34496\n",
      "Number of missing values in action: 79626\n",
      "Number of missing values in action_type: 1126204\n",
      "Number of missing values in action_detail: 1126204\n",
      "Number of missing values in device_type: 0\n",
      "Number of missing values in secs_elapsed: 136031\n"
     ]
    }
   ],
   "source": [
    "print('Number of observations in the sessionsDF dataframe: {}'.format(sessionsDF.shape[0]))\n",
    "for col in sessionsDF.columns:\n",
    "    print('Number of missing values in {}: {}'.format(col, sessionsDF[col].isnull().sum()))"
   ]
  },
  {
   "cell_type": "markdown",
   "metadata": {},
   "source": [
    "We can drop the rows with missing user id, since we won't be able to use them anyway:"
   ]
  },
  {
   "cell_type": "code",
   "execution_count": 30,
   "metadata": {
    "collapsed": false
   },
   "outputs": [
    {
     "name": "stdout",
     "output_type": "stream",
     "text": [
      "Number of observations in the sessionsDF dataframe: 10533241\n",
      "Number of missing values in user_id: 0\n",
      "Number of missing values in action: 79480\n",
      "Number of missing values in action_type: 1122957\n",
      "Number of missing values in action_detail: 1122957\n",
      "Number of missing values in device_type: 0\n",
      "Number of missing values in secs_elapsed: 135483\n"
     ]
    }
   ],
   "source": [
    "sessionsDF = sessionsDF[sessionsDF.user_id.notnull()]\n",
    "\n",
    "print('Number of observations in the sessionsDF dataframe: {}'.format(sessionsDF.shape[0]))\n",
    "for col in sessionsDF.columns:\n",
    "    print('Number of missing values in {}: {}'.format(col, sessionsDF[col].isnull().sum()))"
   ]
  },
  {
   "cell_type": "markdown",
   "metadata": {
    "collapsed": false
   },
   "source": [
    "Each user can use different devices to access the AirBnB website. We can group the sessions dataframe by __`user_id`__ and __`device_type`__ and sum the __`secs_elapsed`__ to get the total amount of time spent on AirBnB by each user per device type:"
   ]
  },
  {
   "cell_type": "code",
   "execution_count": 31,
   "metadata": {
    "collapsed": false,
    "scrolled": true
   },
   "outputs": [
    {
     "data": {
      "text/html": [
       "<div>\n",
       "<table border=\"1\" class=\"dataframe\">\n",
       "  <thead>\n",
       "    <tr style=\"text-align: right;\">\n",
       "      <th></th>\n",
       "      <th>user_id</th>\n",
       "      <th>device_type</th>\n",
       "      <th>secs_elapsed</th>\n",
       "    </tr>\n",
       "  </thead>\n",
       "  <tbody>\n",
       "    <tr>\n",
       "      <th>0</th>\n",
       "      <td>00023iyk9l</td>\n",
       "      <td>Mac Desktop</td>\n",
       "      <td>295642.0</td>\n",
       "    </tr>\n",
       "    <tr>\n",
       "      <th>1</th>\n",
       "      <td>00023iyk9l</td>\n",
       "      <td>iPhone</td>\n",
       "      <td>572254.0</td>\n",
       "    </tr>\n",
       "    <tr>\n",
       "      <th>2</th>\n",
       "      <td>0010k6l0om</td>\n",
       "      <td>Mac Desktop</td>\n",
       "      <td>586543.0</td>\n",
       "    </tr>\n",
       "    <tr>\n",
       "      <th>3</th>\n",
       "      <td>001wyh0pz8</td>\n",
       "      <td>Android App Unknown Phone/Tablet</td>\n",
       "      <td>282965.0</td>\n",
       "    </tr>\n",
       "    <tr>\n",
       "      <th>4</th>\n",
       "      <td>0028jgx1x1</td>\n",
       "      <td>-unknown-</td>\n",
       "      <td>297010.0</td>\n",
       "    </tr>\n",
       "  </tbody>\n",
       "</table>\n",
       "</div>"
      ],
      "text/plain": [
       "      user_id                       device_type  secs_elapsed\n",
       "0  00023iyk9l                       Mac Desktop      295642.0\n",
       "1  00023iyk9l                            iPhone      572254.0\n",
       "2  0010k6l0om                       Mac Desktop      586543.0\n",
       "3  001wyh0pz8  Android App Unknown Phone/Tablet      282965.0\n",
       "4  0028jgx1x1                         -unknown-      297010.0"
      ]
     },
     "execution_count": 31,
     "metadata": {},
     "output_type": "execute_result"
    }
   ],
   "source": [
    "device_typeDF = sessionsDF.groupby(['user_id', 'device_type'], as_index=0)['secs_elapsed'].sum()\n",
    "device_typeDF.head()"
   ]
  },
  {
   "cell_type": "markdown",
   "metadata": {},
   "source": [
    "The maximum number of devices per user is 6 as shown below. However, 96% of users have only two devices and about 3.5%: of them used a third device to access AirBnB:"
   ]
  },
  {
   "cell_type": "code",
   "execution_count": 32,
   "metadata": {
    "collapsed": false,
    "scrolled": true
   },
   "outputs": [
    {
     "data": {
      "text/plain": [
       "1    0.730439\n",
       "2    0.229763\n",
       "3    0.034314\n",
       "4    0.004812\n",
       "5    0.000627\n",
       "6    0.000044\n",
       "Name: device_type, dtype: float64"
      ]
     },
     "execution_count": 32,
     "metadata": {},
     "output_type": "execute_result"
    }
   ],
   "source": [
    "temp_df = device_typeDF.groupby('user_id', as_index=0)['device_type'].count()\n",
    "\n",
    "temp_df.device_type.value_counts(normalize=1)"
   ]
  },
  {
   "cell_type": "markdown",
   "metadata": {},
   "source": [
    "We can create new features indicating the device type and seconds elapsed for that device type, as well as the total number of devices used to access AirBnB. Since, an overwhelming majority of people are using two devices, for each of these devices we can have a column indicating the type and a column indicating the seconds elapsed. So, in total 5 new features: "
   ]
  },
  {
   "cell_type": "markdown",
   "metadata": {
    "collapsed": false
   },
   "source": [
    "Let's start with the easy one - the number of devices. We already have a temporary dataframe __`temp_df`__ for that:"
   ]
  },
  {
   "cell_type": "code",
   "execution_count": 33,
   "metadata": {
    "collapsed": false
   },
   "outputs": [
    {
     "data": {
      "text/html": [
       "<div>\n",
       "<table border=\"1\" class=\"dataframe\">\n",
       "  <thead>\n",
       "    <tr style=\"text-align: right;\">\n",
       "      <th></th>\n",
       "      <th>user_id</th>\n",
       "      <th>numb_of_devices</th>\n",
       "    </tr>\n",
       "  </thead>\n",
       "  <tbody>\n",
       "    <tr>\n",
       "      <th>0</th>\n",
       "      <td>00023iyk9l</td>\n",
       "      <td>2</td>\n",
       "    </tr>\n",
       "    <tr>\n",
       "      <th>1</th>\n",
       "      <td>0010k6l0om</td>\n",
       "      <td>1</td>\n",
       "    </tr>\n",
       "    <tr>\n",
       "      <th>2</th>\n",
       "      <td>001wyh0pz8</td>\n",
       "      <td>1</td>\n",
       "    </tr>\n",
       "    <tr>\n",
       "      <th>3</th>\n",
       "      <td>0028jgx1x1</td>\n",
       "      <td>2</td>\n",
       "    </tr>\n",
       "    <tr>\n",
       "      <th>4</th>\n",
       "      <td>002qnbzfs5</td>\n",
       "      <td>2</td>\n",
       "    </tr>\n",
       "  </tbody>\n",
       "</table>\n",
       "</div>"
      ],
      "text/plain": [
       "      user_id  numb_of_devices\n",
       "0  00023iyk9l                2\n",
       "1  0010k6l0om                1\n",
       "2  001wyh0pz8                1\n",
       "3  0028jgx1x1                2\n",
       "4  002qnbzfs5                2"
      ]
     },
     "execution_count": 33,
     "metadata": {},
     "output_type": "execute_result"
    }
   ],
   "source": [
    "temp_df.columns = ['user_id', 'numb_of_devices']\n",
    "temp_df.head()"
   ]
  },
  {
   "cell_type": "markdown",
   "metadata": {},
   "source": [
    "Next, we extract information for the main device, which is a user's most used device, and the total session time using that device: "
   ]
  },
  {
   "cell_type": "code",
   "execution_count": 34,
   "metadata": {
    "collapsed": false,
    "scrolled": true
   },
   "outputs": [],
   "source": [
    "def getmain(data):\n",
    "    temp = data.sort_values('secs_elapsed', ascending=0)\n",
    "    temp = temp.reset_index()\n",
    "    return temp.loc[0, :]\n",
    "main_device = device_typeDF.groupby('user_id', as_index=0).apply(getmain)"
   ]
  },
  {
   "cell_type": "code",
   "execution_count": 35,
   "metadata": {
    "collapsed": true
   },
   "outputs": [],
   "source": [
    "temp_df = temp_df.set_index('user_id').join(main_device.iloc[:, 1:].set_index('user_id'))"
   ]
  },
  {
   "cell_type": "code",
   "execution_count": 36,
   "metadata": {
    "collapsed": false,
    "scrolled": true
   },
   "outputs": [
    {
     "data": {
      "text/html": [
       "<div>\n",
       "<table border=\"1\" class=\"dataframe\">\n",
       "  <thead>\n",
       "    <tr style=\"text-align: right;\">\n",
       "      <th></th>\n",
       "      <th>numb_of_devices</th>\n",
       "      <th>main_device</th>\n",
       "      <th>secs_elapsed_main_device</th>\n",
       "    </tr>\n",
       "    <tr>\n",
       "      <th>user_id</th>\n",
       "      <th></th>\n",
       "      <th></th>\n",
       "      <th></th>\n",
       "    </tr>\n",
       "  </thead>\n",
       "  <tbody>\n",
       "    <tr>\n",
       "      <th>00023iyk9l</th>\n",
       "      <td>2</td>\n",
       "      <td>iPhone</td>\n",
       "      <td>572254.0</td>\n",
       "    </tr>\n",
       "    <tr>\n",
       "      <th>0010k6l0om</th>\n",
       "      <td>1</td>\n",
       "      <td>Mac Desktop</td>\n",
       "      <td>586543.0</td>\n",
       "    </tr>\n",
       "    <tr>\n",
       "      <th>001wyh0pz8</th>\n",
       "      <td>1</td>\n",
       "      <td>Android App Unknown Phone/Tablet</td>\n",
       "      <td>282965.0</td>\n",
       "    </tr>\n",
       "    <tr>\n",
       "      <th>0028jgx1x1</th>\n",
       "      <td>2</td>\n",
       "      <td>-unknown-</td>\n",
       "      <td>297010.0</td>\n",
       "    </tr>\n",
       "    <tr>\n",
       "      <th>002qnbzfs5</th>\n",
       "      <td>2</td>\n",
       "      <td>iPhone</td>\n",
       "      <td>6283569.0</td>\n",
       "    </tr>\n",
       "  </tbody>\n",
       "</table>\n",
       "</div>"
      ],
      "text/plain": [
       "            numb_of_devices                       main_device  \\\n",
       "user_id                                                         \n",
       "00023iyk9l                2                            iPhone   \n",
       "0010k6l0om                1                       Mac Desktop   \n",
       "001wyh0pz8                1  Android App Unknown Phone/Tablet   \n",
       "0028jgx1x1                2                         -unknown-   \n",
       "002qnbzfs5                2                            iPhone   \n",
       "\n",
       "            secs_elapsed_main_device  \n",
       "user_id                               \n",
       "00023iyk9l                  572254.0  \n",
       "0010k6l0om                  586543.0  \n",
       "001wyh0pz8                  282965.0  \n",
       "0028jgx1x1                  297010.0  \n",
       "002qnbzfs5                 6283569.0  "
      ]
     },
     "execution_count": 36,
     "metadata": {},
     "output_type": "execute_result"
    }
   ],
   "source": [
    "temp_df.columns = ['numb_of_devices', 'main_device', 'secs_elapsed_main_device']\n",
    "temp_df.head()"
   ]
  },
  {
   "cell_type": "markdown",
   "metadata": {},
   "source": [
    "Now we need the same for the second most used device:"
   ]
  },
  {
   "cell_type": "code",
   "execution_count": 37,
   "metadata": {
    "collapsed": false,
    "scrolled": true
   },
   "outputs": [],
   "source": [
    "def dropmax(data):\n",
    "    temp = data.sort_values('secs_elapsed', ascending=0)\n",
    "    temp = temp.reset_index()\n",
    "    return temp.drop(temp.index[0])\n",
    "max_dropped = device_typeDF.groupby('user_id', as_index=0).apply(dropmax)"
   ]
  },
  {
   "cell_type": "code",
   "execution_count": 38,
   "metadata": {
    "collapsed": false
   },
   "outputs": [
    {
     "data": {
      "text/html": [
       "<div>\n",
       "<table border=\"1\" class=\"dataframe\">\n",
       "  <thead>\n",
       "    <tr style=\"text-align: right;\">\n",
       "      <th></th>\n",
       "      <th></th>\n",
       "      <th>index</th>\n",
       "      <th>user_id</th>\n",
       "      <th>device_type</th>\n",
       "      <th>secs_elapsed</th>\n",
       "    </tr>\n",
       "  </thead>\n",
       "  <tbody>\n",
       "    <tr>\n",
       "      <th>0</th>\n",
       "      <th>1</th>\n",
       "      <td>0</td>\n",
       "      <td>00023iyk9l</td>\n",
       "      <td>Mac Desktop</td>\n",
       "      <td>295642.0</td>\n",
       "    </tr>\n",
       "    <tr>\n",
       "      <th>3</th>\n",
       "      <th>1</th>\n",
       "      <td>5</td>\n",
       "      <td>0028jgx1x1</td>\n",
       "      <td>Android Phone</td>\n",
       "      <td>NaN</td>\n",
       "    </tr>\n",
       "    <tr>\n",
       "      <th>4</th>\n",
       "      <th>1</th>\n",
       "      <td>6</td>\n",
       "      <td>002qnbzfs5</td>\n",
       "      <td>-unknown-</td>\n",
       "      <td>203511.0</td>\n",
       "    </tr>\n",
       "    <tr>\n",
       "      <th>8</th>\n",
       "      <th>1</th>\n",
       "      <td>11</td>\n",
       "      <td>00389675gq</td>\n",
       "      <td>Android Phone</td>\n",
       "      <td>236259.0</td>\n",
       "    </tr>\n",
       "    <tr>\n",
       "      <th>11</th>\n",
       "      <th>1</th>\n",
       "      <td>15</td>\n",
       "      <td>0057snrdpu</td>\n",
       "      <td>Android Phone</td>\n",
       "      <td>4268.0</td>\n",
       "    </tr>\n",
       "  </tbody>\n",
       "</table>\n",
       "</div>"
      ],
      "text/plain": [
       "      index     user_id    device_type  secs_elapsed\n",
       "0  1      0  00023iyk9l    Mac Desktop      295642.0\n",
       "3  1      5  0028jgx1x1  Android Phone           NaN\n",
       "4  1      6  002qnbzfs5      -unknown-      203511.0\n",
       "8  1     11  00389675gq  Android Phone      236259.0\n",
       "11 1     15  0057snrdpu  Android Phone        4268.0"
      ]
     },
     "execution_count": 38,
     "metadata": {},
     "output_type": "execute_result"
    }
   ],
   "source": [
    "max_dropped.head()"
   ]
  },
  {
   "cell_type": "code",
   "execution_count": 39,
   "metadata": {
    "collapsed": false
   },
   "outputs": [],
   "source": [
    "second_device = max_dropped.groupby(['user_id'], sort=0)['secs_elapsed'].apply(max)"
   ]
  },
  {
   "cell_type": "code",
   "execution_count": 40,
   "metadata": {
    "collapsed": false
   },
   "outputs": [],
   "source": [
    "second_device = max_dropped.groupby('user_id', as_index=0).apply(getmain)"
   ]
  },
  {
   "cell_type": "code",
   "execution_count": 41,
   "metadata": {
    "collapsed": false,
    "scrolled": true
   },
   "outputs": [
    {
     "data": {
      "text/html": [
       "<div>\n",
       "<table border=\"1\" class=\"dataframe\">\n",
       "  <thead>\n",
       "    <tr style=\"text-align: right;\">\n",
       "      <th></th>\n",
       "      <th>level_0</th>\n",
       "      <th>level_1</th>\n",
       "      <th>index</th>\n",
       "      <th>user_id</th>\n",
       "      <th>device_type</th>\n",
       "      <th>secs_elapsed</th>\n",
       "    </tr>\n",
       "  </thead>\n",
       "  <tbody>\n",
       "    <tr>\n",
       "      <th>0</th>\n",
       "      <td>0</td>\n",
       "      <td>1</td>\n",
       "      <td>0</td>\n",
       "      <td>00023iyk9l</td>\n",
       "      <td>Mac Desktop</td>\n",
       "      <td>295642.0</td>\n",
       "    </tr>\n",
       "    <tr>\n",
       "      <th>1</th>\n",
       "      <td>3</td>\n",
       "      <td>1</td>\n",
       "      <td>5</td>\n",
       "      <td>0028jgx1x1</td>\n",
       "      <td>Android Phone</td>\n",
       "      <td>NaN</td>\n",
       "    </tr>\n",
       "    <tr>\n",
       "      <th>2</th>\n",
       "      <td>4</td>\n",
       "      <td>1</td>\n",
       "      <td>6</td>\n",
       "      <td>002qnbzfs5</td>\n",
       "      <td>-unknown-</td>\n",
       "      <td>203511.0</td>\n",
       "    </tr>\n",
       "    <tr>\n",
       "      <th>3</th>\n",
       "      <td>8</td>\n",
       "      <td>1</td>\n",
       "      <td>11</td>\n",
       "      <td>00389675gq</td>\n",
       "      <td>Android Phone</td>\n",
       "      <td>236259.0</td>\n",
       "    </tr>\n",
       "    <tr>\n",
       "      <th>4</th>\n",
       "      <td>11</td>\n",
       "      <td>1</td>\n",
       "      <td>15</td>\n",
       "      <td>0057snrdpu</td>\n",
       "      <td>Android Phone</td>\n",
       "      <td>4268.0</td>\n",
       "    </tr>\n",
       "  </tbody>\n",
       "</table>\n",
       "</div>"
      ],
      "text/plain": [
       "0  level_0  level_1  index     user_id    device_type  secs_elapsed\n",
       "0        0        1      0  00023iyk9l    Mac Desktop      295642.0\n",
       "1        3        1      5  0028jgx1x1  Android Phone           NaN\n",
       "2        4        1      6  002qnbzfs5      -unknown-      203511.0\n",
       "3        8        1     11  00389675gq  Android Phone      236259.0\n",
       "4       11        1     15  0057snrdpu  Android Phone        4268.0"
      ]
     },
     "execution_count": 41,
     "metadata": {},
     "output_type": "execute_result"
    }
   ],
   "source": [
    "second_device.head()"
   ]
  },
  {
   "cell_type": "code",
   "execution_count": 42,
   "metadata": {
    "collapsed": true
   },
   "outputs": [],
   "source": [
    "temp_df = temp_df.join(second_device.iloc[:, 3:].set_index('user_id'), how='outer')"
   ]
  },
  {
   "cell_type": "code",
   "execution_count": 43,
   "metadata": {
    "collapsed": false,
    "scrolled": true
   },
   "outputs": [
    {
     "data": {
      "text/html": [
       "<div>\n",
       "<table border=\"1\" class=\"dataframe\">\n",
       "  <thead>\n",
       "    <tr style=\"text-align: right;\">\n",
       "      <th></th>\n",
       "      <th>numb_of_devices</th>\n",
       "      <th>main_device</th>\n",
       "      <th>secs_elapsed_main_device</th>\n",
       "      <th>second_device</th>\n",
       "      <th>secs_elapsed_second_device</th>\n",
       "    </tr>\n",
       "    <tr>\n",
       "      <th>user_id</th>\n",
       "      <th></th>\n",
       "      <th></th>\n",
       "      <th></th>\n",
       "      <th></th>\n",
       "      <th></th>\n",
       "    </tr>\n",
       "  </thead>\n",
       "  <tbody>\n",
       "    <tr>\n",
       "      <th>00023iyk9l</th>\n",
       "      <td>2</td>\n",
       "      <td>iPhone</td>\n",
       "      <td>572254.0</td>\n",
       "      <td>Mac Desktop</td>\n",
       "      <td>295642.0</td>\n",
       "    </tr>\n",
       "    <tr>\n",
       "      <th>0010k6l0om</th>\n",
       "      <td>1</td>\n",
       "      <td>Mac Desktop</td>\n",
       "      <td>586543.0</td>\n",
       "      <td>NaN</td>\n",
       "      <td>NaN</td>\n",
       "    </tr>\n",
       "    <tr>\n",
       "      <th>001wyh0pz8</th>\n",
       "      <td>1</td>\n",
       "      <td>Android App Unknown Phone/Tablet</td>\n",
       "      <td>282965.0</td>\n",
       "      <td>NaN</td>\n",
       "      <td>NaN</td>\n",
       "    </tr>\n",
       "    <tr>\n",
       "      <th>0028jgx1x1</th>\n",
       "      <td>2</td>\n",
       "      <td>-unknown-</td>\n",
       "      <td>297010.0</td>\n",
       "      <td>Android Phone</td>\n",
       "      <td>NaN</td>\n",
       "    </tr>\n",
       "    <tr>\n",
       "      <th>002qnbzfs5</th>\n",
       "      <td>2</td>\n",
       "      <td>iPhone</td>\n",
       "      <td>6283569.0</td>\n",
       "      <td>-unknown-</td>\n",
       "      <td>203511.0</td>\n",
       "    </tr>\n",
       "  </tbody>\n",
       "</table>\n",
       "</div>"
      ],
      "text/plain": [
       "            numb_of_devices                       main_device  \\\n",
       "user_id                                                         \n",
       "00023iyk9l                2                            iPhone   \n",
       "0010k6l0om                1                       Mac Desktop   \n",
       "001wyh0pz8                1  Android App Unknown Phone/Tablet   \n",
       "0028jgx1x1                2                         -unknown-   \n",
       "002qnbzfs5                2                            iPhone   \n",
       "\n",
       "            secs_elapsed_main_device  second_device  \\\n",
       "user_id                                               \n",
       "00023iyk9l                  572254.0    Mac Desktop   \n",
       "0010k6l0om                  586543.0            NaN   \n",
       "001wyh0pz8                  282965.0            NaN   \n",
       "0028jgx1x1                  297010.0  Android Phone   \n",
       "002qnbzfs5                 6283569.0      -unknown-   \n",
       "\n",
       "            secs_elapsed_second_device  \n",
       "user_id                                 \n",
       "00023iyk9l                    295642.0  \n",
       "0010k6l0om                         NaN  \n",
       "001wyh0pz8                         NaN  \n",
       "0028jgx1x1                         NaN  \n",
       "002qnbzfs5                    203511.0  "
      ]
     },
     "execution_count": 43,
     "metadata": {},
     "output_type": "execute_result"
    }
   ],
   "source": [
    "temp_df.columns = ['numb_of_devices', 'main_device', 'secs_elapsed_main_device', 'second_device', 'secs_elapsed_second_device']\n",
    "temp_df.head()"
   ]
  },
  {
   "cell_type": "markdown",
   "metadata": {},
   "source": [
    "Finally, we can use `pd.get_dummies` to break out each category of devices into their own dummy feature column with prefixes `main_device_` and `second_device_`. Each user, obviously has a main device, but less than 23% of the users had a second device. I will also create a feature, __`no_second_device`__, indicating the absence of a second device:"
   ]
  },
  {
   "cell_type": "code",
   "execution_count": 44,
   "metadata": {
    "collapsed": false
   },
   "outputs": [
    {
     "data": {
      "text/html": [
       "<div>\n",
       "<table border=\"1\" class=\"dataframe\">\n",
       "  <thead>\n",
       "    <tr style=\"text-align: right;\">\n",
       "      <th></th>\n",
       "      <th>numb_of_devices</th>\n",
       "      <th>secs_elapsed_main_device</th>\n",
       "      <th>secs_elapsed_second_device</th>\n",
       "      <th>main_device_-unknown-</th>\n",
       "      <th>main_device_Android App Unknown Phone/Tablet</th>\n",
       "      <th>main_device_Android Phone</th>\n",
       "      <th>main_device_Blackberry</th>\n",
       "      <th>main_device_Chromebook</th>\n",
       "      <th>main_device_Linux Desktop</th>\n",
       "      <th>main_device_Mac Desktop</th>\n",
       "      <th>...</th>\n",
       "      <th>second_device_Linux Desktop</th>\n",
       "      <th>second_device_Mac Desktop</th>\n",
       "      <th>second_device_Opera Phone</th>\n",
       "      <th>second_device_Tablet</th>\n",
       "      <th>second_device_Windows Desktop</th>\n",
       "      <th>second_device_Windows Phone</th>\n",
       "      <th>second_device_iPad Tablet</th>\n",
       "      <th>second_device_iPhone</th>\n",
       "      <th>second_device_iPodtouch</th>\n",
       "      <th>no_second_device</th>\n",
       "    </tr>\n",
       "    <tr>\n",
       "      <th>user_id</th>\n",
       "      <th></th>\n",
       "      <th></th>\n",
       "      <th></th>\n",
       "      <th></th>\n",
       "      <th></th>\n",
       "      <th></th>\n",
       "      <th></th>\n",
       "      <th></th>\n",
       "      <th></th>\n",
       "      <th></th>\n",
       "      <th></th>\n",
       "      <th></th>\n",
       "      <th></th>\n",
       "      <th></th>\n",
       "      <th></th>\n",
       "      <th></th>\n",
       "      <th></th>\n",
       "      <th></th>\n",
       "      <th></th>\n",
       "      <th></th>\n",
       "      <th></th>\n",
       "    </tr>\n",
       "  </thead>\n",
       "  <tbody>\n",
       "    <tr>\n",
       "      <th>00023iyk9l</th>\n",
       "      <td>2</td>\n",
       "      <td>572254.0</td>\n",
       "      <td>295642.0</td>\n",
       "      <td>0</td>\n",
       "      <td>0</td>\n",
       "      <td>0</td>\n",
       "      <td>0</td>\n",
       "      <td>0</td>\n",
       "      <td>0</td>\n",
       "      <td>0</td>\n",
       "      <td>...</td>\n",
       "      <td>0</td>\n",
       "      <td>1</td>\n",
       "      <td>0</td>\n",
       "      <td>0</td>\n",
       "      <td>0</td>\n",
       "      <td>0</td>\n",
       "      <td>0</td>\n",
       "      <td>0</td>\n",
       "      <td>0</td>\n",
       "      <td>0</td>\n",
       "    </tr>\n",
       "    <tr>\n",
       "      <th>0010k6l0om</th>\n",
       "      <td>1</td>\n",
       "      <td>586543.0</td>\n",
       "      <td>NaN</td>\n",
       "      <td>0</td>\n",
       "      <td>0</td>\n",
       "      <td>0</td>\n",
       "      <td>0</td>\n",
       "      <td>0</td>\n",
       "      <td>0</td>\n",
       "      <td>1</td>\n",
       "      <td>...</td>\n",
       "      <td>0</td>\n",
       "      <td>0</td>\n",
       "      <td>0</td>\n",
       "      <td>0</td>\n",
       "      <td>0</td>\n",
       "      <td>0</td>\n",
       "      <td>0</td>\n",
       "      <td>0</td>\n",
       "      <td>0</td>\n",
       "      <td>1</td>\n",
       "    </tr>\n",
       "    <tr>\n",
       "      <th>001wyh0pz8</th>\n",
       "      <td>1</td>\n",
       "      <td>282965.0</td>\n",
       "      <td>NaN</td>\n",
       "      <td>0</td>\n",
       "      <td>1</td>\n",
       "      <td>0</td>\n",
       "      <td>0</td>\n",
       "      <td>0</td>\n",
       "      <td>0</td>\n",
       "      <td>0</td>\n",
       "      <td>...</td>\n",
       "      <td>0</td>\n",
       "      <td>0</td>\n",
       "      <td>0</td>\n",
       "      <td>0</td>\n",
       "      <td>0</td>\n",
       "      <td>0</td>\n",
       "      <td>0</td>\n",
       "      <td>0</td>\n",
       "      <td>0</td>\n",
       "      <td>1</td>\n",
       "    </tr>\n",
       "    <tr>\n",
       "      <th>0028jgx1x1</th>\n",
       "      <td>2</td>\n",
       "      <td>297010.0</td>\n",
       "      <td>NaN</td>\n",
       "      <td>1</td>\n",
       "      <td>0</td>\n",
       "      <td>0</td>\n",
       "      <td>0</td>\n",
       "      <td>0</td>\n",
       "      <td>0</td>\n",
       "      <td>0</td>\n",
       "      <td>...</td>\n",
       "      <td>0</td>\n",
       "      <td>0</td>\n",
       "      <td>0</td>\n",
       "      <td>0</td>\n",
       "      <td>0</td>\n",
       "      <td>0</td>\n",
       "      <td>0</td>\n",
       "      <td>0</td>\n",
       "      <td>0</td>\n",
       "      <td>0</td>\n",
       "    </tr>\n",
       "    <tr>\n",
       "      <th>002qnbzfs5</th>\n",
       "      <td>2</td>\n",
       "      <td>6283569.0</td>\n",
       "      <td>203511.0</td>\n",
       "      <td>0</td>\n",
       "      <td>0</td>\n",
       "      <td>0</td>\n",
       "      <td>0</td>\n",
       "      <td>0</td>\n",
       "      <td>0</td>\n",
       "      <td>0</td>\n",
       "      <td>...</td>\n",
       "      <td>0</td>\n",
       "      <td>0</td>\n",
       "      <td>0</td>\n",
       "      <td>0</td>\n",
       "      <td>0</td>\n",
       "      <td>0</td>\n",
       "      <td>0</td>\n",
       "      <td>0</td>\n",
       "      <td>0</td>\n",
       "      <td>0</td>\n",
       "    </tr>\n",
       "  </tbody>\n",
       "</table>\n",
       "<p>5 rows × 32 columns</p>\n",
       "</div>"
      ],
      "text/plain": [
       "            numb_of_devices  secs_elapsed_main_device  \\\n",
       "user_id                                                 \n",
       "00023iyk9l                2                  572254.0   \n",
       "0010k6l0om                1                  586543.0   \n",
       "001wyh0pz8                1                  282965.0   \n",
       "0028jgx1x1                2                  297010.0   \n",
       "002qnbzfs5                2                 6283569.0   \n",
       "\n",
       "            secs_elapsed_second_device  main_device_-unknown-  \\\n",
       "user_id                                                         \n",
       "00023iyk9l                    295642.0                      0   \n",
       "0010k6l0om                         NaN                      0   \n",
       "001wyh0pz8                         NaN                      0   \n",
       "0028jgx1x1                         NaN                      1   \n",
       "002qnbzfs5                    203511.0                      0   \n",
       "\n",
       "            main_device_Android App Unknown Phone/Tablet  \\\n",
       "user_id                                                    \n",
       "00023iyk9l                                             0   \n",
       "0010k6l0om                                             0   \n",
       "001wyh0pz8                                             1   \n",
       "0028jgx1x1                                             0   \n",
       "002qnbzfs5                                             0   \n",
       "\n",
       "            main_device_Android Phone  main_device_Blackberry  \\\n",
       "user_id                                                         \n",
       "00023iyk9l                          0                       0   \n",
       "0010k6l0om                          0                       0   \n",
       "001wyh0pz8                          0                       0   \n",
       "0028jgx1x1                          0                       0   \n",
       "002qnbzfs5                          0                       0   \n",
       "\n",
       "            main_device_Chromebook  main_device_Linux Desktop  \\\n",
       "user_id                                                         \n",
       "00023iyk9l                       0                          0   \n",
       "0010k6l0om                       0                          0   \n",
       "001wyh0pz8                       0                          0   \n",
       "0028jgx1x1                       0                          0   \n",
       "002qnbzfs5                       0                          0   \n",
       "\n",
       "            main_device_Mac Desktop        ...         \\\n",
       "user_id                                    ...          \n",
       "00023iyk9l                        0        ...          \n",
       "0010k6l0om                        1        ...          \n",
       "001wyh0pz8                        0        ...          \n",
       "0028jgx1x1                        0        ...          \n",
       "002qnbzfs5                        0        ...          \n",
       "\n",
       "            second_device_Linux Desktop  second_device_Mac Desktop  \\\n",
       "user_id                                                              \n",
       "00023iyk9l                            0                          1   \n",
       "0010k6l0om                            0                          0   \n",
       "001wyh0pz8                            0                          0   \n",
       "0028jgx1x1                            0                          0   \n",
       "002qnbzfs5                            0                          0   \n",
       "\n",
       "            second_device_Opera Phone  second_device_Tablet  \\\n",
       "user_id                                                       \n",
       "00023iyk9l                          0                     0   \n",
       "0010k6l0om                          0                     0   \n",
       "001wyh0pz8                          0                     0   \n",
       "0028jgx1x1                          0                     0   \n",
       "002qnbzfs5                          0                     0   \n",
       "\n",
       "            second_device_Windows Desktop  second_device_Windows Phone  \\\n",
       "user_id                                                                  \n",
       "00023iyk9l                              0                            0   \n",
       "0010k6l0om                              0                            0   \n",
       "001wyh0pz8                              0                            0   \n",
       "0028jgx1x1                              0                            0   \n",
       "002qnbzfs5                              0                            0   \n",
       "\n",
       "            second_device_iPad Tablet  second_device_iPhone  \\\n",
       "user_id                                                       \n",
       "00023iyk9l                          0                     0   \n",
       "0010k6l0om                          0                     0   \n",
       "001wyh0pz8                          0                     0   \n",
       "0028jgx1x1                          0                     0   \n",
       "002qnbzfs5                          0                     0   \n",
       "\n",
       "            second_device_iPodtouch  no_second_device  \n",
       "user_id                                                \n",
       "00023iyk9l                        0                 0  \n",
       "0010k6l0om                        0                 1  \n",
       "001wyh0pz8                        0                 1  \n",
       "0028jgx1x1                        0                 0  \n",
       "002qnbzfs5                        0                 0  \n",
       "\n",
       "[5 rows x 32 columns]"
      ]
     },
     "execution_count": 44,
     "metadata": {},
     "output_type": "execute_result"
    }
   ],
   "source": [
    "devicecols = ['main_device', 'second_device']\n",
    "dummy_devicesDF = pd.get_dummies(temp_df.loc[:, devicecols], dummy_na=True, prefix=devicecols)\n",
    "temp_df = temp_df.join(dummy_devicesDF)\n",
    "\n",
    "devicecols.extend(['main_device_nan'])\n",
    "temp_df.drop(devicecols, axis=1, inplace=True)\n",
    "temp_df.rename(columns = {'second_device_nan': 'no_second_device'}, inplace=True)\n",
    "\n",
    "temp_df.head()"
   ]
  },
  {
   "cell_type": "markdown",
   "metadata": {},
   "source": [
    "Now we need to extract new features from the __`action`__, __`action_type`__ and __`action_detail`__ columns. For each user id, we will extract counts of each category within the aforementioned features. So, for isntance, each category within __`action_type`__ will have its own column with values equal to the number of such action type the user took. "
   ]
  },
  {
   "cell_type": "code",
   "execution_count": 45,
   "metadata": {
    "collapsed": false,
    "scrolled": true
   },
   "outputs": [],
   "source": [
    "actionDF = sessionsDF.iloc[:, :5].astype(str).groupby(['user_id', 'action']).size().unstack(fill_value=0)\n",
    "action_typeDF = sessionsDF.iloc[:, :5].astype(str).groupby(['user_id', 'action_type']).size().unstack(fill_value=0)\n",
    "action_detailDF = sessionsDF.iloc[:, :5].astype(str).groupby(['user_id', 'action_detail']).size().unstack(fill_value=0)"
   ]
  },
  {
   "cell_type": "code",
   "execution_count": 46,
   "metadata": {
    "collapsed": false
   },
   "outputs": [
    {
     "name": "stdout",
     "output_type": "stream",
     "text": [
      "action (135483, 360)\n",
      "action_type (135483, 11)\n",
      "action_detail (135483, 156)\n"
     ]
    }
   ],
   "source": [
    "print('action',actionDF.shape)\n",
    "print('action_type',action_typeDF.shape)\n",
    "print('action_detail',action_detailDF.shape)"
   ]
  },
  {
   "cell_type": "code",
   "execution_count": 47,
   "metadata": {
    "collapsed": false,
    "scrolled": true
   },
   "outputs": [
    {
     "data": {
      "text/html": [
       "<div>\n",
       "<table border=\"1\" class=\"dataframe\">\n",
       "  <thead>\n",
       "    <tr style=\"text-align: right;\">\n",
       "      <th>action_type</th>\n",
       "      <th>-unknown-</th>\n",
       "      <th>booking_request</th>\n",
       "      <th>booking_response</th>\n",
       "      <th>click</th>\n",
       "      <th>data</th>\n",
       "      <th>message_post</th>\n",
       "      <th>modify</th>\n",
       "      <th>nan</th>\n",
       "      <th>partner_callback</th>\n",
       "      <th>submit</th>\n",
       "      <th>view</th>\n",
       "    </tr>\n",
       "    <tr>\n",
       "      <th>user_id</th>\n",
       "      <th></th>\n",
       "      <th></th>\n",
       "      <th></th>\n",
       "      <th></th>\n",
       "      <th></th>\n",
       "      <th></th>\n",
       "      <th></th>\n",
       "      <th></th>\n",
       "      <th></th>\n",
       "      <th></th>\n",
       "      <th></th>\n",
       "    </tr>\n",
       "  </thead>\n",
       "  <tbody>\n",
       "    <tr>\n",
       "      <th>00023iyk9l</th>\n",
       "      <td>0</td>\n",
       "      <td>1</td>\n",
       "      <td>0</td>\n",
       "      <td>4</td>\n",
       "      <td>9</td>\n",
       "      <td>1</td>\n",
       "      <td>0</td>\n",
       "      <td>3</td>\n",
       "      <td>1</td>\n",
       "      <td>0</td>\n",
       "      <td>21</td>\n",
       "    </tr>\n",
       "    <tr>\n",
       "      <th>0010k6l0om</th>\n",
       "      <td>5</td>\n",
       "      <td>0</td>\n",
       "      <td>0</td>\n",
       "      <td>16</td>\n",
       "      <td>9</td>\n",
       "      <td>0</td>\n",
       "      <td>0</td>\n",
       "      <td>15</td>\n",
       "      <td>1</td>\n",
       "      <td>0</td>\n",
       "      <td>17</td>\n",
       "    </tr>\n",
       "    <tr>\n",
       "      <th>001wyh0pz8</th>\n",
       "      <td>6</td>\n",
       "      <td>0</td>\n",
       "      <td>0</td>\n",
       "      <td>66</td>\n",
       "      <td>2</td>\n",
       "      <td>0</td>\n",
       "      <td>0</td>\n",
       "      <td>5</td>\n",
       "      <td>0</td>\n",
       "      <td>3</td>\n",
       "      <td>8</td>\n",
       "    </tr>\n",
       "    <tr>\n",
       "      <th>0028jgx1x1</th>\n",
       "      <td>1</td>\n",
       "      <td>0</td>\n",
       "      <td>0</td>\n",
       "      <td>9</td>\n",
       "      <td>5</td>\n",
       "      <td>0</td>\n",
       "      <td>0</td>\n",
       "      <td>0</td>\n",
       "      <td>0</td>\n",
       "      <td>1</td>\n",
       "      <td>15</td>\n",
       "    </tr>\n",
       "    <tr>\n",
       "      <th>002qnbzfs5</th>\n",
       "      <td>184</td>\n",
       "      <td>1</td>\n",
       "      <td>0</td>\n",
       "      <td>140</td>\n",
       "      <td>140</td>\n",
       "      <td>16</td>\n",
       "      <td>0</td>\n",
       "      <td>77</td>\n",
       "      <td>0</td>\n",
       "      <td>15</td>\n",
       "      <td>216</td>\n",
       "    </tr>\n",
       "  </tbody>\n",
       "</table>\n",
       "</div>"
      ],
      "text/plain": [
       "action_type  -unknown-  booking_request  booking_response  click  data  \\\n",
       "user_id                                                                  \n",
       "00023iyk9l           0                1                 0      4     9   \n",
       "0010k6l0om           5                0                 0     16     9   \n",
       "001wyh0pz8           6                0                 0     66     2   \n",
       "0028jgx1x1           1                0                 0      9     5   \n",
       "002qnbzfs5         184                1                 0    140   140   \n",
       "\n",
       "action_type  message_post  modify  nan  partner_callback  submit  view  \n",
       "user_id                                                                 \n",
       "00023iyk9l              1       0    3                 1       0    21  \n",
       "0010k6l0om              0       0   15                 1       0    17  \n",
       "001wyh0pz8              0       0    5                 0       3     8  \n",
       "0028jgx1x1              0       0    0                 0       1    15  \n",
       "002qnbzfs5             16       0   77                 0      15   216  "
      ]
     },
     "execution_count": 47,
     "metadata": {},
     "output_type": "execute_result"
    }
   ],
   "source": [
    "action_typeDF.head()"
   ]
  },
  {
   "cell_type": "markdown",
   "metadata": {},
   "source": [
    "Next, we attach appropriate prefixes to the new features and put them all in one dataframe:"
   ]
  },
  {
   "cell_type": "code",
   "execution_count": 48,
   "metadata": {
    "collapsed": false
   },
   "outputs": [],
   "source": [
    "for dfname, datafr in zip(('action_', 'actionType_', 'actionDetail_'), (actionDF, action_typeDF, action_detailDF)):\n",
    "    datafr.columns = [dfname + column for column in datafr.columns]"
   ]
  },
  {
   "cell_type": "code",
   "execution_count": 49,
   "metadata": {
    "collapsed": true
   },
   "outputs": [],
   "source": [
    "all_actionsDF = pd.concat([actionDF, action_typeDF, action_detailDF], axis=1)"
   ]
  },
  {
   "cell_type": "markdown",
   "metadata": {},
   "source": [
    "The __`all_actionsDF`__ can now be joined with __`temp_df`__. Then, the resulting dataframe will finally be joined with the users dataframe, __`df`__:"
   ]
  },
  {
   "cell_type": "code",
   "execution_count": 50,
   "metadata": {
    "collapsed": false
   },
   "outputs": [],
   "source": [
    "temp_df = temp_df.join(all_actionsDF, how='outer')\n",
    "temp_df.fillna(0, inplace=1)"
   ]
  },
  {
   "cell_type": "code",
   "execution_count": 51,
   "metadata": {
    "collapsed": true
   },
   "outputs": [],
   "source": [
    "df = df.set_index('id').join(temp_df, how='inner')\n",
    "df.fillna(0, inplace=1)"
   ]
  },
  {
   "cell_type": "code",
   "execution_count": 52,
   "metadata": {
    "collapsed": false
   },
   "outputs": [
    {
     "data": {
      "text/html": [
       "<div>\n",
       "<table border=\"1\" class=\"dataframe\">\n",
       "  <thead>\n",
       "    <tr style=\"text-align: right;\">\n",
       "      <th></th>\n",
       "      <th>country_destination</th>\n",
       "      <th>affiliate_channel_api</th>\n",
       "      <th>affiliate_channel_content</th>\n",
       "      <th>affiliate_channel_direct</th>\n",
       "      <th>affiliate_channel_other</th>\n",
       "      <th>affiliate_channel_remarketing</th>\n",
       "      <th>affiliate_channel_sem-brand</th>\n",
       "      <th>affiliate_channel_sem-non-brand</th>\n",
       "      <th>affiliate_channel_seo</th>\n",
       "      <th>affiliate_provider_baidu</th>\n",
       "      <th>...</th>\n",
       "      <th>actionDetail_view_resolutions</th>\n",
       "      <th>actionDetail_view_search_results</th>\n",
       "      <th>actionDetail_view_security_checks</th>\n",
       "      <th>actionDetail_view_user_real_names</th>\n",
       "      <th>actionDetail_wishlist</th>\n",
       "      <th>actionDetail_wishlist_content_update</th>\n",
       "      <th>actionDetail_wishlist_note</th>\n",
       "      <th>actionDetail_your_listings</th>\n",
       "      <th>actionDetail_your_reservations</th>\n",
       "      <th>actionDetail_your_trips</th>\n",
       "    </tr>\n",
       "  </thead>\n",
       "  <tbody>\n",
       "    <tr>\n",
       "      <th>00023iyk9l</th>\n",
       "      <td>US</td>\n",
       "      <td>0</td>\n",
       "      <td>0</td>\n",
       "      <td>1</td>\n",
       "      <td>0</td>\n",
       "      <td>0</td>\n",
       "      <td>0</td>\n",
       "      <td>0</td>\n",
       "      <td>0</td>\n",
       "      <td>0</td>\n",
       "      <td>...</td>\n",
       "      <td>0</td>\n",
       "      <td>5</td>\n",
       "      <td>0</td>\n",
       "      <td>0</td>\n",
       "      <td>0</td>\n",
       "      <td>4</td>\n",
       "      <td>0</td>\n",
       "      <td>0</td>\n",
       "      <td>0</td>\n",
       "      <td>2</td>\n",
       "    </tr>\n",
       "    <tr>\n",
       "      <th>0010k6l0om</th>\n",
       "      <td>0</td>\n",
       "      <td>0</td>\n",
       "      <td>0</td>\n",
       "      <td>0</td>\n",
       "      <td>0</td>\n",
       "      <td>0</td>\n",
       "      <td>0</td>\n",
       "      <td>0</td>\n",
       "      <td>1</td>\n",
       "      <td>0</td>\n",
       "      <td>...</td>\n",
       "      <td>0</td>\n",
       "      <td>10</td>\n",
       "      <td>0</td>\n",
       "      <td>0</td>\n",
       "      <td>0</td>\n",
       "      <td>8</td>\n",
       "      <td>0</td>\n",
       "      <td>0</td>\n",
       "      <td>0</td>\n",
       "      <td>0</td>\n",
       "    </tr>\n",
       "    <tr>\n",
       "      <th>001wyh0pz8</th>\n",
       "      <td>NDF</td>\n",
       "      <td>0</td>\n",
       "      <td>0</td>\n",
       "      <td>1</td>\n",
       "      <td>0</td>\n",
       "      <td>0</td>\n",
       "      <td>0</td>\n",
       "      <td>0</td>\n",
       "      <td>0</td>\n",
       "      <td>0</td>\n",
       "      <td>...</td>\n",
       "      <td>0</td>\n",
       "      <td>66</td>\n",
       "      <td>0</td>\n",
       "      <td>0</td>\n",
       "      <td>0</td>\n",
       "      <td>0</td>\n",
       "      <td>0</td>\n",
       "      <td>0</td>\n",
       "      <td>0</td>\n",
       "      <td>0</td>\n",
       "    </tr>\n",
       "    <tr>\n",
       "      <th>0028jgx1x1</th>\n",
       "      <td>NDF</td>\n",
       "      <td>0</td>\n",
       "      <td>0</td>\n",
       "      <td>1</td>\n",
       "      <td>0</td>\n",
       "      <td>0</td>\n",
       "      <td>0</td>\n",
       "      <td>0</td>\n",
       "      <td>0</td>\n",
       "      <td>0</td>\n",
       "      <td>...</td>\n",
       "      <td>0</td>\n",
       "      <td>9</td>\n",
       "      <td>0</td>\n",
       "      <td>0</td>\n",
       "      <td>0</td>\n",
       "      <td>0</td>\n",
       "      <td>0</td>\n",
       "      <td>0</td>\n",
       "      <td>0</td>\n",
       "      <td>0</td>\n",
       "    </tr>\n",
       "    <tr>\n",
       "      <th>002qnbzfs5</th>\n",
       "      <td>US</td>\n",
       "      <td>0</td>\n",
       "      <td>0</td>\n",
       "      <td>1</td>\n",
       "      <td>0</td>\n",
       "      <td>0</td>\n",
       "      <td>0</td>\n",
       "      <td>0</td>\n",
       "      <td>0</td>\n",
       "      <td>0</td>\n",
       "      <td>...</td>\n",
       "      <td>0</td>\n",
       "      <td>125</td>\n",
       "      <td>0</td>\n",
       "      <td>0</td>\n",
       "      <td>0</td>\n",
       "      <td>0</td>\n",
       "      <td>0</td>\n",
       "      <td>0</td>\n",
       "      <td>0</td>\n",
       "      <td>0</td>\n",
       "    </tr>\n",
       "  </tbody>\n",
       "</table>\n",
       "<p>5 rows × 799 columns</p>\n",
       "</div>"
      ],
      "text/plain": [
       "           country_destination  affiliate_channel_api  \\\n",
       "00023iyk9l                  US                      0   \n",
       "0010k6l0om                   0                      0   \n",
       "001wyh0pz8                 NDF                      0   \n",
       "0028jgx1x1                 NDF                      0   \n",
       "002qnbzfs5                  US                      0   \n",
       "\n",
       "            affiliate_channel_content  affiliate_channel_direct  \\\n",
       "00023iyk9l                          0                         1   \n",
       "0010k6l0om                          0                         0   \n",
       "001wyh0pz8                          0                         1   \n",
       "0028jgx1x1                          0                         1   \n",
       "002qnbzfs5                          0                         1   \n",
       "\n",
       "            affiliate_channel_other  affiliate_channel_remarketing  \\\n",
       "00023iyk9l                        0                              0   \n",
       "0010k6l0om                        0                              0   \n",
       "001wyh0pz8                        0                              0   \n",
       "0028jgx1x1                        0                              0   \n",
       "002qnbzfs5                        0                              0   \n",
       "\n",
       "            affiliate_channel_sem-brand  affiliate_channel_sem-non-brand  \\\n",
       "00023iyk9l                            0                                0   \n",
       "0010k6l0om                            0                                0   \n",
       "001wyh0pz8                            0                                0   \n",
       "0028jgx1x1                            0                                0   \n",
       "002qnbzfs5                            0                                0   \n",
       "\n",
       "            affiliate_channel_seo  affiliate_provider_baidu  \\\n",
       "00023iyk9l                      0                         0   \n",
       "0010k6l0om                      1                         0   \n",
       "001wyh0pz8                      0                         0   \n",
       "0028jgx1x1                      0                         0   \n",
       "002qnbzfs5                      0                         0   \n",
       "\n",
       "                     ...             actionDetail_view_resolutions  \\\n",
       "00023iyk9l           ...                                         0   \n",
       "0010k6l0om           ...                                         0   \n",
       "001wyh0pz8           ...                                         0   \n",
       "0028jgx1x1           ...                                         0   \n",
       "002qnbzfs5           ...                                         0   \n",
       "\n",
       "            actionDetail_view_search_results  \\\n",
       "00023iyk9l                                 5   \n",
       "0010k6l0om                                10   \n",
       "001wyh0pz8                                66   \n",
       "0028jgx1x1                                 9   \n",
       "002qnbzfs5                               125   \n",
       "\n",
       "            actionDetail_view_security_checks  \\\n",
       "00023iyk9l                                  0   \n",
       "0010k6l0om                                  0   \n",
       "001wyh0pz8                                  0   \n",
       "0028jgx1x1                                  0   \n",
       "002qnbzfs5                                  0   \n",
       "\n",
       "            actionDetail_view_user_real_names  actionDetail_wishlist  \\\n",
       "00023iyk9l                                  0                      0   \n",
       "0010k6l0om                                  0                      0   \n",
       "001wyh0pz8                                  0                      0   \n",
       "0028jgx1x1                                  0                      0   \n",
       "002qnbzfs5                                  0                      0   \n",
       "\n",
       "            actionDetail_wishlist_content_update  actionDetail_wishlist_note  \\\n",
       "00023iyk9l                                     4                           0   \n",
       "0010k6l0om                                     8                           0   \n",
       "001wyh0pz8                                     0                           0   \n",
       "0028jgx1x1                                     0                           0   \n",
       "002qnbzfs5                                     0                           0   \n",
       "\n",
       "            actionDetail_your_listings  actionDetail_your_reservations  \\\n",
       "00023iyk9l                           0                               0   \n",
       "0010k6l0om                           0                               0   \n",
       "001wyh0pz8                           0                               0   \n",
       "0028jgx1x1                           0                               0   \n",
       "002qnbzfs5                           0                               0   \n",
       "\n",
       "            actionDetail_your_trips  \n",
       "00023iyk9l                        2  \n",
       "0010k6l0om                        0  \n",
       "001wyh0pz8                        0  \n",
       "0028jgx1x1                        0  \n",
       "002qnbzfs5                        0  \n",
       "\n",
       "[5 rows x 799 columns]"
      ]
     },
     "execution_count": 52,
     "metadata": {},
     "output_type": "execute_result"
    }
   ],
   "source": [
    "df.head()"
   ]
  },
  {
   "cell_type": "code",
   "execution_count": 53,
   "metadata": {
    "collapsed": false,
    "scrolled": true
   },
   "outputs": [
    {
     "data": {
      "text/plain": [
       "(135483, 799)"
      ]
     },
     "execution_count": 53,
     "metadata": {},
     "output_type": "execute_result"
    }
   ],
   "source": [
    "df.shape"
   ]
  },
  {
   "cell_type": "markdown",
   "metadata": {
    "collapsed": false
   },
   "source": [
    "We are finally done the ETL part of the job. We can split the dataframe back into train and test sets and save the resulting dataframes, so we can later easily load them and continue with predictive analysis:"
   ]
  },
  {
   "cell_type": "code",
   "execution_count": 55,
   "metadata": {
    "collapsed": false
   },
   "outputs": [
    {
     "name": "stdout",
     "output_type": "stream",
     "text": [
      "train data shape:  (73815, 799)\n"
     ]
    }
   ],
   "source": [
    "final_train_df = df[df.country_destination != 0]\n",
    "print('train data shape: ', final_train_df.shape)\n"
   ]
  },
  {
   "cell_type": "code",
   "execution_count": 56,
   "metadata": {
    "collapsed": false
   },
   "outputs": [
    {
     "name": "stdout",
     "output_type": "stream",
     "text": [
      "test data shape:  (62096, 798)\n"
     ]
    }
   ],
   "source": [
    "testDF.set_index('id', inplace=1)\n",
    "final_test_df = df.loc[list(testDF.index), :]\n",
    "final_test_df.drop(['country_destination'], axis=1, inplace=1)\n",
    "print('test data shape: ', final_test_df.shape)\n"
   ]
  },
  {
   "cell_type": "code",
   "execution_count": 57,
   "metadata": {
    "collapsed": false
   },
   "outputs": [],
   "source": [
    "airbnb_ready = pd.HDFStore('airbnb_ready.h5')\n",
    "airbnb_ready['train_df'] = final_train_df\n",
    "airbnb_ready['test_df'] = final_test_df\n",
    "airbnb_ready.close()"
   ]
  },
  {
   "cell_type": "markdown",
   "metadata": {
    "collapsed": false
   },
   "source": [
    "## End of ETL"
   ]
  }
 ],
 "metadata": {
  "anaconda-cloud": {},
  "kernelspec": {
   "display_name": "Python [default]",
   "language": "python",
   "name": "python3"
  },
  "language_info": {
   "codemirror_mode": {
    "name": "ipython",
    "version": 3
   },
   "file_extension": ".py",
   "mimetype": "text/x-python",
   "name": "python",
   "nbconvert_exporter": "python",
   "pygments_lexer": "ipython3",
   "version": "3.5.2"
  }
 },
 "nbformat": 4,
 "nbformat_minor": 2
}
