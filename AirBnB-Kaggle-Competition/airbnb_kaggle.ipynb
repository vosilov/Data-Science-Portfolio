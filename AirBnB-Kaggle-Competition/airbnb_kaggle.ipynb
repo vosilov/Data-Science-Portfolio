{
 "cells": [
  {
   "cell_type": "markdown",
   "metadata": {},
   "source": [
    "# AirBnB Kaggle Competition"
   ]
  },
  {
   "cell_type": "markdown",
   "metadata": {},
   "source": [
    "Predicting in which country a new user will make their first apartment bookings using the AirBnB data provided during their Kaggle Competition."
   ]
  },
  {
   "cell_type": "code",
   "execution_count": 192,
   "metadata": {
    "collapsed": true
   },
   "outputs": [],
   "source": [
    "import datetime as dt\n",
    "import pandas as pd\n",
    "import numpy as np\n",
    "import matplotlib.pyplot as plt\n",
    "import seaborn as sns\n",
    "from sklearn.model_selection import train_test_split"
   ]
  },
  {
   "cell_type": "markdown",
   "metadata": {},
   "source": [
    "Once we have imported all the necessary packages. Let's load the data:"
   ]
  },
  {
   "cell_type": "code",
   "execution_count": 193,
   "metadata": {
    "collapsed": false
   },
   "outputs": [
    {
     "name": "stdout",
     "output_type": "stream",
     "text": [
      "The number of observations in training data: 213451\n",
      "The number of observations in test data: 62096\n",
      "Total number of observations: 275547\n"
     ]
    }
   ],
   "source": [
    "path = \"D:/Google Drive/AiRBnB_kaggleComp/\"\n",
    "trainDF = pd.read_csv(path + 'train_users_2.csv')\n",
    "testDF = pd.read_csv(path + 'test_users.csv')\n",
    "df = pd.concat([trainDF, testDF])\n",
    "\n",
    "trainDF.df_name = 'Training Data'\n",
    "testDF.df_name = 'Test Data'\n",
    "print('The number of observations in training data:', len(trainDF))\n",
    "print('The number of observations in test data:', len(testDF))\n",
    "print('Total number of observations:', len(df))"
   ]
  },
  {
   "cell_type": "markdown",
   "metadata": {},
   "source": [
    "The column __`country_destination`__ is the output (dependent) variable which we're going to predict. Let's see the categories in it (different destinations) and the number of observations in each category. The output variable is the last column in the training data ->  we can use `iloc[:, -1]` indexing to get it."
   ]
  },
  {
   "cell_type": "code",
   "execution_count": 358,
   "metadata": {
    "collapsed": false
   },
   "outputs": [
    {
     "name": "stdout",
     "output_type": "stream",
     "text": [
      "        count  percent\n",
      "NDF    124543    58.35\n",
      "US      62376    29.22\n",
      "other   10094     4.73\n",
      "FR       5023     2.35\n",
      "IT       2835     1.33\n",
      "GB       2324     1.09\n",
      "ES       2249     1.05\n",
      "CA       1428     0.67\n",
      "DE       1061     0.50\n",
      "NL        762     0.36\n",
      "AU        539     0.25\n",
      "PT        217     0.10\n"
     ]
    }
   ],
   "source": [
    "df2 = pd.concat([trainDF.iloc[:, -1].value_counts(), np.round(trainDF.iloc[:, -1].value_counts() / len(trainDF) * 100, 2)],\n",
    "                axis=1)\n",
    "df2.columns = ['count', 'percent']\n",
    "print(df2)"
   ]
  },
  {
   "cell_type": "markdown",
   "metadata": {},
   "source": [
    "Almost 60% of the observations are in the `NDF` category. `NDF` stands for No Destination Found - indicating that there was no booking. Of all the bookings, an overwhelming majority was in the US. `other` is an aggregation of all countries other than those specifically listed.\n",
    "\n",
    "Let's take a look at some of the data and see which variables have missing values."
   ]
  },
  {
   "cell_type": "code",
   "execution_count": 195,
   "metadata": {
    "collapsed": false
   },
   "outputs": [
    {
     "name": "stdout",
     "output_type": "stream",
     "text": [
      "  affiliate_channel affiliate_provider   age country_destination  \\\n",
      "0            direct             direct   NaN                 NDF   \n",
      "1               seo             google  38.0                 NDF   \n",
      "2            direct             direct  56.0                  US   \n",
      "3            direct             direct  42.0               other   \n",
      "4            direct             direct  41.0                  US   \n",
      "5             other              other   NaN                  US   \n",
      "6             other         craigslist  46.0                  US   \n",
      "7            direct             direct  47.0                  US   \n",
      "8             other         craigslist  50.0                  US   \n",
      "\n",
      "  date_account_created date_first_booking first_affiliate_tracked  \\\n",
      "0           2010-06-28                NaN               untracked   \n",
      "1           2011-05-25                NaN               untracked   \n",
      "2           2010-09-28         2010-08-02               untracked   \n",
      "3           2011-12-05         2012-09-08               untracked   \n",
      "4           2010-09-14         2010-02-18               untracked   \n",
      "5           2010-01-01         2010-01-02                     omg   \n",
      "6           2010-01-02         2010-01-05               untracked   \n",
      "7           2010-01-03         2010-01-13                     omg   \n",
      "8           2010-01-04         2010-07-29               untracked   \n",
      "\n",
      "  first_browser first_device_type     gender          id language signup_app  \\\n",
      "0        Chrome       Mac Desktop  -unknown-  gxn3p5htnn       en        Web   \n",
      "1        Chrome       Mac Desktop       MALE  820tgsjxq7       en        Web   \n",
      "2            IE   Windows Desktop     FEMALE  4ft3gnwmtx       en        Web   \n",
      "3       Firefox       Mac Desktop     FEMALE  bjjt8pjhuk       en        Web   \n",
      "4        Chrome       Mac Desktop  -unknown-  87mebub9p4       en        Web   \n",
      "5        Chrome       Mac Desktop  -unknown-  osr2jwljor       en        Web   \n",
      "6        Safari       Mac Desktop     FEMALE  lsw9q7uk0j       en        Web   \n",
      "7        Safari       Mac Desktop     FEMALE  0d01nltbrs       en        Web   \n",
      "8        Safari       Mac Desktop     FEMALE  a1vcnhxeij       en        Web   \n",
      "\n",
      "   signup_flow signup_method  timestamp_first_active  \n",
      "0            0      facebook          20090319043255  \n",
      "1            0      facebook          20090523174809  \n",
      "2            3         basic          20090609231247  \n",
      "3            0      facebook          20091031060129  \n",
      "4            0         basic          20091208061105  \n",
      "5            0         basic          20100101215619  \n",
      "6            0         basic          20100102012558  \n",
      "7            0         basic          20100103191905  \n",
      "8            0         basic          20100104004211  \n",
      " .\n",
      " .\n",
      " .\n",
      "\n",
      "      affiliate_channel affiliate_provider   age country_destination  \\\n",
      "62087         sem-brand             google  55.0                 NaN   \n",
      "62088            direct             direct  34.0                 NaN   \n",
      "62089            direct             direct  32.0                 NaN   \n",
      "62090               seo              yahoo   NaN                 NaN   \n",
      "62091            direct             direct  31.0                 NaN   \n",
      "62092            direct             direct   NaN                 NaN   \n",
      "62093            direct             direct   NaN                 NaN   \n",
      "62094         sem-brand             google   NaN                 NaN   \n",
      "62095             other              other  49.0                 NaN   \n",
      "\n",
      "      date_account_created date_first_booking first_affiliate_tracked  \\\n",
      "62087           2014-09-30                NaN                     omg   \n",
      "62088           2014-09-30                NaN               untracked   \n",
      "62089           2014-09-30                NaN                  linked   \n",
      "62090           2014-09-30                NaN                  linked   \n",
      "62091           2014-09-30                NaN               untracked   \n",
      "62092           2014-09-30                NaN               untracked   \n",
      "62093           2014-09-30                NaN                  linked   \n",
      "62094           2014-09-30                NaN                     omg   \n",
      "62095           2014-09-30                NaN           tracked-other   \n",
      "\n",
      "      first_browser first_device_type     gender          id language  \\\n",
      "62087       Firefox   Windows Desktop       MALE  o6ofmozucx       en   \n",
      "62088        Chrome       Mac Desktop  -unknown-  wcw7xggeqp       en   \n",
      "62089        Chrome   Windows Desktop       MALE  m22pw2pkxr       en   \n",
      "62090        Chrome   Windows Desktop  -unknown-  8yvhec201j       en   \n",
      "62091            IE   Windows Desktop  -unknown-  cv0na2lf5a       en   \n",
      "62092     -unknown-     Android Phone  -unknown-  zp8xfonng8       ko   \n",
      "62093       Firefox   Windows Desktop  -unknown-  fa6260ziny       de   \n",
      "62094        Safari       Mac Desktop  -unknown-  87k0fy4ugm       en   \n",
      "62095        Chrome   Windows Desktop     FEMALE  9uqfg8txu3       en   \n",
      "\n",
      "      signup_app  signup_flow signup_method  timestamp_first_active  \n",
      "62087        Web            0         basic          20140930234751  \n",
      "62088        Web            0         basic          20140930234904  \n",
      "62089        Web            0         basic          20140930235000  \n",
      "62090        Web            0         basic          20140930235019  \n",
      "62091        Web            0         basic          20140930235232  \n",
      "62092    Android           23         basic          20140930235306  \n",
      "62093        Web            0         basic          20140930235408  \n",
      "62094        Web            0         basic          20140930235430  \n",
      "62095        Web            0         basic          20140930235901  \n",
      "\n",
      " \n",
      "\n",
      "                   Number of missing values\n",
      "age                        116866\n",
      "country_destination         62096\n",
      "date_first_booking         186639\n",
      "first_affiliate_tracked      6085\n",
      "dtype: int64\n"
     ]
    }
   ],
   "source": [
    "print(df.head(9))\n",
    "print(' .\\n', '.\\n' , '.\\n')\n",
    "print(df.tail(9))\n",
    "print('\\n', '\\n')\n",
    "print('                   Number of missing values')\n",
    "print(len(df) - df.count()[df.count() < len(df)])  # columns with missing values"
   ]
  },
  {
   "cell_type": "code",
   "execution_count": 196,
   "metadata": {
    "collapsed": false
   },
   "outputs": [
    {
     "name": "stdout",
     "output_type": "stream",
     "text": [
      "The number of observations in training data: 213451\n",
      "The number of observations in test data: 62096\n",
      "Total number of observations: 275547\n"
     ]
    }
   ],
   "source": [
    "print('The number of observations in training data:', len(trainDF))\n",
    "print('The number of observations in test data:', len(testDF))\n",
    "print('Total number of observations:', len(df))"
   ]
  },
  {
   "cell_type": "markdown",
   "metadata": {},
   "source": [
    "The number of missing values in the __`country_destination`__ column is exactly equal to the number of observations in the test data: $62,096$. That's because this is the variable to be predicted.\n",
    "So, there are three variables, that we should focus on, with missing values. __`age`__, __`date_first_booking`__ and __`first_affiliate_tracked`__. The latter has relatively very few missing values (only $6,085$ missing out of $275,547$ observations).\n",
    "\n",
    "Let's take a closer look at __`date_first_booking`__:"
   ]
  },
  {
   "cell_type": "code",
   "execution_count": 197,
   "metadata": {
    "collapsed": false
   },
   "outputs": [
    {
     "name": "stdout",
     "output_type": "stream",
     "text": [
      "Number of missing values in Training Data are 124543\n",
      "Number of missing values in Test Data are 62096\n"
     ]
    }
   ],
   "source": [
    "for x in (trainDF, testDF):\n",
    "    print('Number of missing values in {} are {}'.\n",
    "          format(x.df_name, len(x.date_first_booking) - x.date_first_booking.count()[x.date_first_booking.count() < len(x)][0]))"
   ]
  },
  {
   "cell_type": "markdown",
   "metadata": {},
   "source": [
    "So, the __`date_first_booking`__ column in the test data is all `NaN`. In the training data, the missing values are exactly equal to the number of `NDF`(no booking) observations. This makes sense, if no booking was done, then the date of the first booking for that user is `NaN`. Conclusion: this feature will not be of much help in predicting booking destination and can be dropped."
   ]
  },
  {
   "cell_type": "markdown",
   "metadata": {},
   "source": [
    "There are two other columns with timestamps, so we need to convert them into datetime using `pd.to_datetime`."
   ]
  },
  {
   "cell_type": "code",
   "execution_count": 198,
   "metadata": {
    "collapsed": false
   },
   "outputs": [
    {
     "data": {
      "text/plain": [
       "affiliate_channel                  object\n",
       "affiliate_provider                 object\n",
       "age                               float64\n",
       "country_destination                object\n",
       "date_account_created       datetime64[ns]\n",
       "date_first_booking                 object\n",
       "first_affiliate_tracked            object\n",
       "first_browser                      object\n",
       "first_device_type                  object\n",
       "gender                             object\n",
       "id                                 object\n",
       "language                           object\n",
       "signup_app                         object\n",
       "signup_flow                         int64\n",
       "signup_method                      object\n",
       "timestamp_first_active     datetime64[ns]\n",
       "dtype: object"
      ]
     },
     "execution_count": 198,
     "metadata": {},
     "output_type": "execute_result"
    }
   ],
   "source": [
    "df.timestamp_first_active = pd.to_datetime(df.timestamp_first_active, format='%Y%m%d%H%M%S')\n",
    "df.date_account_created = pd.to_datetime(df.date_account_created, format='%Y-%m-%d')\n",
    "df.dtypes  # check the data types after conversion to datetime"
   ]
  },
  {
   "cell_type": "code",
   "execution_count": 199,
   "metadata": {
    "collapsed": false
   },
   "outputs": [],
   "source": [
    "df = df.loc[:, ['id','affiliate_channel', 'affiliate_provider', 'age', 'date_account_created', 'first_affiliate_tracked',\n",
    "                'first_browser', 'first_device_type', 'gender', 'language', 'signup_app', 'signup_flow', 'signup_method',\n",
    "                'timestamp_first_active','country_destination']]"
   ]
  },
  {
   "cell_type": "markdown",
   "metadata": {},
   "source": [
    "The __`age`__ variable has about 40% missing values. Not many people are willing to provide their age. Moreover, out of the ones that do provide it, the data is entered in different formats: some people have entered their birth year instead of age:"
   ]
  },
  {
   "cell_type": "code",
   "execution_count": 332,
   "metadata": {
    "collapsed": false
   },
   "outputs": [
    {
     "data": {
      "image/png": "[encoded data removed]",
      "text/plain": [
       "<matplotlib.figure.Figure at 0x2ce345bdba8>"
      ]
     },
     "metadata": {},
     "output_type": "display_data"
    }
   ],
   "source": [
    "plt.clf()\n",
    "sns.boxplot(df.age, orient='v', color='g')\n",
    "plt.show()"
   ]
  },
  {
   "cell_type": "markdown",
   "metadata": {},
   "source": [
    "We can see on the boxplot above, that there is a bunch of values around the 2000 threshold. Let's plot another boxplot, but now without those values:"
   ]
  },
  {
   "cell_type": "code",
   "execution_count": 170,
   "metadata": {
    "collapsed": false
   },
   "outputs": [
    {
     "data": {
      "image/png": "[encoded data removed]",
      "text/plain": [
       "<matplotlib.figure.Figure at 0x2ce359b0c18>"
      ]
     },
     "metadata": {},
     "output_type": "display_data"
    }
   ],
   "source": [
    "plt.clf()\n",
    "sns.boxplot(df.age[df.age <= df.age[df.age < 1000].max()], orient='v', color='g')\n",
    "plt.show()"
   ]
  },
  {
   "cell_type": "code",
   "execution_count": 174,
   "metadata": {
    "collapsed": false,
    "scrolled": false
   },
   "outputs": [
    {
     "data": {
      "image/png": "[encoded data removed]",
      "text/plain": [
       "<matplotlib.figure.Figure at 0x2ce331cb9b0>"
      ]
     },
     "metadata": {},
     "output_type": "display_data"
    }
   ],
   "source": [
    "plt.clf()\n",
    "sns.boxplot(df.age[df.age >= df.age[df.age > 1000].min()], orient='v')\n",
    "plt.show()"
   ]
  },
  {
   "cell_type": "markdown",
   "metadata": {},
   "source": [
    "From the boxplot above we can see that some of the extremely high values are birthyears, and many (the ones that are around 2010) are just errors. We can transform the birthyears into ages by subtracting the age (birthyear) value from the year the account was created for those values where the difference is positive. We don't want negative age result (for instance a use registered in 2010 and gave 2014 as their age/birthyear, which would result in 2010 - 2014 = -4):"
   ]
  },
  {
   "cell_type": "code",
   "execution_count": 223,
   "metadata": {
    "collapsed": false
   },
   "outputs": [
    {
     "name": "stderr",
     "output_type": "stream",
     "text": [
      "C:\\Users\\Rustam\\Anaconda3\\lib\\site-packages\\ipykernel\\__main__.py:1: SettingWithCopyWarning: \n",
      "A value is trying to be set on a copy of a slice from a DataFrame\n",
      "\n",
      "See the caveats in the documentation: http://pandas.pydata.org/pandas-docs/stable/indexing.html#indexing-view-versus-copy\n",
      "  if __name__ == '__main__':\n"
     ]
    }
   ],
   "source": [
    "df.age[(df.age >= 1920) & (df.age < df.date_account_created.dt.year)] = \\\n",
    "    df.date_account_created[(df.age >= 1920) & (df.age < df.date_account_created.dt.year)].dt.year - \\\n",
    "                     df.age[(df.age >= 1920) & (df.age < df.date_account_created.dt.year)]"
   ]
  },
  {
   "cell_type": "markdown",
   "metadata": {},
   "source": [
    "Let's take a look at the age value counts below age 18 and above age 85 now: "
   ]
  },
  {
   "cell_type": "code",
   "execution_count": 356,
   "metadata": {
    "collapsed": false
   },
   "outputs": [
    {
     "name": "stdout",
     "output_type": "stream",
     "text": [
      "age\n",
      "16.0     39\n",
      "17.0     81\n",
      "18.0    824\n",
      "Name: age, dtype: int64\n"
     ]
    },
    {
     "data": {
      "text/plain": [
       "age\n",
       "85.0    35\n",
       "86.0    35\n",
       "87.0    37\n",
       "88.0    18\n",
       "89.0    18\n",
       "90.0    24\n",
       "Name: age, dtype: int64"
      ]
     },
     "execution_count": 356,
     "metadata": {},
     "output_type": "execute_result"
    }
   ],
   "source": [
    "age_counts = df.age.groupby(df.age).count()\n",
    "print(age_counts[:18])\n",
    "age_counts[85:]"
   ]
  },
  {
   "cell_type": "markdown",
   "metadata": {},
   "source": [
    "Here, I will make a subjective judgement that, people younger than 16 and older than 90 wouldn't be travelling and booking apartments on AirBnB. Perhaps, I could stretch to 15 - 95 range, but that will only be adding 145 observations (too small a value to make big difference, I suppose)."
   ]
  },
  {
   "cell_type": "code",
   "execution_count": 250,
   "metadata": {
    "collapsed": false
   },
   "outputs": [
    {
     "name": "stderr",
     "output_type": "stream",
     "text": [
      "C:\\Users\\Rustam\\Anaconda3\\lib\\site-packages\\ipykernel\\__main__.py:1: SettingWithCopyWarning: \n",
      "A value is trying to be set on a copy of a slice from a DataFrame\n",
      "\n",
      "See the caveats in the documentation: http://pandas.pydata.org/pandas-docs/stable/indexing.html#indexing-view-versus-copy\n",
      "  if __name__ == '__main__':\n",
      "C:\\Users\\Rustam\\Anaconda3\\lib\\site-packages\\ipykernel\\__main__.py:2: SettingWithCopyWarning: \n",
      "A value is trying to be set on a copy of a slice from a DataFrame\n",
      "\n",
      "See the caveats in the documentation: http://pandas.pydata.org/pandas-docs/stable/indexing.html#indexing-view-versus-copy\n",
      "  from ipykernel import kernelapp as app\n"
     ]
    }
   ],
   "source": [
    "df.age[df.age < 16] = np.nan\n",
    "df.age[df.age > 90] = np.nan"
   ]
  },
  {
   "cell_type": "markdown",
   "metadata": {},
   "source": [
    "Let's take a look at the age distribution by binning the __`age`__ variable:"
   ]
  },
  {
   "cell_type": "code",
   "execution_count": 352,
   "metadata": {
    "collapsed": false
   },
   "outputs": [
    {
     "data": {
      "image/png": "[encoded data removed]",
      "text/plain": [
       "<matplotlib.figure.Figure at 0x2ce2d834f98>"
      ]
     },
     "metadata": {},
     "output_type": "display_data"
    },
    {
     "data": {
      "text/plain": [
       "count    155751.000000\n",
       "mean         35.982517\n",
       "std          11.467154\n",
       "min          16.000000\n",
       "25%          28.000000\n",
       "50%          33.000000\n",
       "75%          42.000000\n",
       "max          90.000000\n",
       "Name: age, dtype: float64"
      ]
     },
     "execution_count": 352,
     "metadata": {},
     "output_type": "execute_result"
    }
   ],
   "source": [
    "bins = [df.age.min(), 20, 25, 30, 35, 40, 45, 50, 55, 60, 65, df.age.max()]\n",
    "df['age_cats'] = pd.cut(df.age, bins)\n",
    "plt.clf()\n",
    "df['age_cats'].value_counts(sort=0).plot(kind='bar', color='g', alpha=0.4)\n",
    "plt.tight_layout()\n",
    "plt.title('Age distribution')\n",
    "plt.xlabel('Age')\n",
    "plt.grid()\n",
    "plt.show()\n",
    "df['age'].describe()"
   ]
  },
  {
   "cell_type": "markdown",
   "metadata": {},
   "source": [
    "The __`age`__ feature is now fixed and we can see from above that half of the users had ages between 28 and 42 (interquartile range)."
   ]
  },
  {
   "cell_type": "markdown",
   "metadata": {},
   "source": [
    "Let's take a look at other variables in the data:"
   ]
  },
  {
   "cell_type": "code",
   "execution_count": 337,
   "metadata": {
    "collapsed": false
   },
   "outputs": [
    {
     "data": {
      "text/html": [
       "<div>\n",
       "<table border=\"1\" class=\"dataframe\">\n",
       "  <thead>\n",
       "    <tr style=\"text-align: right;\">\n",
       "      <th></th>\n",
       "      <th>id</th>\n",
       "      <th>affiliate_channel</th>\n",
       "      <th>affiliate_provider</th>\n",
       "      <th>age</th>\n",
       "      <th>date_account_created</th>\n",
       "      <th>first_affiliate_tracked</th>\n",
       "      <th>first_browser</th>\n",
       "      <th>first_device_type</th>\n",
       "      <th>gender</th>\n",
       "      <th>language</th>\n",
       "      <th>signup_app</th>\n",
       "      <th>signup_flow</th>\n",
       "      <th>signup_method</th>\n",
       "      <th>timestamp_first_active</th>\n",
       "      <th>country_destination</th>\n",
       "      <th>age_cats</th>\n",
       "    </tr>\n",
       "  </thead>\n",
       "  <tbody>\n",
       "    <tr>\n",
       "      <th>count</th>\n",
       "      <td>275547</td>\n",
       "      <td>275547</td>\n",
       "      <td>275547</td>\n",
       "      <td>155751.000000</td>\n",
       "      <td>275547</td>\n",
       "      <td>269462</td>\n",
       "      <td>275547</td>\n",
       "      <td>275547</td>\n",
       "      <td>275547</td>\n",
       "      <td>275547</td>\n",
       "      <td>275547</td>\n",
       "      <td>275547.000000</td>\n",
       "      <td>275547</td>\n",
       "      <td>275547</td>\n",
       "      <td>213451</td>\n",
       "      <td>155712</td>\n",
       "    </tr>\n",
       "    <tr>\n",
       "      <th>unique</th>\n",
       "      <td>275547</td>\n",
       "      <td>8</td>\n",
       "      <td>18</td>\n",
       "      <td>NaN</td>\n",
       "      <td>1726</td>\n",
       "      <td>7</td>\n",
       "      <td>55</td>\n",
       "      <td>9</td>\n",
       "      <td>4</td>\n",
       "      <td>26</td>\n",
       "      <td>4</td>\n",
       "      <td>NaN</td>\n",
       "      <td>4</td>\n",
       "      <td>275547</td>\n",
       "      <td>12</td>\n",
       "      <td>11</td>\n",
       "    </tr>\n",
       "    <tr>\n",
       "      <th>top</th>\n",
       "      <td>9digp6zuov</td>\n",
       "      <td>direct</td>\n",
       "      <td>direct</td>\n",
       "      <td>NaN</td>\n",
       "      <td>2014-07-23 00:00:00</td>\n",
       "      <td>untracked</td>\n",
       "      <td>Chrome</td>\n",
       "      <td>Mac Desktop</td>\n",
       "      <td>-unknown-</td>\n",
       "      <td>en</td>\n",
       "      <td>Web</td>\n",
       "      <td>NaN</td>\n",
       "      <td>basic</td>\n",
       "      <td>2012-11-02 18:18:42</td>\n",
       "      <td>NDF</td>\n",
       "      <td>(25, 30]</td>\n",
       "    </tr>\n",
       "    <tr>\n",
       "      <th>freq</th>\n",
       "      <td>1</td>\n",
       "      <td>181571</td>\n",
       "      <td>181270</td>\n",
       "      <td>NaN</td>\n",
       "      <td>1105</td>\n",
       "      <td>143181</td>\n",
       "      <td>78671</td>\n",
       "      <td>106328</td>\n",
       "      <td>129480</td>\n",
       "      <td>265538</td>\n",
       "      <td>219918</td>\n",
       "      <td>NaN</td>\n",
       "      <td>198222</td>\n",
       "      <td>1</td>\n",
       "      <td>124543</td>\n",
       "      <td>37253</td>\n",
       "    </tr>\n",
       "    <tr>\n",
       "      <th>first</th>\n",
       "      <td>NaN</td>\n",
       "      <td>NaN</td>\n",
       "      <td>NaN</td>\n",
       "      <td>NaN</td>\n",
       "      <td>2010-01-01 00:00:00</td>\n",
       "      <td>NaN</td>\n",
       "      <td>NaN</td>\n",
       "      <td>NaN</td>\n",
       "      <td>NaN</td>\n",
       "      <td>NaN</td>\n",
       "      <td>NaN</td>\n",
       "      <td>NaN</td>\n",
       "      <td>NaN</td>\n",
       "      <td>2009-03-19 04:32:55</td>\n",
       "      <td>NaN</td>\n",
       "      <td>NaN</td>\n",
       "    </tr>\n",
       "    <tr>\n",
       "      <th>last</th>\n",
       "      <td>NaN</td>\n",
       "      <td>NaN</td>\n",
       "      <td>NaN</td>\n",
       "      <td>NaN</td>\n",
       "      <td>2014-09-30 00:00:00</td>\n",
       "      <td>NaN</td>\n",
       "      <td>NaN</td>\n",
       "      <td>NaN</td>\n",
       "      <td>NaN</td>\n",
       "      <td>NaN</td>\n",
       "      <td>NaN</td>\n",
       "      <td>NaN</td>\n",
       "      <td>NaN</td>\n",
       "      <td>2014-09-30 23:59:01</td>\n",
       "      <td>NaN</td>\n",
       "      <td>NaN</td>\n",
       "    </tr>\n",
       "    <tr>\n",
       "      <th>mean</th>\n",
       "      <td>NaN</td>\n",
       "      <td>NaN</td>\n",
       "      <td>NaN</td>\n",
       "      <td>35.982517</td>\n",
       "      <td>NaN</td>\n",
       "      <td>NaN</td>\n",
       "      <td>NaN</td>\n",
       "      <td>NaN</td>\n",
       "      <td>NaN</td>\n",
       "      <td>NaN</td>\n",
       "      <td>NaN</td>\n",
       "      <td>4.291965</td>\n",
       "      <td>NaN</td>\n",
       "      <td>NaN</td>\n",
       "      <td>NaN</td>\n",
       "      <td>NaN</td>\n",
       "    </tr>\n",
       "    <tr>\n",
       "      <th>std</th>\n",
       "      <td>NaN</td>\n",
       "      <td>NaN</td>\n",
       "      <td>NaN</td>\n",
       "      <td>11.467154</td>\n",
       "      <td>NaN</td>\n",
       "      <td>NaN</td>\n",
       "      <td>NaN</td>\n",
       "      <td>NaN</td>\n",
       "      <td>NaN</td>\n",
       "      <td>NaN</td>\n",
       "      <td>NaN</td>\n",
       "      <td>8.794313</td>\n",
       "      <td>NaN</td>\n",
       "      <td>NaN</td>\n",
       "      <td>NaN</td>\n",
       "      <td>NaN</td>\n",
       "    </tr>\n",
       "    <tr>\n",
       "      <th>min</th>\n",
       "      <td>NaN</td>\n",
       "      <td>NaN</td>\n",
       "      <td>NaN</td>\n",
       "      <td>16.000000</td>\n",
       "      <td>NaN</td>\n",
       "      <td>NaN</td>\n",
       "      <td>NaN</td>\n",
       "      <td>NaN</td>\n",
       "      <td>NaN</td>\n",
       "      <td>NaN</td>\n",
       "      <td>NaN</td>\n",
       "      <td>0.000000</td>\n",
       "      <td>NaN</td>\n",
       "      <td>NaN</td>\n",
       "      <td>NaN</td>\n",
       "      <td>NaN</td>\n",
       "    </tr>\n",
       "    <tr>\n",
       "      <th>25%</th>\n",
       "      <td>NaN</td>\n",
       "      <td>NaN</td>\n",
       "      <td>NaN</td>\n",
       "      <td>28.000000</td>\n",
       "      <td>NaN</td>\n",
       "      <td>NaN</td>\n",
       "      <td>NaN</td>\n",
       "      <td>NaN</td>\n",
       "      <td>NaN</td>\n",
       "      <td>NaN</td>\n",
       "      <td>NaN</td>\n",
       "      <td>0.000000</td>\n",
       "      <td>NaN</td>\n",
       "      <td>NaN</td>\n",
       "      <td>NaN</td>\n",
       "      <td>NaN</td>\n",
       "    </tr>\n",
       "    <tr>\n",
       "      <th>50%</th>\n",
       "      <td>NaN</td>\n",
       "      <td>NaN</td>\n",
       "      <td>NaN</td>\n",
       "      <td>33.000000</td>\n",
       "      <td>NaN</td>\n",
       "      <td>NaN</td>\n",
       "      <td>NaN</td>\n",
       "      <td>NaN</td>\n",
       "      <td>NaN</td>\n",
       "      <td>NaN</td>\n",
       "      <td>NaN</td>\n",
       "      <td>0.000000</td>\n",
       "      <td>NaN</td>\n",
       "      <td>NaN</td>\n",
       "      <td>NaN</td>\n",
       "      <td>NaN</td>\n",
       "    </tr>\n",
       "    <tr>\n",
       "      <th>75%</th>\n",
       "      <td>NaN</td>\n",
       "      <td>NaN</td>\n",
       "      <td>NaN</td>\n",
       "      <td>42.000000</td>\n",
       "      <td>NaN</td>\n",
       "      <td>NaN</td>\n",
       "      <td>NaN</td>\n",
       "      <td>NaN</td>\n",
       "      <td>NaN</td>\n",
       "      <td>NaN</td>\n",
       "      <td>NaN</td>\n",
       "      <td>1.000000</td>\n",
       "      <td>NaN</td>\n",
       "      <td>NaN</td>\n",
       "      <td>NaN</td>\n",
       "      <td>NaN</td>\n",
       "    </tr>\n",
       "    <tr>\n",
       "      <th>max</th>\n",
       "      <td>NaN</td>\n",
       "      <td>NaN</td>\n",
       "      <td>NaN</td>\n",
       "      <td>90.000000</td>\n",
       "      <td>NaN</td>\n",
       "      <td>NaN</td>\n",
       "      <td>NaN</td>\n",
       "      <td>NaN</td>\n",
       "      <td>NaN</td>\n",
       "      <td>NaN</td>\n",
       "      <td>NaN</td>\n",
       "      <td>25.000000</td>\n",
       "      <td>NaN</td>\n",
       "      <td>NaN</td>\n",
       "      <td>NaN</td>\n",
       "      <td>NaN</td>\n",
       "    </tr>\n",
       "  </tbody>\n",
       "</table>\n",
       "</div>"
      ],
      "text/plain": [
       "                id affiliate_channel affiliate_provider            age  \\\n",
       "count       275547            275547             275547  155751.000000   \n",
       "unique      275547                 8                 18            NaN   \n",
       "top     9digp6zuov            direct             direct            NaN   \n",
       "freq             1            181571             181270            NaN   \n",
       "first          NaN               NaN                NaN            NaN   \n",
       "last           NaN               NaN                NaN            NaN   \n",
       "mean           NaN               NaN                NaN      35.982517   \n",
       "std            NaN               NaN                NaN      11.467154   \n",
       "min            NaN               NaN                NaN      16.000000   \n",
       "25%            NaN               NaN                NaN      28.000000   \n",
       "50%            NaN               NaN                NaN      33.000000   \n",
       "75%            NaN               NaN                NaN      42.000000   \n",
       "max            NaN               NaN                NaN      90.000000   \n",
       "\n",
       "       date_account_created first_affiliate_tracked first_browser  \\\n",
       "count                275547                  269462        275547   \n",
       "unique                 1726                       7            55   \n",
       "top     2014-07-23 00:00:00               untracked        Chrome   \n",
       "freq                   1105                  143181         78671   \n",
       "first   2010-01-01 00:00:00                     NaN           NaN   \n",
       "last    2014-09-30 00:00:00                     NaN           NaN   \n",
       "mean                    NaN                     NaN           NaN   \n",
       "std                     NaN                     NaN           NaN   \n",
       "min                     NaN                     NaN           NaN   \n",
       "25%                     NaN                     NaN           NaN   \n",
       "50%                     NaN                     NaN           NaN   \n",
       "75%                     NaN                     NaN           NaN   \n",
       "max                     NaN                     NaN           NaN   \n",
       "\n",
       "       first_device_type     gender language signup_app    signup_flow  \\\n",
       "count             275547     275547   275547     275547  275547.000000   \n",
       "unique                 9          4       26          4            NaN   \n",
       "top          Mac Desktop  -unknown-       en        Web            NaN   \n",
       "freq              106328     129480   265538     219918            NaN   \n",
       "first                NaN        NaN      NaN        NaN            NaN   \n",
       "last                 NaN        NaN      NaN        NaN            NaN   \n",
       "mean                 NaN        NaN      NaN        NaN       4.291965   \n",
       "std                  NaN        NaN      NaN        NaN       8.794313   \n",
       "min                  NaN        NaN      NaN        NaN       0.000000   \n",
       "25%                  NaN        NaN      NaN        NaN       0.000000   \n",
       "50%                  NaN        NaN      NaN        NaN       0.000000   \n",
       "75%                  NaN        NaN      NaN        NaN       1.000000   \n",
       "max                  NaN        NaN      NaN        NaN      25.000000   \n",
       "\n",
       "       signup_method timestamp_first_active country_destination  age_cats  \n",
       "count         275547                 275547              213451    155712  \n",
       "unique             4                 275547                  12        11  \n",
       "top            basic    2012-11-02 18:18:42                 NDF  (25, 30]  \n",
       "freq          198222                      1              124543     37253  \n",
       "first            NaN    2009-03-19 04:32:55                 NaN       NaN  \n",
       "last             NaN    2014-09-30 23:59:01                 NaN       NaN  \n",
       "mean             NaN                    NaN                 NaN       NaN  \n",
       "std              NaN                    NaN                 NaN       NaN  \n",
       "min              NaN                    NaN                 NaN       NaN  \n",
       "25%              NaN                    NaN                 NaN       NaN  \n",
       "50%              NaN                    NaN                 NaN       NaN  \n",
       "75%              NaN                    NaN                 NaN       NaN  \n",
       "max              NaN                    NaN                 NaN       NaN  "
      ]
     },
     "execution_count": 337,
     "metadata": {},
     "output_type": "execute_result"
    }
   ],
   "source": [
    "df.describe(include='all')"
   ]
  },
  {
   "cell_type": "markdown",
   "metadata": {},
   "source": [
    "The column __`gender`__ has $4$ unique categories according to the table, and the category with the most observations is `-unknown-`. Let's look at the gender breakdown of the users: "
   ]
  },
  {
   "cell_type": "code",
   "execution_count": 373,
   "metadata": {
    "collapsed": false
   },
   "outputs": [
    {
     "data": {
      "image/png": "[encoded data removed]",
      "text/plain": [
       "<matplotlib.figure.Figure at 0x2ce2d862668>"
      ]
     },
     "metadata": {},
     "output_type": "display_data"
    }
   ],
   "source": [
    "sns.barplot(df.gender.unique(), df.gender.value_counts())\n",
    "plt.ylabel('')\n",
    "plt.tight_layout()\n",
    "plt.show()"
   ]
  },
  {
   "cell_type": "markdown",
   "metadata": {},
   "source": []
  },
  {
   "cell_type": "code",
   "execution_count": 276,
   "metadata": {
    "collapsed": false
   },
   "outputs": [
    {
     "data": {
      "text/plain": [
       "Index(['id', 'affiliate_channel', 'affiliate_provider', 'age',\n",
       "       'date_account_created', 'first_affiliate_tracked', 'first_browser',\n",
       "       'first_device_type', 'gender', 'language', 'signup_app', 'signup_flow',\n",
       "       'signup_method', 'timestamp_first_active', 'country_destination',\n",
       "       'age_cats'],\n",
       "      dtype='object')"
      ]
     },
     "execution_count": 276,
     "metadata": {},
     "output_type": "execute_result"
    }
   ],
   "source": [
    "df.columns\n"
   ]
  },
  {
   "cell_type": "code",
   "execution_count": 360,
   "metadata": {
    "collapsed": false
   },
   "outputs": [
    {
     "data": {
      "image/png": "[encoded data removed]",
      "text/plain": [
       "<matplotlib.figure.Figure at 0x2ce33274f98>"
      ]
     },
     "metadata": {},
     "output_type": "display_data"
    }
   ],
   "source": [
    "accounts_created = pd.DataFrame(df.date_account_created.value_counts())\n",
    "accounts_created.date_account_created.resample('m').sum().plot(label='cumulative number of accounts created', color='g')\n",
    "plt.vlines('2014-06-30', ymin=0, ymax=25000, linestyles='dotted',\n",
    "           label='The date (2014-06-30) when training data ends and test data starts')\n",
    "plt.tight_layout()\n",
    "plt.title('Cumulative number of new AirBnB users')\n",
    "plt.legend(loc='upper left')\n",
    "plt.xlabel('Date account created')\n",
    "plt.show()"
   ]
  },
  {
   "cell_type": "code",
   "execution_count": null,
   "metadata": {
    "collapsed": false
   },
   "outputs": [],
   "source": []
  },
  {
   "cell_type": "code",
   "execution_count": null,
   "metadata": {
    "collapsed": true
   },
   "outputs": [],
   "source": []
  }
 ],
 "metadata": {
  "anaconda-cloud": {},
  "kernelspec": {
   "display_name": "Python [default]",
   "language": "python",
   "name": "python3"
  },
  "language_info": {
   "codemirror_mode": {
    "name": "ipython",
    "version": 3
   },
   "file_extension": ".py",
   "mimetype": "text/x-python",
   "name": "python",
   "nbconvert_exporter": "python",
   "pygments_lexer": "ipython3",
   "version": "3.5.2"
  }
 },
 "nbformat": 4,
 "nbformat_minor": 2
}
